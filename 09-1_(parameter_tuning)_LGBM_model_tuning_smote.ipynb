{
 "cells": [
  {
   "cell_type": "code",
   "execution_count": 2,
   "metadata": {},
   "outputs": [],
   "source": [
    "import numpy as np\n",
    "import pandas as pd\n",
    "import matplotlib.pyplot as plt\n",
    "from IPython.display import display\n",
    "# import seaborn as sns\n",
    "\n",
    "%matplotlib inline\n",
    "\n",
    "import pickle\n",
    "import gzip"
   ]
  },
  {
   "cell_type": "code",
   "execution_count": 3,
   "metadata": {},
   "outputs": [],
   "source": [
    "#train, test split\n",
    "from sklearn.model_selection import GridSearchCV, train_test_split\n",
    "# models\n",
    "from lightgbm import LGBMClassifier\n",
    "from lightgbm import plot_importance\n",
    "import xgboost as xgb\n",
    "from xgboost import plot_importance\n",
    "from sklearn.linear_model import LinearRegression, LogisticRegression\n",
    "from sklearn.ensemble import RandomForestClassifier\n",
    "#evaluation metrics\n",
    "from sklearn.metrics import accuracy_score, precision_score, recall_score, f1_score, classification_report"
   ]
  },
  {
   "cell_type": "code",
   "execution_count": null,
   "metadata": {},
   "outputs": [],
   "source": [
    "# 데이터 불러오기\n",
    "with gzip.open('../preprocessed/final_data.pickle','rb') as f:\n",
    "    final = pickle.load(f)\n",
    "\n",
    "final.head()"
   ]
  },
  {
   "cell_type": "code",
   "execution_count": 5,
   "metadata": {},
   "outputs": [
    {
     "data": {
      "text/plain": [
       "True"
      ]
     },
     "execution_count": 5,
     "metadata": {},
     "output_type": "execute_result"
    }
   ],
   "source": [
    "# final['desired_amount_x'].equals(final['desired_amount_y'])"
   ]
  },
  {
   "cell_type": "code",
   "execution_count": 6,
   "metadata": {},
   "outputs": [],
   "source": [
    "# 같은 column 발견해서 하나 drop\n",
    "final = final.drop(['desired_amount_x'], axis=1)"
   ]
  },
  {
   "cell_type": "code",
   "execution_count": 7,
   "metadata": {},
   "outputs": [],
   "source": [
    "final.rename(columns={'desired_amount_y': 'desired_amount'}, inplace=True)"
   ]
  },
  {
   "cell_type": "code",
   "execution_count": 8,
   "metadata": {},
   "outputs": [
    {
     "data": {
      "text/plain": [
       "[]"
      ]
     },
     "execution_count": 8,
     "metadata": {},
     "output_type": "execute_result"
    }
   ],
   "source": [
    "[col for col in final.columns if \"_x\" in col]"
   ]
  },
  {
   "cell_type": "code",
   "execution_count": 9,
   "metadata": {},
   "outputs": [],
   "source": [
    "final.reset_index(inplace=True)"
   ]
  },
  {
   "cell_type": "code",
   "execution_count": null,
   "metadata": {},
   "outputs": [],
   "source": [
    "final.head()"
   ]
  },
  {
   "cell_type": "code",
   "execution_count": 11,
   "metadata": {},
   "outputs": [],
   "source": [
    "X = final.drop(['is_applied', 'application_id', 'user_id'], axis = 1)\n",
    "y = final['is_applied']"
   ]
  },
  {
   "cell_type": "code",
   "execution_count": 12,
   "metadata": {},
   "outputs": [],
   "source": [
    "# feature별 값의 범위 스케일 해주기\n",
    "\n",
    "# standard scaler (z-score)\n",
    "from sklearn.preprocessing import StandardScaler\n",
    "scaler = StandardScaler()\n",
    "X_scaled = scaler.fit_transform(X)  # X만 본인이 가지고 있는 변수로 넣어주기 (X는 label 없이 only feature만!)"
   ]
  },
  {
   "cell_type": "code",
   "execution_count": 14,
   "metadata": {},
   "outputs": [],
   "source": [
    "# 추후 활용 위해 저장\n",
    "with gzip.open('../preprocessed/scaler.pickle','wb') as f:\n",
    "    pickle.dump(X_scaled, f, pickle.HIGHEST_PROTOCOL)"
   ]
  },
  {
   "cell_type": "code",
   "execution_count": 15,
   "metadata": {},
   "outputs": [],
   "source": [
    "from sklearn.model_selection import train_test_split\n",
    "X_train, X_test, y_train, y_test = train_test_split(X_scaled, y, test_size = 0.3, random_state=777, stratify=y)"
   ]
  },
  {
   "cell_type": "code",
   "execution_count": 16,
   "metadata": {},
   "outputs": [
    {
     "name": "stdout",
     "output_type": "stream",
     "text": [
      "[(0.0, 4535212), (1.0, 248319)]\n"
     ]
    }
   ],
   "source": [
    "# train set 클래스\n",
    "from collections import Counter\n",
    "print(sorted(Counter(y_train).items()))"
   ]
  },
  {
   "cell_type": "code",
   "execution_count": 18,
   "metadata": {},
   "outputs": [
    {
     "name": "stdout",
     "output_type": "stream",
     "text": [
      "num_leaves : 70, max_depth : 10, min_child_samples : 100\n",
      "f1 score with train set: 0.4281930431039405\n",
      "f1 score with test set: 0.42310255157307713\n",
      "f1 score with under: 0.6190302819912537\n",
      "num_leaves : 70, max_depth : 10, min_child_samples : 300\n",
      "f1 score with train set: 0.42821121720829064\n",
      "f1 score with test set: 0.4235359460765995\n",
      "f1 score with under: 0.6187189193201217\n",
      "num_leaves : 70, max_depth : 10, min_child_samples : 500\n",
      "f1 score with train set: 0.4294126537625699\n",
      "f1 score with test set: 0.4242635881845445\n",
      "f1 score with under: 0.6199855511841885\n",
      "num_leaves : 70, max_depth : 15, min_child_samples : 100\n",
      "f1 score with train set: 0.43072676928039955\n",
      "f1 score with test set: 0.4259419360236495\n",
      "f1 score with under: 0.6172350693961411\n",
      "num_leaves : 70, max_depth : 15, min_child_samples : 300\n",
      "f1 score with train set: 0.4313642165305258\n",
      "f1 score with test set: 0.42645316633525654\n",
      "f1 score with under: 0.6175455583427409\n",
      "num_leaves : 70, max_depth : 15, min_child_samples : 500\n",
      "f1 score with train set: 0.4315043452202577\n",
      "f1 score with test set: 0.42616150345749054\n",
      "f1 score with under: 0.617406125052257\n",
      "num_leaves : 70, max_depth : 20, min_child_samples : 100\n",
      "f1 score with train set: 0.4311410550113944\n",
      "f1 score with test set: 0.42592306829021936\n",
      "f1 score with under: 0.6160451744409577\n",
      "num_leaves : 70, max_depth : 20, min_child_samples : 300\n",
      "f1 score with train set: 0.4317390656534872\n",
      "f1 score with test set: 0.42628200626430884\n",
      "f1 score with under: 0.6165806561161347\n",
      "num_leaves : 70, max_depth : 20, min_child_samples : 500\n",
      "f1 score with train set: 0.4317509292338783\n",
      "f1 score with test set: 0.42624319763096863\n",
      "f1 score with under: 0.6168305006100808\n",
      "num_leaves : 70, max_depth : 25, min_child_samples : 100\n",
      "f1 score with train set: 0.4312354978367998\n",
      "f1 score with test set: 0.42657720570173285\n",
      "f1 score with under: 0.6159037117538154\n",
      "num_leaves : 70, max_depth : 25, min_child_samples : 300\n",
      "f1 score with train set: 0.43168231573020677\n",
      "f1 score with test set: 0.42611377270747564\n",
      "f1 score with under: 0.6162555044304083\n",
      "num_leaves : 70, max_depth : 25, min_child_samples : 500\n",
      "f1 score with train set: 0.4320735675462852\n",
      "f1 score with test set: 0.4263740439215576\n",
      "f1 score with under: 0.6161467968850837\n",
      "num_leaves : 90, max_depth : 10, min_child_samples : 100\n",
      "f1 score with train set: 0.4323822124219037\n",
      "f1 score with test set: 0.4249650860752631\n",
      "f1 score with under: 0.623517141379281\n",
      "num_leaves : 90, max_depth : 10, min_child_samples : 300\n",
      "f1 score with train set: 0.432519496886829\n",
      "f1 score with test set: 0.4250904140482117\n",
      "f1 score with under: 0.6231244034362076\n",
      "num_leaves : 90, max_depth : 10, min_child_samples : 500\n",
      "f1 score with train set: 0.43269390619414083\n",
      "f1 score with test set: 0.42540919933730675\n",
      "f1 score with under: 0.6237820733067797\n",
      "num_leaves : 90, max_depth : 15, min_child_samples : 100\n",
      "f1 score with train set: 0.43458619063495924\n",
      "f1 score with test set: 0.42859146533889686\n",
      "f1 score with under: 0.6206930576261006\n",
      "num_leaves : 90, max_depth : 15, min_child_samples : 300\n",
      "f1 score with train set: 0.4349828425588712\n",
      "f1 score with test set: 0.4277905255106695\n",
      "f1 score with under: 0.6209591245574508\n",
      "num_leaves : 90, max_depth : 15, min_child_samples : 500\n",
      "f1 score with train set: 0.4359447698492765\n",
      "f1 score with test set: 0.4288579693009312\n",
      "f1 score with under: 0.6216603289051312\n",
      "num_leaves : 90, max_depth : 20, min_child_samples : 100\n",
      "f1 score with train set: 0.43526213333575536\n",
      "f1 score with test set: 0.42841757737328084\n",
      "f1 score with under: 0.6196077755343472\n",
      "num_leaves : 90, max_depth : 20, min_child_samples : 300\n",
      "f1 score with train set: 0.4358743797249143\n",
      "f1 score with test set: 0.4290016133188829\n",
      "f1 score with under: 0.6202990592194128\n",
      "num_leaves : 90, max_depth : 20, min_child_samples : 500\n",
      "f1 score with train set: 0.4360118822772149\n",
      "f1 score with test set: 0.4289966286270471\n",
      "f1 score with under: 0.6207332708076994\n",
      "num_leaves : 90, max_depth : 25, min_child_samples : 100\n",
      "f1 score with train set: 0.43506156160022297\n",
      "f1 score with test set: 0.4284614569723508\n",
      "f1 score with under: 0.6190346884590187\n",
      "num_leaves : 90, max_depth : 25, min_child_samples : 300\n",
      "f1 score with train set: 0.4359478899115974\n",
      "f1 score with test set: 0.4292745059882888\n",
      "f1 score with under: 0.6196202736358638\n",
      "num_leaves : 90, max_depth : 25, min_child_samples : 500\n",
      "f1 score with train set: 0.4361347481323566\n",
      "f1 score with test set: 0.4292197861829355\n",
      "f1 score with under: 0.6210836379273275\n",
      "num_leaves : 110, max_depth : 10, min_child_samples : 100\n",
      "f1 score with train set: 0.4362620476894022\n",
      "f1 score with test set: 0.42731437211534146\n",
      "f1 score with under: 0.6269241640791535\n",
      "num_leaves : 110, max_depth : 10, min_child_samples : 300\n",
      "f1 score with train set: 0.43593814778551077\n",
      "f1 score with test set: 0.4265195720259474\n",
      "f1 score with under: 0.6277888104603945\n",
      "num_leaves : 110, max_depth : 10, min_child_samples : 500\n",
      "f1 score with train set: 0.4358298034208575\n",
      "f1 score with test set: 0.4268336745754547\n",
      "f1 score with under: 0.6271443907448032\n",
      "num_leaves : 110, max_depth : 15, min_child_samples : 100\n",
      "f1 score with train set: 0.4382648594801823\n",
      "f1 score with test set: 0.4300352846210516\n",
      "f1 score with under: 0.6240996950085866\n",
      "num_leaves : 110, max_depth : 15, min_child_samples : 300\n",
      "f1 score with train set: 0.4383012024621126\n",
      "f1 score with test set: 0.4287305787796041\n",
      "f1 score with under: 0.6249004945768203\n",
      "num_leaves : 110, max_depth : 15, min_child_samples : 500\n",
      "f1 score with train set: 0.43905406915126494\n",
      "f1 score with test set: 0.42947283866671837\n",
      "f1 score with under: 0.6250386863823933\n",
      "num_leaves : 110, max_depth : 20, min_child_samples : 100\n",
      "f1 score with train set: 0.43883893951143854\n",
      "f1 score with test set: 0.43050200568602254\n",
      "f1 score with under: 0.6239786358839619\n",
      "num_leaves : 110, max_depth : 20, min_child_samples : 300\n",
      "f1 score with train set: 0.4399456010296948\n",
      "f1 score with test set: 0.43088618715637933\n",
      "f1 score with under: 0.6246568021068148\n",
      "num_leaves : 110, max_depth : 20, min_child_samples : 500\n",
      "f1 score with train set: 0.4397269947296163\n",
      "f1 score with test set: 0.43030667468430545\n",
      "f1 score with under: 0.6248280109125596\n",
      "num_leaves : 110, max_depth : 25, min_child_samples : 100\n",
      "f1 score with train set: 0.4389521384279648\n",
      "f1 score with test set: 0.43051058795190966\n",
      "f1 score with under: 0.6237726465976997\n",
      "num_leaves : 110, max_depth : 25, min_child_samples : 300\n",
      "f1 score with train set: 0.4395846984898265\n",
      "f1 score with test set: 0.43062571216601414\n",
      "f1 score with under: 0.6238176608671637\n",
      "num_leaves : 110, max_depth : 25, min_child_samples : 500\n",
      "f1 score with train set: 0.4403215155862195\n",
      "f1 score with test set: 0.4312053117234388\n",
      "f1 score with under: 0.625127152980121\n"
     ]
    }
   ],
   "source": [
    "from imblearn.under_sampling import RandomUnderSampler\n",
    "from imblearn.over_sampling import SMOTE\n",
    "\n",
    "# random under sampling 수행 (1:5 비율로)\n",
    "random_under = RandomUnderSampler(sampling_strategy=0.2, random_state=777)\n",
    "X_under, y_under = random_under.fit_resample(X_train, y_train)\n",
    "# SMOTE로 upsampling 진행\n",
    "smote = SMOTE(random_state=777) # SMOTE의 하이퍼파라미터는 default로 사용\n",
    "X_resampled, y_resampled=smote.fit_resample(X_under, y_under)\n",
    "\n",
    "# parameters to test\n",
    "num_leaves = [70, 90, 110]\n",
    "max_depths = [10, 15, 20, 25]\n",
    "min_child_samples = [100, 300, 500]\n",
    "\n",
    "from itertools import product as prod\n",
    "\n",
    "# grid search\n",
    "for leaves, depths, min_child_sample in prod(num_leaves, max_depths, min_child_samples):\n",
    "    model = LGBMClassifier(random_state=777, n_jobs=-1, n_estimators=200, objective='binary', is_unbalance=True,\n",
    "                         num_leaves=leaves, max_depth=depths, min_child_samples=min_child_sample)\n",
    "    model.fit(X_resampled, y_resampled)\n",
    "\n",
    "    y_train_pred_lgbm = model.predict(X_train)\n",
    "    y_under_pred_lgbm = model.predict(X_under)\n",
    "    y_test_pred_lgbm = model.predict(X_test)\n",
    "\n",
    "    print(f'num_leaves : {leaves}, max_depth : {depths}, min_child_samples : {min_child_sample}')\n",
    "    print(f'f1 score with train set: {f1_score(y_train, y_train_pred_lgbm)}')\n",
    "    print(f'f1 score with test set: {f1_score(y_test, y_test_pred_lgbm)}')\n",
    "    print(f'f1 score with under: {f1_score(y_under, y_under_pred_lgbm)}')"
   ]
  },
  {
   "cell_type": "code",
   "execution_count": null,
   "metadata": {},
   "outputs": [],
   "source": []
  }
 ],
 "metadata": {
  "kernelspec": {
   "display_name": "Python 3.8.13 ('ryuvenv': conda)",
   "language": "python",
   "name": "python3"
  },
  "language_info": {
   "codemirror_mode": {
    "name": "ipython",
    "version": 3
   },
   "file_extension": ".py",
   "mimetype": "text/x-python",
   "name": "python",
   "nbconvert_exporter": "python",
   "pygments_lexer": "ipython3",
   "version": "3.8.13"
  },
  "orig_nbformat": 4,
  "vscode": {
   "interpreter": {
    "hash": "db4a054fa3485500d815f3fdd1ed0c3e4f2427f3103f3684095f07e4b5b8fabd"
   }
  }
 },
 "nbformat": 4,
 "nbformat_minor": 2
}
