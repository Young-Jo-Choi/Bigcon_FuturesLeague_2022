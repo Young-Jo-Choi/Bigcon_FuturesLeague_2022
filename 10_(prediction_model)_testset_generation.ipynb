{
 "cells": [
  {
   "cell_type": "code",
   "execution_count": 1,
   "metadata": {},
   "outputs": [],
   "source": [
    "import pandas as pd\n",
    "import numpy as np\n",
    "import os\n",
    "from _utils import utils, transforming, filling"
   ]
  },
  {
   "cell_type": "markdown",
   "metadata": {},
   "source": [
    "# 유저 특성"
   ]
  },
  {
   "cell_type": "code",
   "execution_count": 2,
   "metadata": {},
   "outputs": [],
   "source": [
    "mapping_dict = utils.load_pickle('../preprocessed/mapping_dict.pickle')"
   ]
  },
  {
   "cell_type": "code",
   "execution_count": null,
   "metadata": {},
   "outputs": [],
   "source": [
    "list(mapping_dict.keys())[:4]"
   ]
  },
  {
   "cell_type": "code",
   "execution_count": 24,
   "metadata": {},
   "outputs": [],
   "source": [
    "# user_spec_filled = pd.read_csv('../preprocessed/user_spec_filled.csv')\n",
    "user_spec_filled_bin = utils.load_pickle('../preprocessed/user_spec_test_bin.pickle')\n"
   ]
  },
  {
   "cell_type": "code",
   "execution_count": 25,
   "metadata": {},
   "outputs": [],
   "source": [
    "user_spec_tr, user_spec_te = utils.split_train_test(user_spec_filled_bin, 'insert_time')\n",
    "del user_spec_filled_bin, user_spec_tr"
   ]
  },
  {
   "cell_type": "code",
   "execution_count": null,
   "metadata": {},
   "outputs": [],
   "source": [
    "user_spec_te.shape"
   ]
  },
  {
   "cell_type": "code",
   "execution_count": 16,
   "metadata": {},
   "outputs": [],
   "source": [
    "submit = pd.read_csv('../BigContest_data_new/데이터분석분야_퓨처스부문_평가데이터.csv')"
   ]
  },
  {
   "cell_type": "code",
   "execution_count": 17,
   "metadata": {},
   "outputs": [],
   "source": [
    "application_id_use = np.intersect1d(user_spec_te['application_id'].values, submit['application_id'].values)"
   ]
  },
  {
   "cell_type": "code",
   "execution_count": 67,
   "metadata": {},
   "outputs": [],
   "source": [
    "user_spec_te_use = user_spec_te[user_spec_te['application_id'].isin(application_id_use)]"
   ]
  },
  {
   "cell_type": "code",
   "execution_count": null,
   "metadata": {},
   "outputs": [],
   "source": [
    "user_spec_te_use.shape"
   ]
  },
  {
   "cell_type": "code",
   "execution_count": 69,
   "metadata": {},
   "outputs": [],
   "source": [
    "final_user_shap = ['income_type', 'employment_type', 'purpose',\n",
    "            'credit_score', 'desired_amount', 'purpose_by_income_type_SWITCHLOAN', \n",
    "            'insert_hour', 'existing_loan_amt', 'existing_loan_amt_by_credit_score_cut_quantile_first', \n",
    "            'existing_loan_cnt', 'income_type', 'desired_amount_by_income_type_std', \n",
    "            'existing_loan_amt_by_purpose_max', 'insert_day', 'gender', 'age', 'insert_month', \n",
    "            'yearly_income_by_houseown_type_mean', 'purpose_by_income_type_BUYCAR', 'employment_type']"
   ]
  },
  {
   "cell_type": "code",
   "execution_count": 70,
   "metadata": {},
   "outputs": [],
   "source": [
    "final_user_shap_temp = pd.Series(final_user_shap)\n",
    "final_user_shap_temp_split = final_user_shap_temp[final_user_shap_temp.str.contains('_by_')]\n",
    "final_user_shap_df = final_user_shap_temp_split.str.split('_by_',expand=True).rename(columns={0:'B',1:'A'})\n",
    "final_user_shap_df['A'] = final_user_shap_df['A'].str.replace('quantile_','quantile')\n",
    "\n",
    "A = final_user_shap_df['A'].str.split('_').str[:-1]\n",
    "static = final_user_shap_df['A'].str.split('_').str[-1]\n",
    "\n",
    "final_user_shap_df['A'] = A.map(lambda x:'_'.join(x))\n",
    "final_user_shap_df['static'] = static.str.replace('quantile','quantile_')"
   ]
  },
  {
   "cell_type": "code",
   "execution_count": null,
   "metadata": {},
   "outputs": [],
   "source": [
    "final_user_shap_df"
   ]
  },
  {
   "cell_type": "code",
   "execution_count": 116,
   "metadata": {},
   "outputs": [],
   "source": [
    "def make_Extracted_feature(se, A_col, B_col, static, mapping_dict = mapping_dict):\n",
    "    if pd.isna(se[A_col]):\n",
    "        return np.nan\n",
    "    else:\n",
    "        temp_map = mapping_dict[(A_col, B_col)][se[A_col]]\n",
    "        return temp_map[static]"
   ]
  },
  {
   "cell_type": "code",
   "execution_count": null,
   "metadata": {},
   "outputs": [],
   "source": [
    "# user_temp = user_spec_te_use.iloc[0]\n",
    "\n",
    "for i in range(final_user_shap_df.shape[0]):\n",
    "    final_shap_temp = final_user_shap_df.iloc[i]\n",
    "    A_col = final_shap_temp['A']\n",
    "    B_col = final_shap_temp['B']\n",
    "    static = final_shap_temp['static']\n",
    "    colname = f'{B_col}_by_{A_col}_{static}'\n",
    "    f = lambda x:make_Extracted_feature(x, A_col=A_col, B_col=B_col, static=static)\n",
    "\n",
    "    user_spec_te_use[colname] = user_spec_te_use.apply(f, axis=1)\n",
    "\n"
   ]
  },
  {
   "cell_type": "code",
   "execution_count": null,
   "metadata": {},
   "outputs": [],
   "source": [
    "final_user_shap = ['income_type', 'employment_type', 'purpose',\n",
    "            'credit_score', 'desired_amount', 'purpose_by_income_type_SWITCHLOAN', \n",
    "            'insert_hour', 'existing_loan_amt', 'existing_loan_amt_by_credit_score_cut_quantile_first', \n",
    "            'existing_loan_cnt', 'income_type', 'desired_amount_by_income_type_std', \n",
    "            'existing_loan_amt_by_purpose_max', 'insert_day', 'gender', 'age', 'insert_month', \n",
    "            'yearly_income_by_houseown_type_mean', 'purpose_by_income_type_BUYCAR', 'employment_type']\n",
    "np.setdiff1d(final_user_shap,user_spec_te_use.columns.tolist())"
   ]
  },
  {
   "cell_type": "code",
   "execution_count": null,
   "metadata": {},
   "outputs": [],
   "source": [
    "insert_time = pd.to_datetime(user_spec_te_use['insert_time'])\n",
    "user_spec_te_use.loc[:,'insert_day'] = insert_time.dt.day\n",
    "user_spec_te_use.loc[:,'insert_hour'] = insert_time.dt.hour\n",
    "user_spec_te_use.loc[:,'insert_month'] = insert_time.dt.month\n"
   ]
  },
  {
   "cell_type": "code",
   "execution_count": 188,
   "metadata": {},
   "outputs": [],
   "source": [
    "user_features_model = user_spec_te_use[['application_id', 'user_id']+final_user_shap]"
   ]
  },
  {
   "cell_type": "code",
   "execution_count": null,
   "metadata": {},
   "outputs": [],
   "source": [
    "user_features_model.head()"
   ]
  },
  {
   "cell_type": "code",
   "execution_count": null,
   "metadata": {},
   "outputs": [],
   "source": [
    "# 검증\n",
    "user_spec_te_use.iloc[15]"
   ]
  },
  {
   "cell_type": "code",
   "execution_count": null,
   "metadata": {},
   "outputs": [],
   "source": [
    "mapping_dict[('income_type','purpose')][user_spec_te_use.iloc[15]['income_type']]"
   ]
  },
  {
   "cell_type": "code",
   "execution_count": null,
   "metadata": {},
   "outputs": [],
   "source": [
    "user_features_model.iloc[15]['purpose_by_income_type_SWITCHLOAN']"
   ]
  },
  {
   "cell_type": "code",
   "execution_count": 268,
   "metadata": {},
   "outputs": [
    {
     "name": "stdout",
     "output_type": "stream",
     "text": [
      "The Object saved in ../preprocessed/user_features_model.pickle.\n"
     ]
    }
   ],
   "source": [
    "utils.save_pickle(user_features_model,'../preprocessed/user_features_model.pickle')"
   ]
  },
  {
   "cell_type": "markdown",
   "metadata": {},
   "source": [
    "# 상품 특성"
   ]
  },
  {
   "cell_type": "code",
   "execution_count": 2,
   "metadata": {},
   "outputs": [],
   "source": [
    "mapping_dict_loan = utils.load_pickle('../preprocessed/mapping_dict_loan.pickle')"
   ]
  },
  {
   "cell_type": "code",
   "execution_count": 3,
   "metadata": {},
   "outputs": [],
   "source": [
    "loan_result = pd.read_csv('../BigContest_data/loan_result.csv')\n",
    "loan_result_tr, loan_result_te = utils.split_train_test(loan_result,'loanapply_insert_time')\n",
    "del loan_result, loan_result_tr"
   ]
  },
  {
   "cell_type": "code",
   "execution_count": 4,
   "metadata": {},
   "outputs": [],
   "source": [
    "submit = pd.read_csv('../BigContest_data_new/데이터분석분야_퓨처스부문_평가데이터.csv')"
   ]
  },
  {
   "cell_type": "code",
   "execution_count": 5,
   "metadata": {},
   "outputs": [],
   "source": [
    "application_id_loan_use = np.intersect1d(loan_result_te['application_id'].values, submit['application_id'].values)\n",
    "product_id_loan_use = np.intersect1d(loan_result_te['product_id'].values, submit['product_id'].values)"
   ]
  },
  {
   "cell_type": "code",
   "execution_count": 6,
   "metadata": {},
   "outputs": [],
   "source": [
    "loan_result_te_use = loan_result_te[(loan_result_te['application_id'].isin(application_id_loan_use) )&(loan_result_te['product_id'].isin(product_id_loan_use))]"
   ]
  },
  {
   "cell_type": "code",
   "execution_count": null,
   "metadata": {},
   "outputs": [],
   "source": [
    "loan_result_te.shape, loan_result_te_use.shape, submit.shape"
   ]
  },
  {
   "cell_type": "code",
   "execution_count": 8,
   "metadata": {},
   "outputs": [],
   "source": [
    "final_loan_shap = ['loan_limit_by_application_id_sum', 'loan_rate', 'loan_limit_per_desired_amount',\n",
    "                        'loan_rate_by_application_id_min', 'loan_limit', 'loan_rate_by_application_id_quantile_first',\n",
    "                        'loan_rate_by_product_id_quantile_first', 'loan_rate_by_application_id_std', 'loan_rate_by_product_id_min',\n",
    "                        'loan_rate_by_application_id_quantile_second', 'loan_rate_by_application_id_mean',\n",
    "                        'loan_rate_by_application_id_max', 'desired_amount', 'loan_rate_by_bank_id_max', 'loan_rate_by_product_id_std',\n",
    "                        'loan_rate_by_product_id_quantile_second', 'loan_rate_by_product_id_mean', 'loan_rate_by_product_id_quantile_third',\n",
    "                        'loan_rate_by_bank_id_mean', 'loan_rate_by_application_id_quantile_third']"
   ]
  },
  {
   "cell_type": "code",
   "execution_count": 13,
   "metadata": {},
   "outputs": [],
   "source": [
    "final_loan_shap_temp = pd.Series(final_loan_shap)\n",
    "final_loan_shap_temp_split = final_loan_shap_temp[final_loan_shap_temp.str.contains('_by_')]\n",
    "final_loan_shap_df = final_loan_shap_temp_split.str.split('_by_',expand=True).rename(columns={0:'B',1:'A'})\n",
    "final_loan_shap_df['A'] = final_loan_shap_df['A'].str.replace('quantile_','quantile')\n",
    "\n",
    "A = final_loan_shap_df['A'].str.split('_').str[:-1]\n",
    "static = final_loan_shap_df['A'].str.split('_').str[-1]\n",
    "\n",
    "final_loan_shap_df['A'] = A.map(lambda x:'_'.join(x))\n",
    "final_loan_shap_df['static'] = static.str.replace('quantile','quantile_')"
   ]
  },
  {
   "cell_type": "code",
   "execution_count": null,
   "metadata": {},
   "outputs": [],
   "source": [
    "final_loan_shap_df"
   ]
  },
  {
   "cell_type": "code",
   "execution_count": 16,
   "metadata": {},
   "outputs": [],
   "source": [
    "def make_Extracted_feature(se, A_col, B_col, static, mapping_dict):\n",
    "    # bank_id,product_id가 train set에 없으면서 test set에는 존재하는 경우가 있으므로 nan으로 채운다.\n",
    "    if pd.isna(se[A_col]) | (se[A_col] not in mapping_dict[(A_col, B_col)].keys()):\n",
    "        return np.nan\n",
    "    else:\n",
    "        temp_map = mapping_dict[(A_col, B_col)][se[A_col]]\n",
    "        return temp_map[static]"
   ]
  },
  {
   "cell_type": "code",
   "execution_count": null,
   "metadata": {},
   "outputs": [],
   "source": [
    "# user_temp = user_spec_te_use.iloc[0]\n",
    "\n",
    "for i in range(final_loan_shap_df.shape[0]):\n",
    "    final_shap_temp = final_loan_shap_df.iloc[i]\n",
    "    A_col = final_shap_temp['A']\n",
    "    if A_col == 'application_id':\n",
    "        continue\n",
    "    B_col = final_shap_temp['B']\n",
    "    static = final_shap_temp['static']\n",
    "    colname = f'{B_col}_by_{A_col}_{static}'\n",
    "    f = lambda x:make_Extracted_feature(x, A_col=A_col, B_col=B_col, static=static, mapping_dict=mapping_dict_loan)\n",
    "\n",
    "    loan_result_te_use[colname] = loan_result_te_use.apply(f, axis=1)"
   ]
  },
  {
   "cell_type": "code",
   "execution_count": null,
   "metadata": {},
   "outputs": [],
   "source": [
    "# application_id에 따른 매칭은 test data set 내에서 통꼐값을 다시 추출한다.\n",
    "loan_result_te_use_copy = loan_result_te_use.copy()\n",
    "for i in range(final_loan_shap_df.shape[0]):\n",
    "    \n",
    "    temp_loan = final_loan_shap_df.iloc[i]\n",
    "    A = temp_loan['A']\n",
    "    \n",
    "    if A != 'application_id':\n",
    "        continue\n",
    "        \n",
    "    B = temp_loan['B']\n",
    "    static = temp_loan['static']\n",
    "    static_func = static\n",
    "    if static == 'quantile_first':\n",
    "        static_func = lambda x:x.quantile(0.25)\n",
    "    elif static == 'quantile_second':\n",
    "        static_func = 'median'\n",
    "    elif static == 'quantile_third':\n",
    "        static_func = lambda x:x.quantile(0.75)\n",
    "        \n",
    "    col_name = f\"{B}_by_{A}_{static}\"\n",
    "    loan_result_te_static = loan_result_te_use_copy[[A,B]]\n",
    "    loan_result_te_use_copy[col_name] = loan_result_te_static.groupby(A)[B].transform(static_func)\n",
    "    print(col_name, ' completed')\n",
    "    "
   ]
  },
  {
   "cell_type": "code",
   "execution_count": null,
   "metadata": {},
   "outputs": [],
   "source": [
    "np.setdiff1d(final_loan_shap_temp, loan_result_te_use_copy.columns.tolist())"
   ]
  },
  {
   "cell_type": "code",
   "execution_count": 34,
   "metadata": {},
   "outputs": [],
   "source": [
    "loan_result_te_use_copy = pd.merge(loan_result_te_use_copy,user_spec_te[['application_id','desired_amount']], on='application_id', how='left' )"
   ]
  },
  {
   "cell_type": "code",
   "execution_count": null,
   "metadata": {},
   "outputs": [],
   "source": [
    "loan_result_te_use_copy['desired_amount'].isnull().sum()"
   ]
  },
  {
   "cell_type": "code",
   "execution_count": 37,
   "metadata": {},
   "outputs": [],
   "source": [
    "desired_amount = loan_result_te_use_copy['desired_amount']"
   ]
  },
  {
   "cell_type": "code",
   "execution_count": null,
   "metadata": {},
   "outputs": [],
   "source": [
    "(desired_amount==0).sum()"
   ]
  },
  {
   "cell_type": "code",
   "execution_count": null,
   "metadata": {},
   "outputs": [],
   "source": [
    "desired_amount[desired_amount==0]=np.nan"
   ]
  },
  {
   "cell_type": "code",
   "execution_count": null,
   "metadata": {},
   "outputs": [],
   "source": [
    "desired_amount.isnull().sum()"
   ]
  },
  {
   "cell_type": "code",
   "execution_count": 41,
   "metadata": {},
   "outputs": [],
   "source": [
    "loan_result_te_use_copy['loan_limit_per_desired_amount'] = loan_result_te_use_copy['loan_limit']/desired_amount"
   ]
  },
  {
   "cell_type": "code",
   "execution_count": null,
   "metadata": {},
   "outputs": [],
   "source": [
    "loan_result_te_use_copy['loan_limit_per_desired_amount'].isnull().sum()"
   ]
  },
  {
   "cell_type": "code",
   "execution_count": null,
   "metadata": {},
   "outputs": [],
   "source": [
    "np.setdiff1d(final_loan_shap_temp, loan_result_te_use_copy.columns.tolist())"
   ]
  },
  {
   "cell_type": "code",
   "execution_count": 45,
   "metadata": {},
   "outputs": [],
   "source": [
    "loan_features_model = loan_result_te_use_copy[['application_id','product_id'] + final_loan_shap]"
   ]
  },
  {
   "cell_type": "code",
   "execution_count": null,
   "metadata": {},
   "outputs": [],
   "source": [
    "np.setdiff1d(final_loan_shap_temp, loan_features_model.columns.tolist())"
   ]
  },
  {
   "cell_type": "code",
   "execution_count": 47,
   "metadata": {},
   "outputs": [
    {
     "name": "stdout",
     "output_type": "stream",
     "text": [
      "The Object saved in ../preprocessed/loan_features_model.pickle.\n"
     ]
    }
   ],
   "source": [
    "utils.save_pickle(loan_features_model,'../preprocessed/loan_features_model.pickle')"
   ]
  },
  {
   "cell_type": "markdown",
   "metadata": {},
   "source": [
    "# 두 데이터 병합"
   ]
  },
  {
   "cell_type": "code",
   "execution_count": 12,
   "metadata": {},
   "outputs": [],
   "source": [
    "user_features_model = utils.load_pickle('../preprocessed/user_features_model.pickle')\n",
    "loan_features_model = utils.load_pickle('../preprocessed/loan_features_model.pickle')\n",
    "submit = pd.read_csv('../BigContest_data_new/데이터분석분야_퓨처스부문_평가데이터.csv')"
   ]
  },
  {
   "cell_type": "code",
   "execution_count": null,
   "metadata": {},
   "outputs": [],
   "source": [
    "loan_features_model.head()"
   ]
  },
  {
   "cell_type": "code",
   "execution_count": 26,
   "metadata": {},
   "outputs": [],
   "source": [
    "loan_features_model['bank_id'] = loan_result_te_use['bank_id'].reset_index(drop=True)"
   ]
  },
  {
   "cell_type": "code",
   "execution_count": null,
   "metadata": {},
   "outputs": [],
   "source": [
    "user_features_model.shape, loan_features_model.shape, submit.shape"
   ]
  },
  {
   "cell_type": "code",
   "execution_count": null,
   "metadata": {},
   "outputs": [],
   "source": [
    "np.setdiff1d(user_features_model['application_id'], loan_features_model['application_id'])"
   ]
  },
  {
   "cell_type": "code",
   "execution_count": null,
   "metadata": {},
   "outputs": [],
   "source": [
    "np.setdiff1d(loan_features_model['application_id'],user_features_model['application_id'])"
   ]
  },
  {
   "cell_type": "code",
   "execution_count": null,
   "metadata": {},
   "outputs": [],
   "source": [
    "user_features_model.isnull().sum()"
   ]
  },
  {
   "cell_type": "code",
   "execution_count": null,
   "metadata": {},
   "outputs": [],
   "source": [
    "loan_features_model.isnull().sum()"
   ]
  },
  {
   "cell_type": "code",
   "execution_count": 41,
   "metadata": {},
   "outputs": [],
   "source": [
    "testSet = pd.merge(user_features_model, loan_features_model, on='application_id', how='right')"
   ]
  },
  {
   "cell_type": "code",
   "execution_count": null,
   "metadata": {},
   "outputs": [],
   "source": [
    "testSet.shape"
   ]
  },
  {
   "cell_type": "code",
   "execution_count": null,
   "metadata": {},
   "outputs": [],
   "source": [
    "# desired_amount_x, desired_amount_y는 0을 nan으로 처리하여 나누기 에러를 없애며 생긴 차이이므로 desired_amount_x만 남기면 된다.\n",
    "testSet.isnull().sum()"
   ]
  },
  {
   "cell_type": "code",
   "execution_count": 47,
   "metadata": {},
   "outputs": [],
   "source": [
    "testSet.drop('desired_amount_y',axis=1,inplace=True)\n",
    "testSet.rename(columns = {'desired_amount_x':'desired_amount'},inplace=True)"
   ]
  },
  {
   "cell_type": "code",
   "execution_count": 48,
   "metadata": {},
   "outputs": [
    {
     "name": "stdout",
     "output_type": "stream",
     "text": [
      "The Object saved in ../preprocessed/testSet.pickle.\n"
     ]
    }
   ],
   "source": [
    "utils.save_pickle(testSet, '../preprocessed/testSet.pickle')"
   ]
  },
  {
   "cell_type": "code",
   "execution_count": null,
   "metadata": {},
   "outputs": [],
   "source": []
  }
 ],
 "metadata": {
  "kernelspec": {
   "display_name": "Python 3",
   "language": "python",
   "name": "python3"
  },
  "language_info": {
   "codemirror_mode": {
    "name": "ipython",
    "version": 3
   },
   "file_extension": ".py",
   "mimetype": "text/x-python",
   "name": "python",
   "nbconvert_exporter": "python",
   "pygments_lexer": "ipython3",
   "version": "3.8.5"
  }
 },
 "nbformat": 4,
 "nbformat_minor": 4
}
