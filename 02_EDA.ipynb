{
 "cells": [
  {
   "cell_type": "code",
   "execution_count": 1,
   "metadata": {},
   "outputs": [],
   "source": [
    "import os\n",
    "import pandas as pd\n",
    "import numpy as np\n",
    "import matplotlib.pyplot as plt\n",
    "import seaborn as sns\n",
    "from IPython.display import display\n",
    "import pickle\n",
    "import gzip\n",
    "import time\n",
    "from warnings import filterwarnings\n",
    "filterwarnings('ignore')\n",
    "from _utils import utils, transforming, filling\n",
    "\n",
    "data = ['../BigContest_data/' + file for file in os.listdir('../BigContest_data')]"
   ]
  },
  {
   "cell_type": "code",
   "execution_count": 2,
   "metadata": {},
   "outputs": [],
   "source": [
    "# 보간으로 채워넣은 데이터\n",
    "concat_log = pd.read_csv('../preprocessed/concat_log.csv')\n",
    "user_spec = pd.read_csv('../preprocessed/user_spec_filled.csv')\n",
    "loan_result = pd.read_csv(data[2])"
   ]
  },
  {
   "cell_type": "code",
   "execution_count": 3,
   "metadata": {},
   "outputs": [],
   "source": [
    "# 가설검정 및 EDA는 test data(6월)를 제외한 train data만으로 하기로 한다.\n",
    "user_spec_train, _ = utils.split_train_test(user_spec, 'insert_time')\n",
    "loan_result_train, _ = utils.split_train_test(loan_result, 'loanapply_insert_time')"
   ]
  },
  {
   "attachments": {},
   "cell_type": "markdown",
   "metadata": {},
   "source": [
    "# 가설 확인\n",
    "## 가설 1.\n",
    "- 중금리 대출신청하는 핀다 주요고객은 신용이 부족한 사람, 이미 시중은행에서 신용대출을 이미 최대로 받은 사람일 확률이 높을 것이다.\n",
    "### 1-1\n",
    "- 사회초년생, 저신용점수자, 비정기소득자 등 신용이 부족한 사람일수록 대출비교 신청이 많을 것이다.\n",
    "### 1-2\n",
    "- 이미 시중은행 대출을 최대한도로 사용한 사람 즉, 기대출 건수 및 기대출 금액이 큰 사람일수록 대출비교신청이 많을 것이다."
   ]
  },
  {
   "cell_type": "code",
   "execution_count": null,
   "metadata": {},
   "outputs": [],
   "source": [
    "print(f'신용점수 평균 : ',user_spec_train['credit_score'].mean() )\n",
    "print(f'신용점수 중앙값 : ',user_spec_train['credit_score'].median() )\n",
    "fig, ax = plt.subplots(1,2)\n",
    "user_spec_train['credit_score'].plot(kind='box', ax=ax[0])\n",
    "user_spec_train['existing_loan_amt'].plot(kind='box', ax=ax[1])"
   ]
  },
  {
   "cell_type": "code",
   "execution_count": 36,
   "metadata": {},
   "outputs": [],
   "source": [
    "applied_application_id = loan_result_train.query('is_applied==1')['application_id'].unique()\n",
    "user_spec_train['is_applied'] = user_spec_train['application_id'].map(lambda x:1 if x in applied_application_id else 0)"
   ]
  },
  {
   "cell_type": "code",
   "execution_count": 47,
   "metadata": {},
   "outputs": [],
   "source": [
    "company_enter_period = 2022-pd.to_datetime(user_spec_train['company_enter_month'].map(utils.make_date_format)).dt.year"
   ]
  },
  {
   "cell_type": "code",
   "execution_count": null,
   "metadata": {},
   "outputs": [],
   "source": [
    "cond1 = company_enter_period <= 1 \n",
    "cond2 = (company_enter_period <= 3) | (company_enter_period > 1)\n",
    "cond3 = company_enter_period > 3\n",
    "\n",
    "print('1년차 이하')\n",
    "display(user_spec_train.loc[cond1,'is_applied'].value_counts(normalize=True))\n",
    "print('3년차 이하')\n",
    "display(user_spec_train.loc[cond2,'is_applied'].value_counts(normalize=True))\n",
    "print('그외')\n",
    "display(user_spec_train.loc[cond3,'is_applied'].value_counts(normalize=True))"
   ]
  },
  {
   "cell_type": "code",
   "execution_count": null,
   "metadata": {},
   "outputs": [],
   "source": [
    "credit_score_cut = pd.cut(user_spec_train['credit_score'], range(0,1100,100), labels=np.arange(0,1000,100)+1)\n",
    "credit_score_cut = credit_score_cut.astype(object)\n",
    "user_spec_train.groupby(credit_score_cut)['is_applied'].apply(lambda x:x.value_counts(normalize=True)).unstack(level=1)"
   ]
  },
  {
   "cell_type": "code",
   "execution_count": null,
   "metadata": {},
   "outputs": [],
   "source": [
    "user_spec_train.groupby('income_type')['is_applied'].apply(lambda x:x.value_counts(normalize=True)).unstack(level=1)"
   ]
  },
  {
   "attachments": {},
   "cell_type": "markdown",
   "metadata": {},
   "source": [
    "## 가설 2.\n",
    "- 대출 목적별로 대출희망금액이 상이할 것이다.\n",
    "### 2-1\n",
    "- 대출목적별 대출희망 금액 분포에 차이가 있을 것이다.\n",
    "- 대출목적별로 대출희망 금액이 평균에 가까울수록 대출비교신청이 많을 것이다."
   ]
  },
  {
   "cell_type": "code",
   "execution_count": null,
   "metadata": {},
   "outputs": [],
   "source": [
    "mapping = {'생활비':'LIVING','대환대출':'SWITCHLOAN','기타':'ETC','투자':'INVEST',\n",
    "          '사업자금':'BUSINESS','자동차구입':'BUYCAR','전월세보증금':'HOUSEDEPOSIT','주택구입':'BUYHOUSE'}\n",
    "user_spec_train['purpose'] = user_spec_train['purpose'].replace(mapping)\n",
    "user_spec_train.groupby('purpose')['desired_amount'].agg(['max','mean','median','min'])\n"
   ]
  },
  {
   "cell_type": "code",
   "execution_count": null,
   "metadata": {},
   "outputs": [],
   "source": [
    "sns.boxplot(data=user_spec_train, x='purpose', y='desired_amount')\n",
    "plt.yscale('log')\n",
    "plt.xticks(rotation =90)"
   ]
  },
  {
   "attachments": {},
   "cell_type": "markdown",
   "metadata": {},
   "source": [
    "## 가설 3.\n",
    "- 금리가 낮을수록 대출신청률이 높을 것이다."
   ]
  },
  {
   "cell_type": "code",
   "execution_count": null,
   "metadata": {},
   "outputs": [],
   "source": [
    "loan_result_train.head()"
   ]
  },
  {
   "cell_type": "code",
   "execution_count": null,
   "metadata": {},
   "outputs": [],
   "source": [
    "sns.boxplot(data=loan_result_train, x = 'is_applied', y = 'loan_rate')"
   ]
  },
  {
   "attachments": {},
   "cell_type": "markdown",
   "metadata": {},
   "source": [
    "## 가설 4.\n",
    "- 대출희망 금액을 최대한 맞출 수 있도록 대출한도를 조합하여 대출신청을 할 것이다.<br>\n",
    "(즉, 대출신청한 경우 신청한 상품들의 대출한도 합계가 대출희망금액과 유사할 것이다.)"
   ]
  },
  {
   "cell_type": "code",
   "execution_count": 60,
   "metadata": {},
   "outputs": [],
   "source": [
    "loan_result_train = pd.merge(loan_result_train,user_spec_train[['application_id','desired_amount']], on='application_id', how='left')"
   ]
  },
  {
   "cell_type": "code",
   "execution_count": 75,
   "metadata": {},
   "outputs": [],
   "source": [
    "loan_result_train['ratio'] = loan_result_train['loan_limit'] / loan_result_train['desired_amount'].replace(0, np.nan)"
   ]
  },
  {
   "cell_type": "code",
   "execution_count": 77,
   "metadata": {},
   "outputs": [],
   "source": [
    "loan_temp = loan_result_train.query('is_applied==1')\n",
    "loan_desired_amount_sum = loan_temp.groupby('application_id')['loan_limit'].sum()"
   ]
  },
  {
   "cell_type": "code",
   "execution_count": null,
   "metadata": {},
   "outputs": [],
   "source": [
    "print(f'비율의 평균 : {loan_result_train[\"ratio\"].mean()}')\n",
    "pd.concat([loan_desired_amount_sum,loan_temp.groupby('application_id')['desired_amount'].mean(),\n",
    "          loan_temp.groupby('application_id')['ratio'].mean()],axis=1).head()\n"
   ]
  },
  {
   "attachments": {},
   "cell_type": "markdown",
   "metadata": {},
   "source": [
    "## 가설 5.\n",
    "- 은행에 대한 선호도가 대출신청 여부에 영향을 줄 것이다.<br>\n",
    "(즉, 은행별 CVR\\*에 차이가 있을 것이다.)\n",
    "\n",
    "(\\*CVR : Conversion Rate = 대출신청횟수 / 대출비교노출횟수)"
   ]
  },
  {
   "cell_type": "code",
   "execution_count": null,
   "metadata": {},
   "outputs": [],
   "source": [
    "(loan_result.query('is_applied==1').groupby('bank_id')['application_id'].count() / loan_result['bank_id'].value_counts().sort_index()).sort_values(ascending=False)"
   ]
  },
  {
   "attachments": {},
   "cell_type": "markdown",
   "metadata": {},
   "source": [
    "## 가설 6.\n",
    "- 특정 서비스 이용률이 높을수록 대출신청률도 높을 것이다.\n",
    "- \\~~한 행동을 하면 대출 신청을 하는지 보기 위함\n",
    "- 마지막 is_applied_Y 이후의 데이터는 지워주지만 applied가 아예 없는 경우는 남김"
   ]
  },
  {
   "cell_type": "code",
   "execution_count": null,
   "metadata": {},
   "outputs": [],
   "source": [
    "def slice_last_is_applied(x):\n",
    "    x_list = x.tolist()\n",
    "    if 'is_applied_Y' in x_list:\n",
    "        last_index = lambda x:len(x)-x[::-1].index('is_applied_Y')-1\n",
    "        return x.iloc[:last_index(x_list)+1].tolist()\n",
    "    else:\n",
    "        return x_list\n",
    "temp1 = concat_log.groupby('user_id')['event'].agg(slice_last_is_applied)\n",
    "temp2 = temp1.explode().reset_index()\n",
    "temp2['temp'] = 1\n",
    "event_count = temp2.groupby(['user_id','event']).count()\n",
    "\n",
    "pattern_search = event_count.reset_index().pivot(index='user_id',columns='event',values='temp')\n",
    "pattern_binary = pattern_search.applymap(lambda x:1 if x>=1 else 0)\n",
    "pattern_binary.head()"
   ]
  },
  {
   "cell_type": "code",
   "execution_count": null,
   "metadata": {},
   "outputs": [],
   "source": [
    "# jacard : 겹치는 비율이 이 정도 된다.\n",
    "# recall : 대출 승인 받은 사람 중 이 정도 비율의 사람들은 해당 행동을 했다.\n",
    "# precision : 해당 행동을 한 사람들 중에 이 정도 비율로 대출 승인을 받았다.\n",
    "\n",
    "from sklearn.metrics import jaccard_score,recall_score, precision_score\n",
    "pd.concat([\n",
    "        pattern_binary.apply(lambda x:jaccard_score(x,pattern_binary['is_applied_Y']),axis=0),\n",
    "        pattern_binary.apply(lambda x:recall_score(pattern_binary['is_applied_Y'],x),axis=0),\n",
    "        pattern_binary.apply(lambda x:precision_score(pattern_binary['is_applied_Y'],x),axis=0)\n",
    "    ],axis=1).rename(columns = {0:'jaccard',1:'recall',2:'precision'})"
   ]
  },
  {
   "attachments": {},
   "cell_type": "markdown",
   "metadata": {},
   "source": [
    "# 주요 is_applied 시간대"
   ]
  },
  {
   "cell_type": "code",
   "execution_count": 91,
   "metadata": {},
   "outputs": [],
   "source": [
    "is_applied1 = pd.to_datetime(loan_result_train.query('is_applied==1')['loanapply_insert_time'])\n",
    "is_applied0 = pd.to_datetime(loan_result_train.query('is_applied==0')['loanapply_insert_time'])"
   ]
  },
  {
   "cell_type": "code",
   "execution_count": null,
   "metadata": {},
   "outputs": [],
   "source": [
    "# 월별 대출 신청 비율\n",
    "pd.concat([\n",
    "    is_applied1.dt.month.value_counts(normalize=True).rename('신청O 비율'),\n",
    "    is_applied0.dt.month.value_counts(normalize=True).rename('신청X 비율'),\n",
    "    is_applied1.dt.month.value_counts(normalize=False).rename('신청O 건수').map(utils.split_comma),\n",
    "    is_applied0.dt.month.value_counts(normalize=False).rename('신청X 건수').map(utils.split_comma)\n",
    "],axis=1).sort_index()"
   ]
  },
  {
   "cell_type": "code",
   "execution_count": null,
   "metadata": {},
   "outputs": [],
   "source": [
    "# 일별 대출 신청 비율\n",
    "pd.concat([is_applied1.dt.day.value_counts(normalize=True).rename('Y'),\n",
    "           is_applied0.dt.day.value_counts(normalize=True).rename('N')\n",
    "          ],axis=1).sort_index().plot(kind='bar')\n",
    "plt.xlabel('day')\n",
    "plt.ylabel('ratio')\n",
    "plt.show()"
   ]
  },
  {
   "cell_type": "code",
   "execution_count": null,
   "metadata": {},
   "outputs": [],
   "source": [
    "# 요일별 대출 신청 비율\n",
    "pd.concat([is_applied1.dt.weekday.value_counts(normalize=True).rename('Y'),\n",
    "           is_applied0.dt.weekday.value_counts(normalize=True).rename('N')\n",
    "          ],axis=1).sort_index().plot(kind='bar')\n",
    "plt.xlabel('weekday')\n",
    "plt.ylabel('ratio')\n",
    "plt.xticks(range(7),labels = ['Monday','Tuesday','Wednesday','Thursday','Friday','Saturday','Sunday'])\n",
    "plt.show()"
   ]
  },
  {
   "cell_type": "code",
   "execution_count": null,
   "metadata": {},
   "outputs": [],
   "source": [
    "# 시간대별 대출 신청 비율\n",
    "timestamp = pd.to_datetime(loan_result_train['loanapply_insert_time'])\n",
    "timestamp_int = timestamp.dt.hour + timestamp.dt.minute/60 + timestamp.dt.second/3600\n",
    "sns.violinplot(x=loan_result_train['is_applied'],y=timestamp_int.rename('timestamp'), scale='area')\n",
    "plt.xticks(range(2),labels=['Y','N'])\n",
    "plt.show()"
   ]
  },
  {
   "cell_type": "code",
   "execution_count": null,
   "metadata": {},
   "outputs": [],
   "source": [
    "# 월,일,시간,분,초 모두 고려한 전 기간\n",
    "timestamp_all = timestamp.dt.month + (timestamp.dt.day + (timestamp.dt.hour + timestamp.dt.minute/60 + timestamp.dt.second/3600)/24)/30\n",
    "sns.violinplot(x=loan_result_train['is_applied'],y=timestamp_all.rename('timestamp'), scale='area')\n",
    "plt.xticks(range(2),labels=['Y','N'])\n",
    "plt.show()"
   ]
  },
  {
   "attachments": {},
   "cell_type": "markdown",
   "metadata": {},
   "source": [
    "# EDA 추가\n",
    "\n",
    "- 연소득\n",
    "- 대출희망금액: 늘 b에 넣기\n",
    "- 대출목적\n",
    "- 기대출금액"
   ]
  },
  {
   "cell_type": "code",
   "execution_count": null,
   "metadata": {},
   "outputs": [],
   "source": [
    "user_spec_train.corr()"
   ]
  },
  {
   "cell_type": "code",
   "execution_count": null,
   "metadata": {},
   "outputs": [],
   "source": [
    "loan_result_train.head()"
   ]
  },
  {
   "cell_type": "code",
   "execution_count": null,
   "metadata": {},
   "outputs": [],
   "source": [
    "user_spec_train.head()"
   ]
  },
  {
   "cell_type": "code",
   "execution_count": 9,
   "metadata": {},
   "outputs": [],
   "source": [
    "df = pd.merge(user_spec_train,loan_result_train[['application_id','is_applied']] , how='inner')"
   ]
  },
  {
   "cell_type": "code",
   "execution_count": null,
   "metadata": {},
   "outputs": [],
   "source": [
    "df.shape"
   ]
  },
  {
   "cell_type": "code",
   "execution_count": 13,
   "metadata": {},
   "outputs": [],
   "source": [
    "df_drop = df.drop_duplicates()"
   ]
  },
  {
   "cell_type": "code",
   "execution_count": null,
   "metadata": {},
   "outputs": [],
   "source": [
    "df_drop.shape"
   ]
  },
  {
   "cell_type": "code",
   "execution_count": null,
   "metadata": {},
   "outputs": [],
   "source": [
    "df_drop.corr()"
   ]
  },
  {
   "cell_type": "code",
   "execution_count": null,
   "metadata": {},
   "outputs": [],
   "source": [
    "cat = ['insert_time', 'income_type', 'employment_type','houseown_type','purpose','gender']\n",
    "con = ['credit_score','yearly_income','desired_amount','personal_rehabilitation_yn', 'personal_rehabilitation_complete_yn', 'existing_loan_cnt','existing_loan_amt']\n",
    "y = 'is_applied'\n",
    "\n",
    "\n",
    "\n",
    "import matplotlib.pyplot as plt\n",
    "import seaborn as sns\n",
    "\n",
    "fig, axes = plt.subplots(3,5,figsize=(15,8))\n",
    "cond = df_drop[y]==1\n",
    "for i, (var,ax) in enumerate(zip(cat+con,axes.ravel())):\n",
    "    if i<=5:\n",
    "        pass\n",
    "    else:\n",
    "        sns.boxplot(data = df_drop, x = 'is_applied', y = var, ax = ax)\n",
    "plt.tight_layout()"
   ]
  },
  {
   "cell_type": "code",
   "execution_count": null,
   "metadata": {},
   "outputs": [],
   "source": []
  }
 ],
 "metadata": {
  "kernelspec": {
   "display_name": "Python 3",
   "language": "python",
   "name": "python3"
  },
  "language_info": {
   "codemirror_mode": {
    "name": "ipython",
    "version": 3
   },
   "file_extension": ".py",
   "mimetype": "text/x-python",
   "name": "python",
   "nbconvert_exporter": "python",
   "pygments_lexer": "ipython3",
   "version": "3.6.8"
  }
 },
 "nbformat": 4,
 "nbformat_minor": 4
}
