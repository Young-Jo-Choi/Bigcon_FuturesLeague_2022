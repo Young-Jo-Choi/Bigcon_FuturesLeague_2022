{
 "cells": [
  {
   "cell_type": "code",
   "execution_count": 1,
   "metadata": {},
   "outputs": [],
   "source": [
    "# 기본 라이브러리 임포트 \n",
    "import os\n",
    "import pandas as pd\n",
    "import numpy as np\n",
    "from IPython.display import display\n",
    "import time\n",
    "\n",
    "# 시각화 라이브러리 임포트\n",
    "import matplotlib\n",
    "import matplotlib.pyplot as plt\n",
    "import seaborn as sns\n",
    "\n",
    "# 피클 관련 라이브러리 임포트\n",
    "import pickle\n",
    "import gzip\n",
    "\n",
    "# 기본 sklearn 모듈 임포트\n",
    "from sklearn.model_selection import train_test_split, cross_val_score, GridSearchCV\n",
    "from sklearn.preprocessing import StandardScaler\n",
    "from sklearn.metrics import classification_report, f1_score\n",
    "\n",
    "# imbalanced data processing 관련 라이브러리 임포트\n",
    "from imblearn.combine import SMOTEENN, SMOTETomek\n",
    "from collections import Counter\n",
    "\n",
    "# XGBoost 관련 모듈 임포트\n",
    "import xgboost as xgb\n",
    "from xgboost import plot_importance\n",
    "\n",
    "%matplotlib inline"
   ]
  },
  {
   "attachments": {},
   "cell_type": "markdown",
   "metadata": {},
   "source": [
    "### shap으로 추출한 변수들만 포함한 user 데이터"
   ]
  },
  {
   "cell_type": "code",
   "execution_count": null,
   "metadata": {},
   "outputs": [],
   "source": [
    "with gzip.open('../preprocessed/user_final.pickle','rb') as f:\n",
    "    user = pickle.load(f)\n",
    "\n",
    "user.head()"
   ]
  },
  {
   "cell_type": "code",
   "execution_count": 4,
   "metadata": {},
   "outputs": [
    {
     "data": {
      "text/plain": [
       "(723526, 326)"
      ]
     },
     "execution_count": 4,
     "metadata": {},
     "output_type": "execute_result"
    }
   ],
   "source": [
    "user.shape"
   ]
  },
  {
   "cell_type": "code",
   "execution_count": null,
   "metadata": {},
   "outputs": [],
   "source": [
    "# 모든 열 이름 표시\n",
    "pd.set_option('display.max_seq_items', None)\n",
    "user.columns"
   ]
  },
  {
   "cell_type": "code",
   "execution_count": 6,
   "metadata": {},
   "outputs": [
    {
     "data": {
      "text/plain": [
       "24"
      ]
     },
     "execution_count": 6,
     "metadata": {},
     "output_type": "execute_result"
    }
   ],
   "source": [
    "# final features for user data (shap으로 추출한 변수)\n",
    "user_shap = ['income_type', 'employment_type', 'houseown_type', 'purpose',\n",
    "            'credit_score', 'desired_amount', 'purpose_by_income_type_SWITCHLOAN', \n",
    "            'insert_hour', 'existing_loan_amt', 'yearly_income', 'existing_loan_amt_by_credit_score_cut_quantile_first', \n",
    "            'company_period', 'existing_loan_cnt', 'income_type', 'desired_amount_by_income_type_std', \n",
    "            'existing_loan_amt_by_purpose_max', 'insert_day', 'gender', 'age', 'insert_month', \n",
    "            'yearly_income_by_houseown_type_mean', 'purpose_by_income_type_BUYCAR', 'employment_type', 'insert_minute']\n",
    "\n",
    "len(user_shap)"
   ]
  },
  {
   "cell_type": "code",
   "execution_count": null,
   "metadata": {},
   "outputs": [],
   "source": [
    "# user 데이터프레임에 shap으로 뽑은 feature, is_applied, 그리고 인덱스로 사용할 열 가져와서 user에 붙이기\n",
    "user = user[user_shap + ['is_applied', 'user_id', 'application_id']]\n",
    "user.head()"
   ]
  },
  {
   "cell_type": "code",
   "execution_count": null,
   "metadata": {},
   "outputs": [],
   "source": [
    "user.shape"
   ]
  },
  {
   "attachments": {},
   "cell_type": "markdown",
   "metadata": {},
   "source": [
    "### log data "
   ]
  },
  {
   "cell_type": "code",
   "execution_count": null,
   "metadata": {},
   "outputs": [],
   "source": [
    "# 군집화 위해 user 테이블과 합칠 log 데이터 불러오기\n",
    "with gzip.open('../preprocessed/log_final.pickle','rb') as f:\n",
    "    log = pickle.load(f)\n",
    "\n",
    "log.head()"
   ]
  },
  {
   "cell_type": "code",
   "execution_count": null,
   "metadata": {},
   "outputs": [],
   "source": [
    "log.columns"
   ]
  },
  {
   "cell_type": "code",
   "execution_count": null,
   "metadata": {},
   "outputs": [],
   "source": [
    "len(log.columns)"
   ]
  },
  {
   "cell_type": "code",
   "execution_count": null,
   "metadata": {},
   "outputs": [],
   "source": [
    "log.shape"
   ]
  },
  {
   "attachments": {},
   "cell_type": "markdown",
   "metadata": {},
   "source": [
    "### merge (user + log)"
   ]
  },
  {
   "cell_type": "code",
   "execution_count": 14,
   "metadata": {},
   "outputs": [],
   "source": [
    "# user 데이터프레임의 인덱스를 'user_id'로 설정\n",
    "user.set_index(['user_id'], inplace=True)"
   ]
  },
  {
   "cell_type": "code",
   "execution_count": 15,
   "metadata": {},
   "outputs": [
    {
     "data": {
      "text/plain": [
       "(723526, 26)"
      ]
     },
     "execution_count": 15,
     "metadata": {},
     "output_type": "execute_result"
    }
   ],
   "source": [
    "user.shape"
   ]
  },
  {
   "cell_type": "code",
   "execution_count": null,
   "metadata": {},
   "outputs": [],
   "source": [
    "# user 데이터 형태\n",
    "user.head()"
   ]
  },
  {
   "cell_type": "code",
   "execution_count": null,
   "metadata": {},
   "outputs": [],
   "source": [
    "# log 데이터 형태\n",
    "log.head()"
   ]
  },
  {
   "cell_type": "code",
   "execution_count": null,
   "metadata": {},
   "outputs": [],
   "source": [
    "# user과 log 합치기\n",
    "merge_user_log = pd.merge(left=user, right=log, left_index=True, right_index=True, how=\"inner\")\n",
    "merge_user_log.head()"
   ]
  },
  {
   "cell_type": "code",
   "execution_count": 28,
   "metadata": {},
   "outputs": [],
   "source": [
    "# 시간 형태 바꿔주기\n",
    "temp_time = merge_user_log['insert_month'].astype(str)+merge_user_log['insert_day'].astype(str)+merge_user_log['insert_hour'].astype(str)+merge_user_log['insert_minute'].astype(str)\n",
    "temp_time = temp_time.astype('int')"
   ]
  },
  {
   "cell_type": "code",
   "execution_count": null,
   "metadata": {},
   "outputs": [],
   "source": [
    "# 바꾼 결과\n",
    "temp_time"
   ]
  },
  {
   "cell_type": "code",
   "execution_count": 29,
   "metadata": {},
   "outputs": [],
   "source": [
    "# 위에서 새로 만든 값들을 merge한 테이블의 'insert_time'으로 추가\n",
    "merge_user_log['insert_time']=temp_time"
   ]
  },
  {
   "cell_type": "code",
   "execution_count": 31,
   "metadata": {},
   "outputs": [],
   "source": [
    "# sort and drop duplicates\n",
    "aa = merge_user_log.reset_index(drop=False).sort_values(['user_id','insert_time']).drop_duplicates(subset=['user_id'], keep='last')"
   ]
  },
  {
   "cell_type": "code",
   "execution_count": 33,
   "metadata": {},
   "outputs": [],
   "source": [
    "# set index and drop column\n",
    "bb = aa.set_index('user_id').drop('insert_time',axis=1)"
   ]
  },
  {
   "cell_type": "code",
   "execution_count": 35,
   "metadata": {},
   "outputs": [
    {
     "data": {
      "text/plain": [
       "(183239, 50)"
      ]
     },
     "execution_count": 35,
     "metadata": {},
     "output_type": "execute_result"
    }
   ],
   "source": [
    "bb.shape"
   ]
  },
  {
   "cell_type": "code",
   "execution_count": 36,
   "metadata": {},
   "outputs": [],
   "source": [
    "# save\n",
    "with gzip.open('../preprocessed/forcluster_final.pickle','wb') as f:\n",
    "    pickle.dump(bb, f, pickle.HIGHEST_PROTOCOL)"
   ]
  }
 ],
 "metadata": {
  "kernelspec": {
   "display_name": "Python 3.8.13 ('ryuvenv': conda)",
   "language": "python",
   "name": "python3"
  },
  "language_info": {
   "codemirror_mode": {
    "name": "ipython",
    "version": 3
   },
   "file_extension": ".py",
   "mimetype": "text/x-python",
   "name": "python",
   "nbconvert_exporter": "python",
   "pygments_lexer": "ipython3",
   "version": "3.8.13"
  },
  "orig_nbformat": 4,
  "vscode": {
   "interpreter": {
    "hash": "db4a054fa3485500d815f3fdd1ed0c3e4f2427f3103f3684095f07e4b5b8fabd"
   }
  }
 },
 "nbformat": 4,
 "nbformat_minor": 2
}
