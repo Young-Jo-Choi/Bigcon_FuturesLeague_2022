{
 "cells": [
  {
   "cell_type": "markdown",
   "id": "ffb77e59-a1fe-4ac7-8ce7-c760d763c388",
   "metadata": {},
   "source": [
    "# 군집별 특성 확인\n",
    "군집별 user_spec, log_result의 feature에 대해 군집별 특성을 분석함\n",
    "- user_spec 대푯값(min, max, std) / age, 입사년차, 월별만 해보기 —> 두드러지는 정보가 있는가\n",
    "- log_result → 변형한 변수에 대한 통계값. 그 변수에 대한\n",
    "- #,#,#(is_applied한 군집) / #, #(is_applied 안 한 군집) label간 데이터 분리\n",
    "- kdeplot → 분포 해석\n",
    "- 군집 해석 및 마켓팅 아이디어 생각필요..!"
   ]
  },
  {
   "cell_type": "markdown",
   "id": "c812917a-c64b-463e-b714-c65c1a88f5de",
   "metadata": {},
   "source": [
    "# 1. user_spec데이터 군집별 분석"
   ]
  },
  {
   "cell_type": "code",
   "execution_count": 1,
   "id": "53d7d078-f9dc-4803-897a-ad7c7dc6ca06",
   "metadata": {},
   "outputs": [],
   "source": [
    "import os\n",
    "import pandas as pd\n",
    "import numpy as np\n",
    "import matplotlib.pyplot as plt\n",
    "import seaborn as sns\n",
    "import pickle\n",
    "import gzip\n",
    "from IPython.display import display\n",
    "from tqdm import tqdm\n",
    "\n",
    "# 그래프에서 마이너스 폰트 깨지는 문제에 대한 대처\n",
    "# matplotlib.rcParams['axes.unicode_minus'] = False\n",
    "plt.rcParams['axes.unicode_minus'] = False\n",
    "\n",
    "import warnings\n",
    "warnings.filterwarnings('ignore')"
   ]
  },
  {
   "cell_type": "code",
   "execution_count": 2,
   "id": "36980e3d-1e60-4198-9882-aa5e0865374c",
   "metadata": {},
   "outputs": [],
   "source": [
    "sns.set(style='white', context='notebook', rc={'figure.figsize':(14,10)})"
   ]
  },
  {
   "cell_type": "code",
   "execution_count": 3,
   "id": "dd5458f0-7e8d-4f78-8015-fe7ee713bdbb",
   "metadata": {},
   "outputs": [],
   "source": [
    "df = pd.read_csv('../processed/5_4_cluster_except.csv')"
   ]
  },
  {
   "cell_type": "code",
   "execution_count": 5,
   "id": "5d528439-574c-4616-96a0-a6b6b418cead",
   "metadata": {},
   "outputs": [],
   "source": [
    "df0 = df[df['label'] == 0]\n",
    "df1 = df[df['label'] == 1]\n",
    "df2 = df[df['label'] == 2]\n",
    "df3 = df[df['label'] == 3]\n",
    "df4 = df[df['label'] == 4]"
   ]
  },
  {
   "cell_type": "code",
   "execution_count": null,
   "id": "6b8af444-77f1-45a2-9cce-b2880193dcf4",
   "metadata": {},
   "outputs": [],
   "source": [
    "df0.columns"
   ]
  },
  {
   "cell_type": "code",
   "execution_count": 21,
   "id": "9c41000b-4f12-48fd-a665-a1e5ccb38646",
   "metadata": {},
   "outputs": [
    {
     "data": {
      "text/plain": [
       "0        0 \n",
       "1        0 \n",
       "2        2 \n",
       "3        2 \n",
       "4        1 \n",
       "         ..\n",
       "107606   0 \n",
       "107607   0 \n",
       "107608   2 \n",
       "107609   0 \n",
       "107610   0 \n",
       "Name: income_type, Length: 107611, dtype: float64"
      ]
     },
     "execution_count": 21,
     "metadata": {},
     "output_type": "execute_result"
    }
   ],
   "source": [
    "df['income_type']"
   ]
  },
  {
   "cell_type": "code",
   "execution_count": 12,
   "id": "52abaf47-6eef-4054-ac0a-ee7cc1b81183",
   "metadata": {},
   "outputs": [],
   "source": [
    "pd.options.display.float_format = '{:.0f}'.format"
   ]
  },
  {
   "cell_type": "code",
   "execution_count": null,
   "id": "4ab24637-2da7-4333-a366-463810984d78",
   "metadata": {},
   "outputs": [],
   "source": [
    "df0.groupby('income_type')['desired_amount'].mean()"
   ]
  },
  {
   "cell_type": "code",
   "execution_count": null,
   "id": "5b742e6a-17a2-460a-af4e-0087cd0586e8",
   "metadata": {},
   "outputs": [],
   "source": [
    "df1.groupby('income_type')['desired_amount'].mean()"
   ]
  },
  {
   "cell_type": "code",
   "execution_count": null,
   "id": "d7f39f09-2676-450d-b796-11097241f862",
   "metadata": {},
   "outputs": [],
   "source": [
    "df2.groupby('income_type')['desired_amount'].mean()"
   ]
  },
  {
   "cell_type": "code",
   "execution_count": null,
   "id": "af0766bf-ceac-4093-863b-e7a2e0ce84fa",
   "metadata": {},
   "outputs": [],
   "source": [
    "df3.groupby('income_type')['desired_amount'].mean()"
   ]
  },
  {
   "cell_type": "code",
   "execution_count": null,
   "id": "e299a126-81ac-4494-99fd-638bb2e4d217",
   "metadata": {},
   "outputs": [],
   "source": [
    "df4.groupby('income_type')['desired_amount'].mean()"
   ]
  },
  {
   "cell_type": "code",
   "execution_count": null,
   "id": "6cd365ce-0a37-4fba-bad5-31373248650a",
   "metadata": {},
   "outputs": [],
   "source": [
    "earned_income = df[df['income_type'] == 5.0]\n",
    "earned_income2 = \n",
    "private = df[df['income_type'] == 5.0]\n",
    "private"
   ]
  },
  {
   "cell_type": "code",
   "execution_count": null,
   "id": "8249b47a-07cc-4eca-9304-922afe844681",
   "metadata": {},
   "outputs": [],
   "source": [
    "'income_type'"
   ]
  },
  {
   "cell_type": "code",
   "execution_count": 4,
   "id": "bfaea9c2-3b98-47b7-b209-a88bf04f02af",
   "metadata": {},
   "outputs": [
    {
     "data": {
      "text/plain": [
       "(107611, 47)"
      ]
     },
     "execution_count": 4,
     "metadata": {},
     "output_type": "execute_result"
    }
   ],
   "source": [
    "df.shape"
   ]
  },
  {
   "cell_type": "code",
   "execution_count": null,
   "id": "8ead6052-a476-40fe-9a9c-93bfa85fe62a",
   "metadata": {},
   "outputs": [],
   "source": [
    "df.head()"
   ]
  },
  {
   "cell_type": "code",
   "execution_count": 6,
   "id": "7e0ea968-6556-4134-9f7e-1f5abd1f7da6",
   "metadata": {},
   "outputs": [
    {
     "data": {
      "text/plain": [
       "label\n",
       "0     9029\n",
       "1    54504\n",
       "2     7762\n",
       "3     8821\n",
       "4    27495\n",
       "Name: user_id, dtype: int64"
      ]
     },
     "execution_count": 6,
     "metadata": {},
     "output_type": "execute_result"
    }
   ],
   "source": [
    "df.groupby('label')['user_id'].count()"
   ]
  },
  {
   "cell_type": "code",
   "execution_count": 6,
   "id": "8ff85b2a-6851-403d-b259-7919ca740d93",
   "metadata": {},
   "outputs": [
    {
     "data": {
      "text/plain": [
       "(107611, 47)"
      ]
     },
     "execution_count": 6,
     "metadata": {},
     "output_type": "execute_result"
    }
   ],
   "source": [
    "df.shape"
   ]
  },
  {
   "cell_type": "code",
   "execution_count": null,
   "id": "28da0bb0-2a1a-4d90-9a13-56ab80c7546d",
   "metadata": {},
   "outputs": [],
   "source": [
    "df.groupby(['label', 'is_applied'])['user_id'].count()"
   ]
  },
  {
   "cell_type": "code",
   "execution_count": 11,
   "id": "5c3c953e-770d-4615-a16a-7106c570e644",
   "metadata": {},
   "outputs": [],
   "source": [
    "df0 = df[df['label'] == 0]\n",
    "df1 = df[df['label'] == 1]\n",
    "df2 = df[df['label'] == 2]\n",
    "df3 = df[df['label'] == 3]\n",
    "df4 = df[df['label'] == 4]"
   ]
  },
  {
   "cell_type": "code",
   "execution_count": null,
   "id": "fe49123e-571f-4a74-8f3c-c378bb13e9fd",
   "metadata": {},
   "outputs": [],
   "source": [
    "not_applied = pd.concat([df2, df3])\n",
    "applied = pd.concat([df0, df1, df4])\n",
    "display(not_applied.head())\n",
    "display(applied.head())"
   ]
  },
  {
   "cell_type": "code",
   "execution_count": null,
   "id": "53a05e93-a139-4033-b131-46dfa27faf40",
   "metadata": {},
   "outputs": [],
   "source": [
    "#not_applied, applied\n",
    "fig, ax=plt.subplots(nrows=1, ncols=2, figsize=(20,5), constrained_layout=True)\n",
    "sns.kdeplot(x = 'is_applied', data = not_applied, hue = 'label', shade = True, palette=['#BB3A32', '#8D6AB7'] , ax = ax[0])\n",
    "sns.kdeplot(x = 'is_applied', data = applied, hue = 'label', shade = True, palette=['#E58537', '#4A76AF', '#5A9D40'], ax = ax[1])\n",
    "#plt.show()\n",
    "plt.savefig('../output/5_91_is_applied.png')"
   ]
  },
  {
   "cell_type": "code",
   "execution_count": null,
   "id": "71aafc93-12aa-4302-8085-6e595617df82",
   "metadata": {},
   "outputs": [],
   "source": [
    "pd.DataFrame(applied.groupby(['label', 'is_applied'])['user_id'].count())"
   ]
  },
  {
   "cell_type": "code",
   "execution_count": null,
   "id": "8f99fcb0-aa56-40f2-8543-b38674574867",
   "metadata": {},
   "outputs": [],
   "source": [
    "pd.DataFrame(not_applied.groupby(['label', 'is_applied'])['user_id'].count())"
   ]
  },
  {
   "cell_type": "code",
   "execution_count": 39,
   "id": "b3e42c96-958a-4383-aa54-c71875c7c071",
   "metadata": {},
   "outputs": [
    {
     "data": {
      "text/plain": [
       "Index(['purpose', 'credit_score', 'desired_amount',\n",
       "       'purpose_by_income_type_SWITCHLOAN', 'insert_hour', 'existing_loan_amt',\n",
       "       'existing_loan_amt_by_credit_score_cut_quantile_first',\n",
       "       'existing_loan_cnt', 'income_type', 'desired_amount_by_income_type_std',\n",
       "       'existing_loan_amt_by_purpose_max', 'insert_day', 'gender', 'age',\n",
       "       'insert_month', 'yearly_income_by_houseown_type_mean',\n",
       "       'purpose_by_income_type_BUYCAR', 'employment_type', 'is_applied',\n",
       "       'CompleteIDCertification_first', 'GetCreditInfo_first',\n",
       "       'UseDSRCalc_first', 'UseLoanManage_first', 'UsePrepayCalc_first',\n",
       "       'is_applied_Y_first', 'CompleteIDCertification_last',\n",
       "       'GetCreditInfo_last', 'UseDSRCalc_last', 'UseLoanManage_last',\n",
       "       'UsePrepayCalc_last', 'is_applied_Y_last', 'timedelta_max',\n",
       "       'timedelta_min', 'timedelta_mean', 'timedelta_std',\n",
       "       'timedelta_quantile_first', 'timedelta_quantile_second',\n",
       "       'timedelta_quantile_third', 'CompleteIDCertification_count',\n",
       "       'GetCreditInfo_count', 'UseDSRCalc_count', 'UseLoanManage_count',\n",
       "       'UsePrepayCalc_count', 'label', 'silhouette_coeff'],\n",
       "      dtype='object')"
      ]
     },
     "execution_count": 39,
     "metadata": {},
     "output_type": "execute_result"
    }
   ],
   "source": [
    "df.columns"
   ]
  },
  {
   "cell_type": "code",
   "execution_count": 6,
   "id": "b7047389-08b4-427d-8c18-4e74c6db3335",
   "metadata": {},
   "outputs": [],
   "source": [
    "cluster_shap_features=['is_applied_Y_last', 'timedelta_max', \n",
    "                       'desired_amount_by_income_type_std', \n",
    "                       'purpose_by_income_type_BUYCAR', 'income_type', \n",
    "                       'purpose_by_income_type_SWITCHLOAN', \n",
    "                       'timedelta_min', 'existing_loan_amt', \n",
    "                       'CompleteIDCertification_count', \n",
    "                       'gender', 'existing_loan_cnt', \n",
    "                       'CompleteIDCertification_first', \n",
    "                       'GetCreditInfo_count', \n",
    "                       'CompleteIDCertification_last', \n",
    "                       'credit_score', 'timedelta_std', \n",
    "                       'GetCreditInfo_last', \n",
    "                       'UseLoanManage_count', \n",
    "                       'timedelta_quantile_third', \n",
    "                       'insert_hour', 'is_applied']"
   ]
  },
  {
   "cell_type": "code",
   "execution_count": 7,
   "id": "4e1f8138-8081-4aeb-9a96-ca8ba3d365ea",
   "metadata": {},
   "outputs": [],
   "source": [
    "category = ['purpose', 'insert_day', 'gender', 'income_type',\n",
    "            'insert_month', 'employment_type']\n",
    "\n",
    "user_spec = ['credit_score', 'desired_amount',\n",
    "       'purpose_by_income_type_SWITCHLOAN', 'existing_loan_amt',\n",
    "       'existing_loan_amt_by_credit_score_cut_quantile_first',\n",
    "       'existing_loan_cnt', 'desired_amount_by_income_type_std',\n",
    "       'existing_loan_amt_by_purpose_max', 'insert_day', 'age',\n",
    "       'yearly_income_by_houseown_type_mean',\n",
    "       'purpose_by_income_type_BUYCAR']\n",
    "\n",
    "log_result = ['UseDSRCalc_first', 'UseLoanManage_first', 'UsePrepayCalc_first',\n",
    "       'is_applied_Y_first', 'CompleteIDCertification_last',\n",
    "       'GetCreditInfo_last', 'UseDSRCalc_last', 'UseLoanManage_last',\n",
    "       'UsePrepayCalc_last', 'is_applied_Y_last', 'timedelta_max',\n",
    "       'timedelta_min', 'timedelta_mean', 'timedelta_std',\n",
    "       'timedelta_quantile_first', 'timedelta_quantile_second',\n",
    "       'timedelta_quantile_third', 'CompleteIDCertification_count',\n",
    "       'GetCreditInfo_count', 'UseDSRCalc_count', 'UseLoanManage_count',\n",
    "       'UsePrepayCalc_count']"
   ]
  },
  {
   "cell_type": "markdown",
   "id": "ae96f07b-b7d8-4eea-8fe9-67f325e17e10",
   "metadata": {},
   "source": [
    "## 1) category변수에 대한 plot"
   ]
  },
  {
   "cell_type": "code",
   "execution_count": 138,
   "id": "aa892cb1-780e-47de-a5bb-823d3eaeffc6",
   "metadata": {},
   "outputs": [],
   "source": [
    "#category변수가 각각 어떤 요소로 이루어져있는지 알아내기\n",
    "import joblib\n",
    "\n",
    "with open('../final_cluster/ordinal_encoder.pickle', 'rb') as f:\n",
    "    ordinal = joblib.load(f)"
   ]
  },
  {
   "cell_type": "code",
   "execution_count": 156,
   "id": "5b36bdda-ce92-4e55-bc3d-237deed764b1",
   "metadata": {},
   "outputs": [
    {
     "data": {
      "text/plain": [
       "[array(['EARNEDINCOME', 'EARNEDINCOME2', 'FREELANCER', 'OTHERINCOME',\n",
       "        'PRACTITIONER', 'PRIVATEBUSINESS'], dtype=object),\n",
       " array(['contract_worker', 'daily_worker', 'etc', 'regular_worker'],\n",
       "       dtype=object),\n",
       " array(['family', 'own', 'rent', 'spouse'], dtype=object),\n",
       " array(['BUSINESS', 'BUYCAR', 'BUYHOUSE', 'ETC', 'HOUSEDEPOSIT', 'INVEST',\n",
       "        'LIVING', 'SWITCHLOAN'], dtype=object)]"
      ]
     },
     "execution_count": 156,
     "metadata": {},
     "output_type": "execute_result"
    }
   ],
   "source": [
    "ordinal.categories_"
   ]
  },
  {
   "cell_type": "markdown",
   "id": "281cf403-0719-4d87-970e-e77101bd45d2",
   "metadata": {},
   "source": [
    "### 1-1) income type"
   ]
  },
  {
   "cell_type": "code",
   "execution_count": 135,
   "id": "b46c1c03-98bf-4cb8-8583-fa590835f690",
   "metadata": {},
   "outputs": [
    {
     "data": {
      "text/plain": [
       "(ModeResult(mode=array([1.]), count=array([5167])),\n",
       " ModeResult(mode=array([0.]), count=array([49574])),\n",
       " ModeResult(mode=array([0.]), count=array([7583])),\n",
       " ModeResult(mode=array([5.]), count=array([8606])),\n",
       " ModeResult(mode=array([0.]), count=array([22690])))"
      ]
     },
     "execution_count": 135,
     "metadata": {},
     "output_type": "execute_result"
    }
   ],
   "source": [
    "# income_type에 대한 각 군집의 막대그래프\n",
    "from scipy.stats import mode\n",
    "mode_list = (mode(df0['income_type']), mode(df1['income_type']), mode(df2['income_type']),mode(df3['income_type']), mode(df4['income_type']))\n",
    "mode_list"
   ]
  },
  {
   "cell_type": "code",
   "execution_count": 15,
   "id": "00cbec4a-0718-4c85-b05f-925b2545ddf0",
   "metadata": {},
   "outputs": [],
   "source": [
    "idf0 = df0.groupby('income_type')['user_id'].count().reset_index()\n",
    "idf1 = df1.groupby('income_type')['user_id'].count().reset_index()\n",
    "idf2 = df2.groupby('income_type')['user_id'].count().reset_index()\n",
    "idf3 = df3.groupby('income_type')['user_id'].count().reset_index()\n",
    "idf4 = df4.groupby('income_type')['user_id'].count().reset_index()"
   ]
  },
  {
   "cell_type": "code",
   "execution_count": null,
   "id": "aa264da5-e356-4365-86fe-561ff80d7401",
   "metadata": {},
   "outputs": [],
   "source": [
    "fig, ax=plt.subplots(nrows=3, ncols=2, figsize=(30,30), constrained_layout=True)\n",
    "sns.barplot(x = 'income_type', y = 'user_id', data = idf0, palette=['#4A76AF', '#E58537', '#5A9D40','#BB3A32', '#8D6AB7'] , ax = ax[0, 0])\n",
    "sns.barplot(x = 'income_type', y = 'user_id', data = idf1, palette=['#4A76AF', '#E58537', '#5A9D40','#BB3A32', '#8D6AB7'] , ax = ax[0, 1])\n",
    "sns.barplot(x = 'income_type', y = 'user_id', data = idf2, palette=['#4A76AF', '#E58537', '#5A9D40','#BB3A32', '#8D6AB7'] , ax = ax[1, 0])\n",
    "sns.barplot(x = 'income_type', y = 'user_id', data = idf3, palette=['#4A76AF', '#E58537', '#5A9D40','#BB3A32', '#8D6AB7'] , ax = ax[1, 1])\n",
    "sns.barplot(x = 'income_type', y = 'user_id', data = idf4, palette=['#4A76AF', '#E58537', '#5A9D40','#BB3A32', '#8D6AB7'] , ax = ax[2, 0])\n",
    "plt.yscale('log')\n",
    "plt.rc('font', size=10)\n",
    "plt.rc('xtick', labelsize=5)  # x축 눈금 폰트 크기 \n",
    "plt.rc('ytick', labelsize=5)  # y축 눈금 폰트 크기\n",
    "plt.show()"
   ]
  },
  {
   "cell_type": "markdown",
   "id": "4404cb3b-2234-4ba7-9f00-2f5f73fb1db9",
   "metadata": {},
   "source": [
    "대출자의 income type은 <br>\n",
    "0번 군집의 경우 ####, ####<br>\n",
    "1번 군집은 ####,<br>\n",
    "2번 군집은 ####,<br>\n",
    "3번 군집은 ####,<br>\n",
    "4번 군집은 ####<br>\n",
    "주로 ####인 사람들로 나타남. 그 중 눈에 띄는 군집은 3번 군집으로 거의 모든 사람이 ####에 속함."
   ]
  },
  {
   "cell_type": "markdown",
   "id": "c7aa410d-409a-425a-a1f6-2ee20ccb33dd",
   "metadata": {},
   "source": [
    "### 1-2) purpose"
   ]
  },
  {
   "cell_type": "code",
   "execution_count": 11,
   "id": "2badeaa0-a7b6-4948-9836-6f0c0b968742",
   "metadata": {},
   "outputs": [],
   "source": [
    "pdf0 = df0.groupby('purpose')['user_id'].count().reset_index()\n",
    "pdf1 = df1.groupby('purpose')['user_id'].count().reset_index()\n",
    "pdf2 = df2.groupby('purpose')['user_id'].count().reset_index()\n",
    "pdf3 = df3.groupby('purpose')['user_id'].count().reset_index()\n",
    "pdf4 = df4.groupby('purpose')['user_id'].count().reset_index()"
   ]
  },
  {
   "cell_type": "code",
   "execution_count": null,
   "id": "fb860b72-2e69-4a32-b361-9120d6db32e3",
   "metadata": {},
   "outputs": [],
   "source": [
    "pdf1"
   ]
  },
  {
   "cell_type": "code",
   "execution_count": 218,
   "id": "4af71691-3c8d-4418-9355-7152cb0eee14",
   "metadata": {},
   "outputs": [
    {
     "data": {
      "text/plain": [
       "232"
      ]
     },
     "execution_count": 218,
     "metadata": {},
     "output_type": "execute_result"
    }
   ],
   "source": [
    "len(df[df['purpose'] == 1])"
   ]
  },
  {
   "cell_type": "code",
   "execution_count": null,
   "id": "b0e439df-22c3-4526-ae92-d7af57f01380",
   "metadata": {},
   "outputs": [],
   "source": [
    "fig, ax=plt.subplots(nrows=3, ncols=2, figsize=(30,30), constrained_layout=True)\n",
    "sns.barplot(x = 'purpose', y = 'user_id', data = pdf0, palette='viridis' , ax = ax[0, 0])\n",
    "sns.barplot(x = 'purpose', y = 'user_id', data = pdf1, palette='viridis' , ax = ax[0, 1])\n",
    "sns.barplot(x = 'purpose', y = 'user_id', data = pdf2, palette='viridis' , ax = ax[1, 0])\n",
    "sns.barplot(x = 'purpose', y = 'user_id', data = pdf3, palette='viridis' , ax = ax[1, 1])\n",
    "sns.barplot(x = 'purpose', y = 'user_id', data = pdf4, palette='viridis' , ax = ax[2, 0])\n",
    "#plt.yscale('log')\n",
    "plt.rc('font', size=20)\n",
    "plt.rc('xtick', labelsize=50)  # x축 눈금 폰트 크기 \n",
    "plt.rc('ytick', labelsize=50)  # y축 눈금 폰트 크기\n",
    "plt.show()"
   ]
  },
  {
   "cell_type": "markdown",
   "id": "65a16b20-aece-4013-9ef4-ad2e9ef14c3b",
   "metadata": {},
   "source": [
    "대출목적은 대체적으로 (#, ###), (#, ####)인 것으로 밝혀졌음. 그 다음 후순위로는 (#, ###), (#, ###)가 있음."
   ]
  },
  {
   "cell_type": "markdown",
   "id": "76a367de-e9fa-441a-8e57-c9647bcf2dcb",
   "metadata": {},
   "source": [
    "### 1-3) gender"
   ]
  },
  {
   "cell_type": "code",
   "execution_count": null,
   "id": "3d312197-7164-447b-9223-20091a46a383",
   "metadata": {},
   "outputs": [],
   "source": [
    "df.groupby('gender')['user_id'].count()"
   ]
  },
  {
   "cell_type": "code",
   "execution_count": null,
   "id": "893152a7-2c31-43d8-a6b8-246758c69998",
   "metadata": {},
   "outputs": [],
   "source": [
    "gdf0 = df0.groupby('gender')['user_id'].count().reset_index()\n",
    "gdf1 = df1.groupby('gender')['user_id'].count().reset_index()\n",
    "gdf2 = df2.groupby('gender')['user_id'].count().reset_index()\n",
    "gdf3 = df3.groupby('gender')['user_id'].count().reset_index()\n",
    "gdf4 = df4.groupby('gender')['user_id'].count().reset_index()\n",
    "\n",
    "display(gdf0)\n",
    "display(gdf1)\n",
    "display(gdf2)\n",
    "display(gdf3)\n",
    "display(gdf4)"
   ]
  },
  {
   "cell_type": "code",
   "execution_count": null,
   "id": "a7823a32-ad5a-44a4-95b7-ba8b5a50febb",
   "metadata": {},
   "outputs": [],
   "source": [
    "fig, ax=plt.subplots(nrows=3, ncols=2, figsize=(30,30), constrained_layout=True)\n",
    "sns.barplot(x = 'gender', y = 'user_id', data = gdf0, palette='viridis' , ax = ax[0, 0])\n",
    "sns.barplot(x = 'gender', y = 'user_id', data = gdf1, palette='viridis' , ax = ax[0, 1])\n",
    "sns.barplot(x = 'gender', y = 'user_id', data = gdf2, palette='viridis' , ax = ax[1, 0])\n",
    "sns.barplot(x = 'gender', y = 'user_id', data = gdf3, palette='viridis' , ax = ax[1, 1])\n",
    "sns.barplot(x = 'gender', y = 'user_id', data = gdf4, palette='viridis' , ax = ax[2, 0])\n",
    "#plt.yscale('log')\n",
    "plt.rc('font', size=20)\n",
    "plt.rc('xtick', labelsize=50)  # x축 눈금 폰트 크기 \n",
    "plt.rc('ytick', labelsize=50)  # y축 눈금 폰트 크기\n",
    "plt.show()"
   ]
  },
  {
   "cell_type": "markdown",
   "id": "1432522d-f996-45b0-a845-547eb48701e6",
   "metadata": {},
   "source": [
    "#####수가 있는 #번, #번, #번 군집에 대해서는 전체적인 경향성과 비슷하게 ##보다 ##이 많은 수로 나타남.<br>\n",
    "<b>이와 달리, #번 군집의 경우에는 대부분이 ##으로(####/####) 특징적인 분포가 나타남.<br></b>\n",
    "#번 군집의 경우 ####없지만 전체적인 경향성과 유사함"
   ]
  },
  {
   "cell_type": "markdown",
   "id": "9e605380-5505-4e43-8d15-6583ee79d33b",
   "metadata": {},
   "source": [
    "### 1-4) 나이대 박스플롯 그리기"
   ]
  },
  {
   "cell_type": "code",
   "execution_count": null,
   "id": "fe44d894-b443-4176-b357-523d9cf0b798",
   "metadata": {},
   "outputs": [],
   "source": [
    "fig,ax = plt.subplots(1,2)\n",
    "sns.violinplot(y='age',x='label',data=df.query('gender==0'), ax=ax[0])\n",
    "sns.violinplot(y='age',x='label',data=df.query('gender==0'), ax=ax[1])\n",
    "\n",
    "plt.suptitle('Age Boxplot')\n",
    "ax[0].set_xticks([0, 1, 2, 3, 4])\n",
    "ax[1].set_yticks([0, 1, 2, 3, 4])\n",
    "plt.rc('axes', labelsize=20)   # x,y축 label 폰트 크기\n",
    "plt.rc('xtick', labelsize=20)  # x축 눈금 폰트 크기 \n",
    "plt.rc('ytick', labelsize=20)  # y축 눈금 폰트 크기\n",
    "plt.show()"
   ]
  },
  {
   "cell_type": "code",
   "execution_count": null,
   "id": "1a798ec6-b49e-4aec-ad65-919a85593cd3",
   "metadata": {},
   "outputs": [],
   "source": [
    "a = sns.violinplot(data = df, x = 'label', \n",
    "               y='age', hue = 'gender', hue_order = [0, 1],\n",
    "              split = True)\n",
    "plt.savefig('../output/5_92_age_violin.png')"
   ]
  },
  {
   "cell_type": "markdown",
   "id": "ade06035-e18a-4cfc-a559-3f6dbb00aa20",
   "metadata": {},
   "source": [
    "### user_spec에 대한 그 외의 변수의 \"대푯값 뽑은 후 막대그래프로 표현"
   ]
  },
  {
   "cell_type": "code",
   "execution_count": null,
   "id": "2e98d7c0-c114-4ede-a593-0ea95193cd23",
   "metadata": {},
   "outputs": [],
   "source": [
    "# user_spec에 대한 대푯값 뽑기\n",
    "pd.options.display.float_format = '{:.0f}'.format\n",
    "grouped_user= df.groupby(['label'])[['desired_amount',\n",
    "       'existing_loan_amt', 'desired_amount_by_income_type_std']]\n",
    "grouped_user3 = grouped_user.agg(['mean', 'median']).reset_index()\n",
    "grouped_user3"
   ]
  },
  {
   "cell_type": "markdown",
   "id": "9f01eabe-4457-42b3-9130-da2500679baa",
   "metadata": {},
   "source": [
    "0번 군집의 희망대출금액은 약 ####만원, 기대출금액의 평균은 약 ####만원, <br>\n",
    "\n",
    "1번 군집의 희망대출금액은 약 ####만원, 기대출금액의 평균은 약 ####만원, <br>\n",
    "\n",
    "2번 군집의 희망대출금액은 약 ####만원, 기대출금액의 평균은 약 ####만원, <br>\n",
    "\n",
    "3번 군집의 희망대출금액은 약 ####만원, 기대출금액의 평균은 약 ####만원, <br>\n",
    "\n",
    "4번 군집의 희망대출금액은 약 ####만원, 기대출금액의 평균은 약 ####만원, <br>\n"
   ]
  },
  {
   "cell_type": "code",
   "execution_count": null,
   "id": "83a66c00-1da3-403a-bf6e-ce0aeb13fd7d",
   "metadata": {},
   "outputs": [],
   "source": [
    "# user_spec에 대한 대푯값 뽑기\n",
    "pd.options.display.float_format = '{:.0f}'.format\n",
    "grouped_user= df.groupby(['label'])[['credit_score',\n",
    "       'purpose_by_income_type_SWITCHLOAN',\n",
    "       'existing_loan_amt_by_credit_score_cut_quantile_first',\n",
    "       'existing_loan_cnt','existing_loan_amt_by_purpose_max', \n",
    "       'insert_day', 'age', 'yearly_income_by_houseown_type_mean',\n",
    "       'purpose_by_income_type_BUYCAR']]\n",
    "grouped_user3 = grouped_user.agg(['mean', 'median']).reset_index()\n",
    "grouped_user3"
   ]
  },
  {
   "cell_type": "code",
   "execution_count": null,
   "id": "86e558c4-a2eb-46c8-8d93-2342e884694d",
   "metadata": {},
   "outputs": [],
   "source": [
    "# MultiIndex 컬럼을 평탄화 하는 함수\n",
    "def flat_cols(df):\n",
    "    df.columns = ['/'.join(x) for x in df.columns.to_flat_index()]\n",
    "    return df\n",
    "\n",
    "# 컬럼별 다른 통계량 산출\n",
    "grouped_user2 = df.groupby('label').agg({'desired_amount': ['mean', 'median'],\n",
    "                       'existing_loan_amt': ['mean', 'median'],\n",
    "                       'desired_amount_by_income_type_std': ['mean', 'median']}).pipe(flat_cols).reset_index()\n",
    "grouped_user2"
   ]
  },
  {
   "cell_type": "code",
   "execution_count": null,
   "id": "d03e9222-ba11-4ab9-8511-caf9c01f4931",
   "metadata": {},
   "outputs": [],
   "source": [
    "# 어떻게 하면 plot을 구할 수 있지?\n",
    "fig, ax=plt.subplots(nrows=3, ncols=2, figsize=(30,30), constrained_layout=True)\n",
    "sns.barplot(x = 'label', y = 'desired_amount/mean', data = grouped_user2, palette=['#4A76AF', '#E58537', '#5A9D40','#BB3A32', '#8D6AB7'] , ax = ax[0, 0])\n",
    "sns.barplot(x = 'label', y = 'desired_amount/median', data = grouped_user2, palette=['#4A76AF', '#E58537', '#5A9D40','#BB3A32', '#8D6AB7'] , ax = ax[0, 1])\n",
    "sns.barplot(x = 'label', y = 'existing_loan_amt/mean', data = grouped_user2, palette=['#4A76AF', '#E58537', '#5A9D40','#BB3A32', '#8D6AB7'] , ax = ax[1, 0])\n",
    "sns.barplot(x = 'label', y = 'existing_loan_amt/mean', data = grouped_user2, palette=['#4A76AF', '#E58537', '#5A9D40','#BB3A32', '#8D6AB7'] , ax = ax[1, 1])\n",
    "sns.barplot(x = 'label', y = 'desired_amount_by_income_type_std/mean', data = grouped_user2, palette=['#4A76AF', '#E58537', '#5A9D40','#BB3A32', '#8D6AB7'] , ax = ax[2, 0])\n",
    "sns.barplot(x = 'label', y = 'desired_amount_by_income_type_std/median', data = grouped_user2, palette=['#4A76AF', '#E58537', '#5A9D40','#BB3A32', '#8D6AB7'] , ax = ax[2, 1])\n",
    "plt.yscale('log')\n",
    "plt.rc('font', size=20)\n",
    "plt.rc('axes', labelsize=20)   # x,y축 label 폰트 크기\n",
    "plt.show()"
   ]
  },
  {
   "cell_type": "code",
   "execution_count": null,
   "id": "b1fc1931-0e42-4207-9ccb-bcd674818fb6",
   "metadata": {},
   "outputs": [],
   "source": [
    "# purpose_by_income_type_SWITCHLOAN\n",
    "#not_applied, applied\n",
    "fig, ax=plt.subplots(nrows=1, ncols=2, figsize=(20,5), constrained_layout=True)\n",
    "sns.kdeplot(x = 'purpose_by_income_type_SWITCHLOAN', data = not_applied, hue = 'label', shade = True, palette=['#BB3A32', '#8D6AB7'] , ax = ax[0])\n",
    "sns.kdeplot(x = 'purpose_by_income_type_SWITCHLOAN', data = applied, hue = 'label', shade = True, palette=['#E58537', '#4A76AF', '#5A9D40'], ax = ax[1])\n",
    "plt.rc('font', size=40)\n",
    "#plt.rc('xtick', labelsize=30)  # x축 눈금 폰트 크기 \n",
    "#plt.rc('ytick', labelsize=30)  # y축 눈금 폰트 크기\n",
    "plt.show()"
   ]
  },
  {
   "cell_type": "markdown",
   "id": "b2158cbd-f4f2-43b6-ab64-59bb57ce8f4f",
   "metadata": {},
   "source": [
    "## 2. log_result 데이터에 대한 분석"
   ]
  },
  {
   "cell_type": "code",
   "execution_count": null,
   "id": "b5fa2943-1606-405f-8281-cb379f6510be",
   "metadata": {},
   "outputs": [],
   "source": [
    "# log_result에 대한 대푯값 뽑기\n",
    "pd.options.display.float_format = '{:.5f}'.format\n",
    "pd.set_option('display.max_columns', None)\n",
    "grouped_user= df.groupby(['label'])[['timedelta_max',\n",
    "       'timedelta_min', 'timedelta_mean', 'timedelta_std',\n",
    "       'timedelta_quantile_first', 'timedelta_quantile_second',\n",
    "       'timedelta_quantile_third', 'CompleteIDCertification_count',\n",
    "       'GetCreditInfo_count', 'UseDSRCalc_count', 'UseLoanManage_count',\n",
    "       'UsePrepayCalc_count']]\n",
    "grouped_user.agg(['mean', 'median']).reset_index()"
   ]
  },
  {
   "cell_type": "code",
   "execution_count": null,
   "id": "61f49254-fa60-45d1-8779-4034fba8c922",
   "metadata": {},
   "outputs": [],
   "source": [
    "# log_result에 대한 대푯값 뽑기\n",
    "pd.options.display.float_format = '{:.0f}'.format\n",
    "pd.set_option('display.max_columns', None)\n",
    "grouped_user= df.groupby('label')[['CompleteIDCertification_count',\n",
    "       'GetCreditInfo_count', 'UseDSRCalc_count', 'UseLoanManage_count',\n",
    "       'UsePrepayCalc_count']]\n",
    "grouped_user.agg(['min', 'max', 'mean', 'median']).reset_index()"
   ]
  },
  {
   "cell_type": "code",
   "execution_count": 116,
   "id": "98f74868-623f-4a9b-af2c-3c8004675f1a",
   "metadata": {},
   "outputs": [],
   "source": [
    "# 1행 n열로 kdeplot 그리는 함수\n",
    "def plot_kde(df, feature_names, ncols, start_idx):\n",
    "    fig,ax=plt.subplots(nrows=1, ncols=ncols, figsize=(20,5))\n",
    "    col_names=df[feature_names].columns\n",
    "    for i in range(ncols):\n",
    "        sns.kdeplot(data=df, x=col_names[i+start_idx], hue='label', palette=['#4A76AF', '#E58537', '#8D6AB7'], shade=True, ax=ax[i])\n",
    "    plt.plot()\n",
    "\n",
    "def plot_kde2(df, feature_names, ncols, start_idx):\n",
    "    fig,ax=plt.subplots(nrows=1, ncols=ncols, figsize=(20,5))\n",
    "    col_names=df[feature_names].columns\n",
    "    for i in range(ncols):\n",
    "        sns.kdeplot(data=df, x=col_names[i+start_idx], hue='label', palette=['#5A9D40','#BB3A32'], shade=True, ax=ax[i])\n",
    "    plt.plot()"
   ]
  },
  {
   "cell_type": "code",
   "execution_count": null,
   "id": "c30fd1e7-860e-4c7e-a490-a3b5fa18f630",
   "metadata": {},
   "outputs": [],
   "source": [
    "#첫번째 \n",
    "df_first = df.groupby('label')['is_applied_Y_first'].sum()\n",
    "df_first"
   ]
  },
  {
   "cell_type": "code",
   "execution_count": null,
   "id": "418f42b6-fe6b-4a36-b7bc-28821ffafd93",
   "metadata": {},
   "outputs": [],
   "source": [
    "df_last = df.groupby('label')['is_applied_Y_last'].sum()\n",
    "df_last"
   ]
  },
  {
   "cell_type": "code",
   "execution_count": null,
   "id": "e99707e8-4e9e-4efe-8e5a-0853572f9a9f",
   "metadata": {},
   "outputs": [],
   "source": [
    "df2_last = df.groupby('label')['is_applied_Y_last'].sum()\n",
    "df2_last"
   ]
  },
  {
   "cell_type": "code",
   "execution_count": null,
   "id": "03403bce-c9d7-47fa-a5df-f615cedf12ff",
   "metadata": {},
   "outputs": [],
   "source": [
    "df.groupby(['is_applied_Y_first']).sum()"
   ]
  },
  {
   "cell_type": "code",
   "execution_count": null,
   "id": "3d5751c7-b658-436a-af2a-c89b8dbb1e50",
   "metadata": {},
   "outputs": [],
   "source": [
    "df['is_applied_Y_first'].head(30)"
   ]
  },
  {
   "cell_type": "code",
   "execution_count": null,
   "id": "0b5ffd47-98ef-4ba4-a0ac-44d3b9d4cf8e",
   "metadata": {},
   "outputs": [],
   "source": [
    "plot_kde(applied, log_result, ncols=4, start_idx=0)\n",
    "plot_kde2(not_applied, log_result, ncols = 4, start_idx=0)"
   ]
  },
  {
   "cell_type": "code",
   "execution_count": null,
   "id": "26036fd4-b40a-44e1-a9bb-305ddf47ae08",
   "metadata": {},
   "outputs": [],
   "source": [
    "# log_result에 대한 대푯값 뽑기\n",
    "pd.options.display.float_format = '{:.5f}'.format\n",
    "pd.set_option('display.max_columns', None)\n",
    "grouped_user= df.groupby(['label'])[['UseLoanManage_first']]\n",
    "grouped_user.agg(['min', 'max']).reset_index()"
   ]
  },
  {
   "cell_type": "markdown",
   "id": "ea8da136-3ccb-4fdc-881f-4dd045a6d7e9",
   "metadata": {},
   "source": [
    "####이 있는 고객들은 주로 대출 신청 전 #############(특정서비스이용) 행동을 수행함"
   ]
  },
  {
   "cell_type": "code",
   "execution_count": null,
   "id": "6ba13e44-6d07-47da-a01c-b813480e56c3",
   "metadata": {},
   "outputs": [],
   "source": [
    "plot_kde(applied, log_result, ncols=4, start_idx=4)\n",
    "plot_kde2(not_applied, log_result, ncols = 4, start_idx=4)"
   ]
  },
  {
   "cell_type": "code",
   "execution_count": null,
   "id": "29ba0903-78d3-41c5-888c-0657bc9dee2d",
   "metadata": {},
   "outputs": [],
   "source": [
    "plot_kde(applied, log_result, ncols=4, start_idx=8)\n",
    "plot_kde2(not_applied, log_result, ncols=4, start_idx=8)"
   ]
  },
  {
   "cell_type": "code",
   "execution_count": null,
   "id": "ecc20fb7-4772-47e1-9b18-7430e896939c",
   "metadata": {},
   "outputs": [],
   "source": [
    "plot_kde(applied, log_result, ncols=4, start_idx=12)\n",
    "plot_kde2(not_applied, log_result, ncols=4, start_idx=12)"
   ]
  },
  {
   "cell_type": "code",
   "execution_count": null,
   "id": "c5358177-393f-40d6-b085-a8ca17bf40b7",
   "metadata": {},
   "outputs": [],
   "source": [
    "plot_kde(applied, log_result, ncols=4, start_idx=16)\n",
    "plot_kde2(not_applied, log_result, ncols=4, start_idx=16)"
   ]
  },
  {
   "cell_type": "code",
   "execution_count": null,
   "id": "ac21605e-9922-4124-a43a-062423414918",
   "metadata": {},
   "outputs": [],
   "source": [
    "plot_kde(applied, log_result, ncols=2, start_idx=20)\n",
    "plot_kde2(not_applied, log_result, ncols=2, start_idx=20)"
   ]
  },
  {
   "cell_type": "markdown",
   "id": "546e1290-118a-4282-8625-a770efb8d5eb",
   "metadata": {},
   "source": [
    "### ##########에 대한 분석. 더 크게 plot그려보기"
   ]
  },
  {
   "cell_type": "code",
   "execution_count": null,
   "id": "88501761-2ba8-4cb6-a427-da41f2fec122",
   "metadata": {},
   "outputs": [],
   "source": [
    "sns.kdeplot(x = 'UseLoanManage_first', data = not_applied, hue = 'label', shade = True, palette=['#BB3A32', '#8D6AB7'])\n",
    "plt.savefig('../output/5_6_action_noapply.png')"
   ]
  },
  {
   "cell_type": "code",
   "execution_count": null,
   "id": "5ee0c62c-7a92-449e-92f7-275a4c2df980",
   "metadata": {},
   "outputs": [],
   "source": [
    "sns.kdeplot(x = 'UseLoanManage_first', data = applied, hue = 'label', shade = True, palette=['#E58537', '#4A76AF', '#5A9D40'])\n",
    "plt.savefig('../output/5_7_action_apply.png')"
   ]
  },
  {
   "cell_type": "code",
   "execution_count": null,
   "id": "640416df-4730-4300-b613-ac1b56ca3715",
   "metadata": {},
   "outputs": [],
   "source": [
    "sns.kdeplot(x = 'UseLoanManage_last', data = not_applied, hue = 'label', shade = True, palette=['#BB3A32', '#8D6AB7'])\n",
    "plt.savefig('../output/5_8_action_last_noapply.png')"
   ]
  },
  {
   "cell_type": "code",
   "execution_count": null,
   "id": "03532a44-410f-4c2b-899c-e340244169b0",
   "metadata": {},
   "outputs": [],
   "source": [
    "sns.kdeplot(x = 'UseLoanManage_last', data = applied, hue = 'label', shade = True, palette=['#E58537', '#4A76AF', '#5A9D40'])\n",
    "plt.savefig('../output/5_9_action_last_apply.png')"
   ]
  }
 ],
 "metadata": {
  "kernelspec": {
   "display_name": "Python 3",
   "language": "python",
   "name": "python3"
  },
  "language_info": {
   "codemirror_mode": {
    "name": "ipython",
    "version": 3
   },
   "file_extension": ".py",
   "mimetype": "text/x-python",
   "name": "python",
   "nbconvert_exporter": "python",
   "pygments_lexer": "ipython3",
   "version": "3.8.5"
  }
 },
 "nbformat": 4,
 "nbformat_minor": 5
}
