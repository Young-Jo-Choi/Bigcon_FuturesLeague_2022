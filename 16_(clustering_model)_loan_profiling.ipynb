{
 "cells": [
  {
   "cell_type": "markdown",
   "id": "a0370333-25bd-4d2e-af04-401d2a6cecb1",
   "metadata": {},
   "source": [
    "# 군집별 loan_result에 대한 분석\n",
    "loan_result정보에 군집 라벨을 붙여 군집별 은행상품정보에 대해 분석함(은행 id별, 은행 상품별)"
   ]
  },
  {
   "cell_type": "code",
   "execution_count": 1,
   "id": "6741c1cb-6c5e-4afa-bd1f-da2402ddec7f",
   "metadata": {},
   "outputs": [],
   "source": [
    "import numpy as np\n",
    "import pandas as pd\n",
    "import gzip\n",
    "import pickle\n",
    "import matplotlib.pyplot as plt\n",
    "from IPython.display import display\n",
    "import seaborn as sns\n",
    "%matplotlib inline\n",
    "\n",
    "# unicode minus를 사용하지 않기 위한 설정 (minus 깨짐현상 방지)\n",
    "plt.rcParams['axes.unicode_minus'] = False\n",
    "plt.rcParams['font.family'] = 'NanumGothic'"
   ]
  },
  {
   "cell_type": "code",
   "execution_count": 2,
   "id": "2e16232d-1f0d-455f-add8-42413bfc3732",
   "metadata": {},
   "outputs": [],
   "source": [
    "sns.set(style='white', context='notebook', rc={'figure.figsize':(14,10)})"
   ]
  },
  {
   "cell_type": "code",
   "execution_count": 9,
   "id": "bc8e0480-9c2a-4f67-8602-a9f90477121e",
   "metadata": {},
   "outputs": [],
   "source": [
    "#데이터 읽어오기\n",
    "import joblib\n",
    "\n",
    "with open('../processed/loan_info.pickle', 'rb') as f:\n",
    "    df = joblib.load(f)"
   ]
  },
  {
   "cell_type": "code",
   "execution_count": null,
   "id": "38be5d34-0026-4062-9caf-1f4940ec2d53",
   "metadata": {},
   "outputs": [],
   "source": [
    "cluster = pd.read_csv('../processed/5_4_cluster_except.csv')"
   ]
  },
  {
   "cell_type": "code",
   "execution_count": null,
   "id": "fd0c52b4-4e97-46e6-828e-d7876bbff1cf",
   "metadata": {},
   "outputs": [],
   "source": [
    "df.head()"
   ]
  },
  {
   "cell_type": "code",
   "execution_count": null,
   "id": "86aaeb8e-471a-499e-a6b0-9e614e06486f",
   "metadata": {},
   "outputs": [],
   "source": [
    "cluster.head()"
   ]
  },
  {
   "cell_type": "code",
   "execution_count": null,
   "id": "57ffc504-8e6f-45cc-9d75-bb50eb5e65a0",
   "metadata": {},
   "outputs": [],
   "source": [
    "app_id = cluster['application_id'].unique()"
   ]
  },
  {
   "cell_type": "code",
   "execution_count": null,
   "id": "f5e4d91a-bd21-4967-857c-6704c98f3b61",
   "metadata": {},
   "outputs": [],
   "source": [
    "df_selected = df[df['application_id'].isin(app_id)]"
   ]
  },
  {
   "cell_type": "code",
   "execution_count": null,
   "id": "41506dd4-d6a0-4f8f-974d-52a0c6d7b181",
   "metadata": {},
   "outputs": [],
   "source": [
    "df_selected"
   ]
  },
  {
   "cell_type": "code",
   "execution_count": null,
   "id": "dc01272c-b325-4ee8-9579-5dbc67ad604e",
   "metadata": {},
   "outputs": [],
   "source": [
    "len(app_id)"
   ]
  },
  {
   "cell_type": "code",
   "execution_count": null,
   "id": "c88099eb-b003-4578-85bb-7f5e63c4180a",
   "metadata": {},
   "outputs": [],
   "source": [
    "df_selected_label = pd.merge(df_selected,cluster[['application_id','label']], on='application_id', how='left')"
   ]
  },
  {
   "cell_type": "code",
   "execution_count": null,
   "id": "e07a06a4-1c83-4ce1-8ee5-81c70d4d6530",
   "metadata": {},
   "outputs": [],
   "source": [
    "df_selected_label.info()"
   ]
  },
  {
   "cell_type": "code",
   "execution_count": 22,
   "id": "c4d344ed-54e8-4f58-9c7d-2f0c662d2341",
   "metadata": {},
   "outputs": [],
   "source": [
    "df_selected_label.to_csv('../preprocessed/5_5_cluster_loan.csv')"
   ]
  },
  {
   "cell_type": "markdown",
   "id": "c87ae772-ff11-40a2-abcb-07bbe4975dad",
   "metadata": {},
   "source": [
    "## 군집별 대출상품 분석\n",
    "데이터(5_4_cluster_except.csv)의 application_id에 매핑된 loan_result 정보를 뽑고 그 옆에 컬럼으로 라벨 붙이기<br>\n",
    "각 칼럼별 대푯값 뽑기<br>\n",
    "- loan_limit, loan_rate 돈 등은 평균, median정보\n",
    "- bank_id는 최빈값 정보\n",
    "- product_id는 분포"
   ]
  },
  {
   "cell_type": "code",
   "execution_count": 6,
   "id": "4c75ec5e-4a95-42f4-ae12-3876330aa360",
   "metadata": {},
   "outputs": [],
   "source": [
    "loan = pd.read_csv('../processed/5_5_cluster_loan.csv', index_col = 0)"
   ]
  },
  {
   "cell_type": "code",
   "execution_count": null,
   "id": "eef4ca62-f122-4364-9d5e-1840916cc476",
   "metadata": {},
   "outputs": [],
   "source": [
    "loan.head()"
   ]
  },
  {
   "cell_type": "code",
   "execution_count": null,
   "id": "5a2e98e0-3078-4530-a245-58e99ab00531",
   "metadata": {},
   "outputs": [],
   "source": [
    "loan[loan['is_applied'] == 0]"
   ]
  },
  {
   "cell_type": "code",
   "execution_count": 8,
   "id": "b085ac83-45cc-4a40-ac1b-a7863a5f9aba",
   "metadata": {},
   "outputs": [],
   "source": [
    "loan0 = loan[loan['label'] == 0]\n",
    "loan1 = loan[loan['label'] == 1]\n",
    "loan2 = loan[loan['label'] == 2]\n",
    "loan3 = loan[loan['label'] == 3]\n",
    "loan4 = loan[loan['label'] == 4]"
   ]
  },
  {
   "cell_type": "markdown",
   "id": "ed17ef37-7dfa-4d4d-9f21-b0ce1c0db849",
   "metadata": {},
   "source": [
    "## 1. loan_result 기본정보에 대한 분석"
   ]
  },
  {
   "cell_type": "markdown",
   "id": "e80a530a-68f2-4635-89c9-bb0bd60751b0",
   "metadata": {},
   "source": [
    "### 1-1) loan_limit, loan_rate"
   ]
  },
  {
   "cell_type": "code",
   "execution_count": 116,
   "id": "06d8970d-894e-48cf-8be8-005907a915b6",
   "metadata": {},
   "outputs": [],
   "source": [
    "### 이상치 제거 ###\n",
    "#100억이 한 명이기 때문에 이상치로, 분석에서 제외함\n",
    "loan = loan[loan['loan_limit']<10000000000]"
   ]
  },
  {
   "cell_type": "code",
   "execution_count": null,
   "id": "80881140-4476-41f5-a49e-6737ef987603",
   "metadata": {},
   "outputs": [],
   "source": [
    "# user_spec에 대한 대푯값 뽑기\n",
    "pd.options.display.float_format = '{:.3f}'.format\n",
    "grouped_loan= loan.groupby(['label'])[['loan_limit','loan_rate', 'loan_limit_per_desired_amount']]\n",
    "grouped_loan2 = grouped_loan.agg(['mean', 'median', 'max', 'min']).reset_index()\n",
    "grouped_loan2"
   ]
  },
  {
   "cell_type": "markdown",
   "id": "7c333268-b31d-4005-928e-195ec176b518",
   "metadata": {},
   "source": [
    "### 1-2) bank_id"
   ]
  },
  {
   "cell_type": "code",
   "execution_count": 14,
   "id": "af8260ad-3d85-47b0-b76d-61b4f0c2008f",
   "metadata": {},
   "outputs": [],
   "source": [
    "#bank_id\n",
    "#군집별 대출조회한 은행 수\n",
    "bloan0 = loan0.groupby('bank_id')['application_id'].count().reset_index()\n",
    "bloan1 = loan1.groupby('bank_id')['application_id'].count().reset_index()\n",
    "bloan2 = loan2.groupby('bank_id')['application_id'].count().reset_index()\n",
    "bloan3 = loan3.groupby('bank_id')['application_id'].count().reset_index()\n",
    "bloan4 = loan4.groupby('bank_id')['application_id'].count().reset_index()"
   ]
  },
  {
   "cell_type": "code",
   "execution_count": null,
   "id": "be82874c-57b5-4d86-a089-cfe385b8d0b4",
   "metadata": {},
   "outputs": [],
   "source": [
    "print('loan0: ', len(loan0['bank_id'].unique()))"
   ]
  },
  {
   "cell_type": "code",
   "execution_count": null,
   "id": "a50acbc7-36f1-41fa-a49a-8e87698c64ef",
   "metadata": {},
   "outputs": [],
   "source": [
    "print('loan1: ', len(loan1['bank_id'].unique()))"
   ]
  },
  {
   "cell_type": "code",
   "execution_count": null,
   "id": "0a811f1d-17d9-4917-aa54-d79d458148e0",
   "metadata": {},
   "outputs": [],
   "source": [
    "print('loan2: ', len(loan2['bank_id'].unique()))"
   ]
  },
  {
   "cell_type": "code",
   "execution_count": null,
   "id": "ddbbd1fb-ebd6-4d15-b034-5d26e3f75f87",
   "metadata": {},
   "outputs": [],
   "source": [
    "print('loan3: ', len(loan3['bank_id'].unique()))"
   ]
  },
  {
   "cell_type": "code",
   "execution_count": null,
   "id": "207a2755-1550-4c71-b5f4-262fab67cef3",
   "metadata": {},
   "outputs": [],
   "source": [
    "print('loan4: ', len(loan4['bank_id'].unique()))"
   ]
  },
  {
   "cell_type": "code",
   "execution_count": null,
   "id": "9f00811b-8010-490f-ba70-379ddfb490e1",
   "metadata": {},
   "outputs": [],
   "source": [
    "bloan0"
   ]
  },
  {
   "cell_type": "code",
   "execution_count": null,
   "id": "efe3b637-c817-4d9d-9688-af251b6d1545",
   "metadata": {},
   "outputs": [],
   "source": [
    "bank_loan_all = loan.groupby('label')['bank_id'].apply(lambda x:x.value_counts(normalize=True).sort_values(ascending=False).head(15))"
   ]
  },
  {
   "cell_type": "markdown",
   "id": "92371367-8f85-449b-9c4d-8643ae85f803",
   "metadata": {},
   "source": [
    "## 2. 군집별 상품추천 은행비율\n",
    "각 군집별 추천된 은행의 비율"
   ]
  },
  {
   "cell_type": "code",
   "execution_count": 17,
   "id": "5073c6cb-30d4-4452-b68e-80717c270790",
   "metadata": {},
   "outputs": [],
   "source": [
    "bank_loan = loan.groupby('label')['bank_id'].apply(lambda x:x.value_counts(normalize=True).sort_values(ascending=False).head(15))"
   ]
  },
  {
   "cell_type": "code",
   "execution_count": null,
   "id": "49913e6d-d051-40dd-a85b-da52a51ec9de",
   "metadata": {},
   "outputs": [],
   "source": [
    "bank_loan"
   ]
  },
  {
   "cell_type": "code",
   "execution_count": null,
   "id": "524cc5d9-c907-48bd-9f57-6b3d52251b0d",
   "metadata": {},
   "outputs": [],
   "source": [
    "bank_loan_applied"
   ]
  },
  {
   "cell_type": "code",
   "execution_count": null,
   "id": "ea51ef49-b4f8-4d69-b650-c7f833364e60",
   "metadata": {},
   "outputs": [],
   "source": [
    "bank_loan_applied / bank_loan"
   ]
  },
  {
   "cell_type": "code",
   "execution_count": 141,
   "id": "da301bdb-720d-4217-9a0f-570368ff24cf",
   "metadata": {},
   "outputs": [],
   "source": [
    "bank_loan_temp = pd.DataFrame(bank_loan).reset_index()\n",
    "bank_loan_temp['bank_id_ratio'] = bank_loan_temp['label'].astype(str)+' / '+ bank_loan_temp['level_1'].astype(str) + ' / ' + bank_loan_temp['bank_id'].astype(str)"
   ]
  },
  {
   "cell_type": "code",
   "execution_count": null,
   "id": "938e3d2f-acff-4ace-9fd5-c6245b6c9fcd",
   "metadata": {},
   "outputs": [],
   "source": [
    "pd.DataFrame(bank_loan_temp['bank_id_ratio'].T.values.reshape(15,-1,order='F'),\n",
    "             columns=[0,1,2,3,4])"
   ]
  },
  {
   "cell_type": "markdown",
   "id": "f0a65b97-a129-4efd-917b-b1012a33d6b6",
   "metadata": {},
   "source": [
    "#### <b> 군집별 is applied된 상품추천 은행비율</b>\n",
    "is_applied된 것만 따로 봄"
   ]
  },
  {
   "cell_type": "code",
   "execution_count": 22,
   "id": "5516d022-7c0b-497f-a136-36677c7b5153",
   "metadata": {},
   "outputs": [],
   "source": [
    "loan_applied = loan[loan['is_applied'] == 1]\n",
    "bank_loan_applied_all = loan_applied.groupby('label')['bank_id'].apply(lambda x:x.value_counts(normalize=True))"
   ]
  },
  {
   "cell_type": "code",
   "execution_count": null,
   "id": "52ab0ab7-8a1c-47a7-82b4-d6cf140b7ae8",
   "metadata": {},
   "outputs": [],
   "source": [
    "bank_loan_applied_all"
   ]
  },
  {
   "cell_type": "code",
   "execution_count": 158,
   "id": "afed6c92-941f-434c-b604-f5893ead52a9",
   "metadata": {},
   "outputs": [],
   "source": [
    "bank_loan_temp_applied = pd.DataFrame(bank_loan_applied).reset_index()\n",
    "bank_loan_temp_applied['bank_id_ratio'] = bank_loan_temp_applied['label'].astype(str)+' / '+ bank_loan_temp_applied['level_1'].astype(str) + ' / ' + bank_loan_temp_applied['bank_id'].astype(str)"
   ]
  },
  {
   "cell_type": "code",
   "execution_count": null,
   "id": "ce24f79c-cd78-480c-a0ee-93d9ff584601",
   "metadata": {},
   "outputs": [],
   "source": [
    "pd.DataFrame(bank_loan_temp_applied['bank_id_ratio'].T.values.reshape(15,-1,order='F'),\n",
    "             columns=[0,1,2,3,4])"
   ]
  },
  {
   "cell_type": "markdown",
   "id": "59b8c77d-9156-4533-9a34-bce4afe7e522",
   "metadata": {},
   "source": [
    "### 2-1) 0번 군집에 대한 은행id별 cvr"
   ]
  },
  {
   "cell_type": "code",
   "execution_count": null,
   "id": "93706bdc-f93a-468c-b5d1-d3085a2d7a44",
   "metadata": {},
   "outputs": [],
   "source": [
    "#군집에 대한 은행id별 cvr\n",
    "bank_cvr_dict={}\n",
    "for bank in list(loan0['bank_id'].unique()):\n",
    "    bank_cvr_dict[bank]=len(loan0[(loan0['bank_id'] == bank) & (loan0['is_applied'] == 1)]) / len(loan0[loan0['bank_id'] == bank])"
   ]
  },
  {
   "cell_type": "code",
   "execution_count": null,
   "id": "345a9572-54fd-4453-9364-f5d5a1c5c161",
   "metadata": {},
   "outputs": [],
   "source": [
    "pd.Series(bank_cvr_dict).sort_values(ascending = False)"
   ]
  },
  {
   "cell_type": "code",
   "execution_count": null,
   "id": "a4c829b2-cc3c-4106-947f-7d56b50dd393",
   "metadata": {},
   "outputs": [],
   "source": [
    "sum(pd.Series(bank_cvr_dict).sort_values(ascending = False).iloc[:10])/10 #주요 10개 은행 추천비율"
   ]
  },
  {
   "cell_type": "code",
   "execution_count": null,
   "id": "268d2023-1b6d-4068-8720-b69263ef92b3",
   "metadata": {},
   "outputs": [],
   "source": [
    "sum(bank_cvr_dict.values())/len(bank_cvr_dict.keys())"
   ]
  },
  {
   "cell_type": "markdown",
   "id": "3c1336b9-2595-42c1-a43c-f645e8bf17f7",
   "metadata": {},
   "source": [
    "### 2-2) 1번 군집에 대한 은행id별 cvr"
   ]
  },
  {
   "cell_type": "code",
   "execution_count": null,
   "id": "c0b18144-6878-4865-bcae-0693070063f1",
   "metadata": {},
   "outputs": [],
   "source": [
    "bank_cvr_dict={}\n",
    "for bank in list(loan1['bank_id'].unique()):\n",
    "    bank_cvr_dict[bank]=len(loan1[(loan1['bank_id'] == bank) & (loan1['is_applied'] == 1)]) / len(loan1[loan1['bank_id'] == bank])\n",
    "pd.Series(bank_cvr_dict).sort_values(ascending = False)"
   ]
  },
  {
   "cell_type": "code",
   "execution_count": null,
   "id": "1f102e53-c6ab-4569-a2a7-5a4aa1be7b90",
   "metadata": {},
   "outputs": [],
   "source": [
    "sum(pd.Series(bank_cvr_dict1).sort_values(ascending = False).iloc[:10])/10 #주요 10개 은행 추천비율"
   ]
  },
  {
   "cell_type": "code",
   "execution_count": null,
   "id": "63739c47-8dc8-42c0-8102-58639fda88e1",
   "metadata": {},
   "outputs": [],
   "source": [
    "sum(bank_cvr_dict1.values())/len(bank_cvr_dict1.keys())"
   ]
  },
  {
   "cell_type": "markdown",
   "id": "b33b06e7-01c3-4547-925a-4d6e4dda6392",
   "metadata": {},
   "source": [
    "### 2-3) 2번 군집에 대한 은행id별 cvr"
   ]
  },
  {
   "cell_type": "code",
   "execution_count": null,
   "id": "f5013662-5bbf-4333-87e1-4f60b430d483",
   "metadata": {},
   "outputs": [],
   "source": [
    "bank_cvr_dict={}\n",
    "for bank in list(loan0['bank_id'].unique()):\n",
    "    bank_cvr_dict[bank]=len(loan2[(loan2['bank_id'] == bank) & (loan2['is_applied'] == 1)]) / len(loan2[loan2['bank_id'] == bank])\n",
    "pd.Series(bank_cvr_dict).sort_values(ascending = False)"
   ]
  },
  {
   "cell_type": "code",
   "execution_count": 63,
   "id": "c11d15de-c425-4a8e-8f34-48c952f927c7",
   "metadata": {},
   "outputs": [],
   "source": [
    "bank_cvr_dict2={}\n",
    "for bank in list(loan0['bank_id'].unique()):\n",
    "    bank_cvr_dict2[bank]=len(loan2[(loan2['bank_id'] == bank) & (loan2['is_applied'] == 1)]) / len(loan2[loan2['bank_id'] == bank])"
   ]
  },
  {
   "cell_type": "code",
   "execution_count": null,
   "id": "9676f448-fbc3-4fe8-a5b5-5b2016027b46",
   "metadata": {},
   "outputs": [],
   "source": [
    "sum(pd.Series(bank_cvr_dict2).sort_values(ascending = False).iloc[:10])/10"
   ]
  },
  {
   "cell_type": "code",
   "execution_count": null,
   "id": "52433290-6f0f-4dc4-aab0-39ec859783e4",
   "metadata": {},
   "outputs": [],
   "source": [
    "sum(bank_cvr_dict2.values())/len(bank_cvr_dict2.keys())"
   ]
  },
  {
   "cell_type": "markdown",
   "id": "4bfff32a-b63e-4dd5-a116-ad696463622e",
   "metadata": {},
   "source": [
    "### 2-4) 3번 군집에 대한 은행id별 cvr"
   ]
  },
  {
   "cell_type": "code",
   "execution_count": null,
   "id": "00961031-5f9c-4955-9031-5b0be3e7b360",
   "metadata": {},
   "outputs": [],
   "source": [
    "bank_cvr_dict={}\n",
    "for bank in list(loan0['bank_id'].unique()):\n",
    "    bank_cvr_dict[bank]=len(loan3[(loan3['bank_id'] == bank) & (loan3['is_applied'] == 1)]) / len(loan3[loan3['bank_id'] == bank])\n",
    "pd.Series(bank_cvr_dict).sort_values(ascending = False)"
   ]
  },
  {
   "cell_type": "code",
   "execution_count": 67,
   "id": "1a63f3b3-9076-4576-8d8e-8eacff40c6af",
   "metadata": {},
   "outputs": [],
   "source": [
    "bank_cvr_dict3={}\n",
    "for bank in list(loan0['bank_id'].unique()):\n",
    "    bank_cvr_dict3[bank]=len(loan3[(loan3['bank_id'] == bank) & (loan3['is_applied'] == 1)]) / len(loan3[loan3['bank_id'] == bank])"
   ]
  },
  {
   "cell_type": "code",
   "execution_count": null,
   "id": "a8d02be0-2922-4695-89a8-f037cad2c5d0",
   "metadata": {},
   "outputs": [],
   "source": [
    "sum(pd.Series(bank_cvr_dict3).sort_values(ascending = False).iloc[:10])/10"
   ]
  },
  {
   "cell_type": "markdown",
   "id": "d3f3f661-d9c2-4c8d-b75e-a07f3a47591b",
   "metadata": {},
   "source": [
    "### 2-5) 4번 군집에 대한 은행id별 cvr"
   ]
  },
  {
   "cell_type": "code",
   "execution_count": null,
   "id": "44759fe9-fe72-45db-97f6-ce5eabc41bb5",
   "metadata": {},
   "outputs": [],
   "source": [
    "bank_cvr_dict={}\n",
    "for bank in list(loan0['bank_id'].unique()):\n",
    "    bank_cvr_dict[bank]=len(loan4[(loan4['bank_id'] == bank) & (loan4['is_applied'] == 1)]) / len(loan4[loan4['bank_id'] == bank])\n",
    "pd.Series(bank_cvr_dict).sort_values(ascending = False)"
   ]
  },
  {
   "cell_type": "code",
   "execution_count": 70,
   "id": "947d74ff-0d4c-4647-8e50-3d5d3d1da484",
   "metadata": {},
   "outputs": [],
   "source": [
    "bank_cvr_dict4={}\n",
    "for bank in list(loan0['bank_id'].unique()):\n",
    "    bank_cvr_dict4[bank]=len(loan4[(loan4['bank_id'] == bank) & (loan4['is_applied'] == 1)]) / len(loan4[loan4['bank_id'] == bank])\n",
    "#sum(bank_cvr_dict4.values())/len(bank_cvr_dict4.keys())"
   ]
  },
  {
   "cell_type": "code",
   "execution_count": null,
   "id": "3c0ee8c7-d99b-431d-882b-44b1de1b16d8",
   "metadata": {},
   "outputs": [],
   "source": [
    "sum(pd.Series(bank_cvr_dict4).sort_values(ascending = False).iloc[:10])/10"
   ]
  },
  {
   "cell_type": "code",
   "execution_count": null,
   "id": "5364b8a3-764b-4956-a17e-4bcab12cb4e1",
   "metadata": {},
   "outputs": [],
   "source": [
    "bank_cvr_dict_all={}\n",
    "for bank in list(loan['bank_id'].unique()):\n",
    "    bank_cvr_dict_all[bank]=len(loan[(loan['bank_id'] == bank) & (loan['is_applied'] == 1)]) / len(loan[loan['bank_id'] == bank])\n",
    "sum(bank_cvr_dict_all.values())/len(bank_cvr_dict_all.keys())"
   ]
  },
  {
   "cell_type": "code",
   "execution_count": null,
   "id": "81b6c9fb-c9ed-412d-aea8-e56adad8b91f",
   "metadata": {},
   "outputs": [],
   "source": [
    "sum(pd.Series(bank_cvr_dict_all).sort_values(ascending = False).iloc[:10])/10"
   ]
  },
  {
   "cell_type": "markdown",
   "id": "7d30d9eb-3e1d-4566-bc4b-b4a0007bef19",
   "metadata": {},
   "source": [
    "## 3. 은행id_은행상품별 cvr"
   ]
  },
  {
   "cell_type": "markdown",
   "id": "b436956d-60d5-4d39-84b8-86f63506baf4",
   "metadata": {},
   "source": [
    "### 3-1) 0번 군집에 대해 (bank_id, product_id)에 대한 cvr"
   ]
  },
  {
   "cell_type": "code",
   "execution_count": 203,
   "id": "68d0fcb3-88ea-4f8f-ab55-575db8a350c4",
   "metadata": {},
   "outputs": [],
   "source": [
    "loan0['bank_product_id']=loan0['bank_id'].astype(str)+'-'+loan0['product_id'].astype(str)\n",
    "bank_product_cvr_dict={}\n",
    "for p in list(loan0['bank_product_id'].unique()):\n",
    "    bank_product_cvr_dict[p]=len(loan0[(loan0['bank_product_id'] == p) & (loan0['is_applied'] == 1)]) / len(loan0[loan0['bank_product_id'] == p])\n",
    "loan0_bp=pd.Series(bank_product_cvr_dict).sort_values(ascending = False)"
   ]
  },
  {
   "cell_type": "code",
   "execution_count": null,
   "id": "4f4f3250-ff99-4844-9d5e-eb279f51993f",
   "metadata": {},
   "outputs": [],
   "source": [
    "loan0_bp #은행-상품 cvr"
   ]
  },
  {
   "cell_type": "code",
   "execution_count": 205,
   "id": "a139595c-8a04-422e-8fbe-0b65a13781ad",
   "metadata": {},
   "outputs": [],
   "source": [
    "loan0_bp=pd.concat([loan0_bp,loan0['bank_product_id'].value_counts()], axis=1)"
   ]
  },
  {
   "cell_type": "code",
   "execution_count": null,
   "id": "ea802e9a-af45-4466-8b79-5e04fb243f70",
   "metadata": {},
   "outputs": [],
   "source": [
    "loan0_bp.rename(columns={'bank_product_id':'count'}, inplace=True)\n",
    "loan0_bp"
   ]
  },
  {
   "cell_type": "code",
   "execution_count": null,
   "id": "eda041fd-03cb-4716-9ee5-98ad6601b985",
   "metadata": {},
   "outputs": [],
   "source": [
    "loan0_bp_new = loan0_bp[loan0_bp['count']>5] # cvr과 실제 추천 수(5번 이상) 붙여줌\n",
    "loan0_bp_new"
   ]
  },
  {
   "cell_type": "code",
   "execution_count": null,
   "id": "12d58f41-39bf-46fc-ab44-fe3744d136fd",
   "metadata": {},
   "outputs": [],
   "source": [
    "loan0_bp_new['ratio'] = (loan0_bp_new['count'])/(loan0_bp_new['count'].sum())\n",
    "loan0_bp_new[loan0_bp_new['ratio']>0.005][:30]"
   ]
  },
  {
   "cell_type": "markdown",
   "id": "8dbedb8b-9fb5-4e2d-971c-b975d6fbe839",
   "metadata": {},
   "source": [
    "### 3-2) 1번 군집에 대해 (bank_id, product_id)에 대한 cvr"
   ]
  },
  {
   "cell_type": "code",
   "execution_count": 222,
   "id": "5d236f58-56bd-4b43-b20f-d586fb40aceb",
   "metadata": {},
   "outputs": [],
   "source": [
    "loan1['bank_product_id']=loan1['bank_id'].astype(str)+'-'+loan1['product_id'].astype(str)\n",
    "bank_product_cvr_dict={}\n",
    "for p in list(loan1['bank_product_id'].unique()):\n",
    "    bank_product_cvr_dict[p]=len(loan1[(loan1['bank_product_id'] == p) & (loan1['is_applied'] == 1)]) / len(loan1[loan1['bank_product_id'] == p])\n",
    "loan1_bp=pd.Series(bank_product_cvr_dict).sort_values(ascending = False)"
   ]
  },
  {
   "cell_type": "code",
   "execution_count": 223,
   "id": "b0850532-6773-4fdc-a734-2b3bd37e0613",
   "metadata": {},
   "outputs": [],
   "source": [
    "loan1_bp=pd.concat([loan1_bp,loan1['bank_product_id'].value_counts()], axis=1)"
   ]
  },
  {
   "cell_type": "code",
   "execution_count": null,
   "id": "57adf8b3-514d-44a7-9e43-ac1561fa579b",
   "metadata": {},
   "outputs": [],
   "source": [
    "loan1_bp.rename(columns={'bank_product_id':'count'}, inplace=True)\n",
    "loan1_bp['ratio'] = (loan1_bp['count'])/(loan1_bp['count'].sum())\n",
    "loan1_bp[loan1_bp['ratio']>0.005][:10]"
   ]
  },
  {
   "cell_type": "markdown",
   "id": "afae4951-cc64-49a0-8541-1836735fff58",
   "metadata": {},
   "source": [
    "### 3-3) 2번 군집에 대해 (bank_id, product_id)에 대한 cvr"
   ]
  },
  {
   "cell_type": "code",
   "execution_count": 228,
   "id": "21a41f2f-41b1-4985-b291-9768e6ff0b5f",
   "metadata": {},
   "outputs": [],
   "source": [
    "loan2['bank_product_id']=loan2['bank_id'].astype(str)+'-'+loan2['product_id'].astype(str)\n",
    "bank_product_cvr_dict={}\n",
    "for p in list(loan2['bank_product_id'].unique()):\n",
    "    bank_product_cvr_dict[p]=len(loan2[(loan2['bank_product_id'] == p) & (loan2['is_applied'] == 1)]) / len(loan2[loan2['bank_product_id'] == p])\n",
    "loan2_bp=pd.Series(bank_product_cvr_dict).sort_values(ascending = False)"
   ]
  },
  {
   "cell_type": "code",
   "execution_count": 229,
   "id": "05b67ef4-55f0-4ab0-a738-60ea79c512cd",
   "metadata": {},
   "outputs": [],
   "source": [
    "loan2_bp=pd.concat([loan2_bp,loan2['bank_product_id'].value_counts()], axis=1)"
   ]
  },
  {
   "cell_type": "code",
   "execution_count": null,
   "id": "6164905a-e80a-412d-b63e-cf2bc30faacc",
   "metadata": {},
   "outputs": [],
   "source": [
    "loan2_bp.rename(columns={'bank_product_id':'count'}, inplace=True)\n",
    "loan2_bp['ratio'] = (loan2_bp['count'])/(loan2_bp['count'].sum())\n",
    "loan2_bp[loan2_bp['ratio']>0.005][:10]"
   ]
  },
  {
   "cell_type": "markdown",
   "id": "1ace2d97-10df-44dd-9467-2932315ccd19",
   "metadata": {},
   "source": [
    "### 3-4) 3번 군집에 대해 (bank_id, product_id)에 대한 cvr"
   ]
  },
  {
   "cell_type": "code",
   "execution_count": 234,
   "id": "34eae4a5-d64a-4f68-8673-30af2245396b",
   "metadata": {},
   "outputs": [],
   "source": [
    "loan3['bank_product_id']=loan3['bank_id'].astype(str)+'-'+loan3['product_id'].astype(str)\n",
    "bank_product_cvr_dict={}\n",
    "for p in list(loan3['bank_product_id'].unique()):\n",
    "    bank_product_cvr_dict[p]=len(loan3[(loan3['bank_product_id'] == p) & (loan3['is_applied'] == 1)]) / len(loan3[loan3['bank_product_id'] == p])\n",
    "loan3_bp=pd.Series(bank_product_cvr_dict).sort_values(ascending = False)"
   ]
  },
  {
   "cell_type": "code",
   "execution_count": 235,
   "id": "675779af-0826-4b93-9928-96691912bf6a",
   "metadata": {},
   "outputs": [],
   "source": [
    "loan3_bp=pd.concat([loan3_bp,loan3['bank_product_id'].value_counts()], axis=1)"
   ]
  },
  {
   "cell_type": "code",
   "execution_count": null,
   "id": "470c9ace-6553-47ac-9ebd-2459af71cd9e",
   "metadata": {},
   "outputs": [],
   "source": [
    "loan3_bp.rename(columns={'bank_product_id':'count'}, inplace=True)\n",
    "loan3_bp['ratio'] = (loan3_bp['count'])/(loan3_bp['count'].sum())\n",
    "loan3_bp[loan3_bp['ratio']>0.005][:10]"
   ]
  },
  {
   "cell_type": "markdown",
   "id": "8f9f3043-a938-490a-a642-36669735bdc1",
   "metadata": {},
   "source": [
    "### 3-5) 4번 군집에 대해 (bank_id, product_id)에 대한 cvr"
   ]
  },
  {
   "cell_type": "code",
   "execution_count": 237,
   "id": "8726ff19-409d-4452-8065-ce539e590fac",
   "metadata": {},
   "outputs": [],
   "source": [
    "loan4['bank_product_id']=loan4['bank_id'].astype(str)+'-'+loan4['product_id'].astype(str)\n",
    "bank_product_cvr_dict={}\n",
    "for p in list(loan4['bank_product_id'].unique()):\n",
    "    bank_product_cvr_dict[p]=len(loan4[(loan4['bank_product_id'] == p) & (loan4['is_applied'] == 1)]) / len(loan4[loan4['bank_product_id'] == p])\n",
    "loan4_bp=pd.Series(bank_product_cvr_dict).sort_values(ascending = False)"
   ]
  },
  {
   "cell_type": "code",
   "execution_count": 238,
   "id": "a3188e64-25a6-4402-8153-d8e9e9c6a3ae",
   "metadata": {},
   "outputs": [],
   "source": [
    "loan4_bp=pd.concat([loan4_bp,loan4['bank_product_id'].value_counts()], axis=1)"
   ]
  },
  {
   "cell_type": "code",
   "execution_count": null,
   "id": "e63f0faf-2c4e-4b3b-ad25-f68a055296fb",
   "metadata": {},
   "outputs": [],
   "source": [
    "loan4_bp.rename(columns={'bank_product_id':'count'}, inplace=True)\n",
    "loan4_bp['ratio'] = (loan4_bp['count'])/(loan4_bp['count'].sum())\n",
    "loan4_bp[loan4_bp['ratio']>0.005][:10]"
   ]
  },
  {
   "cell_type": "code",
   "execution_count": null,
   "id": "96c361b9-1d9a-471b-804f-de3ed6ab65ce",
   "metadata": {},
   "outputs": [],
   "source": [
    "fig, ax=plt.subplots(nrows=5, ncols=1, figsize=(70,60))\n",
    "sns.barplot(x = 'bank_id', y = 'application_id', data = bloan0, palette='viridis' , ax = ax[0])\n",
    "sns.barplot(x = 'bank_id', y = 'application_id', data = bloan1, palette='viridis' , ax = ax[1])\n",
    "sns.barplot(x = 'bank_id', y = 'application_id', data = bloan2, palette='viridis' , ax = ax[2])\n",
    "sns.barplot(x = 'bank_id', y = 'application_id', data = bloan3, palette='viridis' , ax = ax[3])\n",
    "sns.barplot(x = 'bank_id', y = 'application_id', data = bloan4, palette='viridis' , ax = ax[4])\n",
    "#plt.yscale('log')\n",
    "plt.rc('font', size=10)\n",
    "plt.rc('xtick', labelsize=50)  # x축 눈금 폰트 크기 \n",
    "plt.rc('ytick', labelsize=50)  # y축 눈금 폰트 크기\n",
    "plt.show()"
   ]
  },
  {
   "cell_type": "markdown",
   "id": "6c9d8e83-d1a0-4930-97df-22ad27e05dad",
   "metadata": {},
   "source": [
    "## 4. loan_limit_per_desired_amount에 대한 barplot"
   ]
  },
  {
   "cell_type": "code",
   "execution_count": 93,
   "id": "d5e48a99-fbfc-457e-baec-dba366b5642f",
   "metadata": {},
   "outputs": [],
   "source": [
    "not_applied = pd.concat([loan2, loan3])\n",
    "applied = pd.concat([loan0, loan1, loan4])"
   ]
  },
  {
   "cell_type": "code",
   "execution_count": null,
   "id": "bcb25daa-f582-4657-872d-a85ad4f165e1",
   "metadata": {},
   "outputs": [],
   "source": [
    "pd.options.display.float_format = '{:.3f}'.format\n",
    "loan_0 = loan[loan['loan_limit_per_desired_amount'] == 0]\n",
    "loan_1 = loan[loan['loan_limit_per_desired_amount'] == 1]\n",
    "loan_2 = loan[loan['loan_limit_per_desired_amount'] == 10]\n",
    "display(loan_0[['desired_amount', 'loan_limit', 'loan_limit_per_desired_amount']].head())\n",
    "display(loan_1[['desired_amount', 'loan_limit', 'loan_limit_per_desired_amount']].head())\n",
    "display(loan_2[['desired_amount', 'loan_limit', 'loan_limit_per_desired_amount']].head())"
   ]
  }
 ],
 "metadata": {
  "kernelspec": {
   "display_name": "Python 3",
   "language": "python",
   "name": "python3"
  },
  "language_info": {
   "codemirror_mode": {
    "name": "ipython",
    "version": 3
   },
   "file_extension": ".py",
   "mimetype": "text/x-python",
   "name": "python",
   "nbconvert_exporter": "python",
   "pygments_lexer": "ipython3",
   "version": "3.8.5"
  }
 },
 "nbformat": 4,
 "nbformat_minor": 5
}
