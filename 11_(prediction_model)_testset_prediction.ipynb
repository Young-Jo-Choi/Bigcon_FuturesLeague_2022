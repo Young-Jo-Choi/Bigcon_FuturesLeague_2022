{
 "cells": [
  {
   "cell_type": "code",
   "execution_count": 1,
   "metadata": {},
   "outputs": [],
   "source": [
    "# 필요 모듈 임포트\n",
    "import numpy as np\n",
    "import pandas as pd\n",
    "import gzip\n",
    "import pickle\n",
    "import matplotlib.pyplot as plt\n",
    "from IPython.display import display\n",
    "import seaborn as sns\n",
    "\n",
    "%matplotlib inline"
   ]
  },
  {
   "cell_type": "code",
   "execution_count": 153,
   "metadata": {},
   "outputs": [],
   "source": [
    "with gzip.open('../preprocessed/testSet.pickle','rb') as f:\n",
    "    test = pickle.load(f)"
   ]
  },
  {
   "cell_type": "code",
   "execution_count": 155,
   "metadata": {},
   "outputs": [],
   "source": [
    "test.columns = test.columns.drop('product_id').tolist()+['product_id']"
   ]
  },
  {
   "cell_type": "code",
   "execution_count": null,
   "metadata": {},
   "outputs": [],
   "source": [
    "test.columns"
   ]
  },
  {
   "cell_type": "code",
   "execution_count": null,
   "metadata": {},
   "outputs": [],
   "source": [
    "test_temp=pd.concat([test.iloc[:,:2],test.iloc[:,4:]],axis=1)\n",
    "test_temp.columns\n"
   ]
  },
  {
   "cell_type": "code",
   "execution_count": 98,
   "metadata": {},
   "outputs": [],
   "source": [
    "test=test_temp"
   ]
  },
  {
   "cell_type": "code",
   "execution_count": 99,
   "metadata": {},
   "outputs": [
    {
     "data": {
      "text/plain": [
       "(3256262, 40)"
      ]
     },
     "execution_count": 99,
     "metadata": {},
     "output_type": "execute_result"
    }
   ],
   "source": [
    "test.shape"
   ]
  },
  {
   "cell_type": "code",
   "execution_count": null,
   "metadata": {},
   "outputs": [],
   "source": [
    "test.isna().sum()"
   ]
  },
  {
   "cell_type": "code",
   "execution_count": 101,
   "metadata": {},
   "outputs": [],
   "source": [
    "with gzip.open('../preprocessed/final_data.pickle','rb') as f:\n",
    "    final = pickle.load(f)"
   ]
  },
  {
   "cell_type": "code",
   "execution_count": 102,
   "metadata": {},
   "outputs": [
    {
     "data": {
      "text/plain": [
       "True"
      ]
     },
     "execution_count": 102,
     "metadata": {},
     "output_type": "execute_result"
    }
   ],
   "source": [
    "final['desired_amount_x'].equals(final['desired_amount_y'])"
   ]
  },
  {
   "cell_type": "code",
   "execution_count": 103,
   "metadata": {},
   "outputs": [],
   "source": [
    "final = final.drop(['desired_amount_x'], axis=1)"
   ]
  },
  {
   "cell_type": "code",
   "execution_count": null,
   "metadata": {},
   "outputs": [],
   "source": [
    "final_temp=pd.concat([final.iloc[:,0],final.iloc[:,3:]],axis=1)\n",
    "final_temp.columns"
   ]
  },
  {
   "cell_type": "code",
   "execution_count": 109,
   "metadata": {},
   "outputs": [],
   "source": [
    "final = final_temp"
   ]
  },
  {
   "cell_type": "code",
   "execution_count": 110,
   "metadata": {},
   "outputs": [],
   "source": [
    "final.rename(columns={'desired_amount_y': 'desired_amount'}, inplace=True)"
   ]
  },
  {
   "cell_type": "code",
   "execution_count": 112,
   "metadata": {},
   "outputs": [
    {
     "data": {
      "text/plain": [
       "(6833617, 40)"
      ]
     },
     "execution_count": 112,
     "metadata": {},
     "output_type": "execute_result"
    }
   ],
   "source": [
    "final.reset_index(inplace=True)\n",
    "final.shape"
   ]
  },
  {
   "cell_type": "code",
   "execution_count": null,
   "metadata": {},
   "outputs": [],
   "source": [
    "# 열 순서 맞추기 \n",
    "final_col=list(final.columns[:-1])\n",
    "final_col.append('product_id')\n",
    "final_col"
   ]
  },
  {
   "cell_type": "code",
   "execution_count": null,
   "metadata": {},
   "outputs": [],
   "source": [
    "test=test[final_col]\n",
    "test.head()"
   ]
  },
  {
   "cell_type": "code",
   "execution_count": null,
   "metadata": {},
   "outputs": [],
   "source": [
    "# 결측치 학습데이터셋의 중앙값으로 대체하기\n",
    "test.isna().sum()"
   ]
  },
  {
   "cell_type": "code",
   "execution_count": null,
   "metadata": {},
   "outputs": [],
   "source": [
    "# test 데이터프레임 결측치 있는 열이름 저장\n",
    "nan_cols=[]\n",
    "for col in test.columns:\n",
    "    if test[col].isna().sum()!=0:\n",
    "        nan_cols.append(col)\n",
    "nan_cols"
   ]
  },
  {
   "cell_type": "code",
   "execution_count": null,
   "metadata": {},
   "outputs": [],
   "source": [
    "# test 데이터프레임 결측치 있는 열들은 final 데이터프레임의 같은 열 중간값으로 결측치 채우기\n",
    "for col in nan_cols:\n",
    "    test[col]=test[col].fillna(final[col].apply('median'))\n",
    "test.isna().sum()"
   ]
  },
  {
   "cell_type": "code",
   "execution_count": 126,
   "metadata": {},
   "outputs": [],
   "source": [
    "# 학습데이터셋에서 사용했던 OrdinalEncoder 동일하게 적용\n",
    "with open('../processed/ordinal_encoder.pickle','rb') as f:\n",
    "    ordinal_encoder = pickle.load(f)"
   ]
  },
  {
   "cell_type": "code",
   "execution_count": null,
   "metadata": {},
   "outputs": [],
   "source": [
    "# 연속형/범주형 변수 뽑기\n",
    "cat_columns = [c for c, t in zip(test.dtypes.index, test.dtypes) if t == 'O']\n",
    "num_columns = [c for c    in test.columns if c not in cat_columns]\n",
    "\n",
    "print('Categorical Columns: \\n{}\\n'.format(cat_columns))\n",
    "# print('Numeric Columns: \\n{}'.format(num_columns))"
   ]
  },
  {
   "cell_type": "code",
   "execution_count": null,
   "metadata": {},
   "outputs": [],
   "source": [
    "# OrdinalEncoder 변환 순서에 맞게 test 데이터프레임도 변환\n",
    "# purpose idx: 3, income_type idx: 0, employment_type idx: 1\n",
    "ordinal_encoder.categories_"
   ]
  },
  {
   "cell_type": "code",
   "execution_count": null,
   "metadata": {},
   "outputs": [],
   "source": [
    "oe_categories=ordinal_encoder.categories_\n",
    "oe_categories[3]"
   ]
  },
  {
   "cell_type": "code",
   "execution_count": null,
   "metadata": {},
   "outputs": [],
   "source": [
    "# purpose 인코딩 (purpose idx: 3)\n",
    "for i in range(len(oe_categories[3])):\n",
    "    test['purpose']=test['purpose'].replace(oe_categories[3][i],i) \n",
    "test['purpose'].head()"
   ]
  },
  {
   "cell_type": "code",
   "execution_count": null,
   "metadata": {},
   "outputs": [],
   "source": [
    "# income_type 인코딩 (income_type idx: 0)\n",
    "for i in range(len(oe_categories[0])):\n",
    "    test['income_type']=test['income_type'].replace(oe_categories[0][i],i) \n",
    "test['income_type'].head()"
   ]
  },
  {
   "cell_type": "code",
   "execution_count": null,
   "metadata": {},
   "outputs": [],
   "source": [
    "# employment_type 인코딩 (employment_type idx: 1)\n",
    "for i in range(len(oe_categories[1])):\n",
    "    test['employment_type']=test['employment_type'].replace(oe_categories[1][i],i) \n",
    "test['employment_type'].head()"
   ]
  },
  {
   "cell_type": "code",
   "execution_count": null,
   "metadata": {},
   "outputs": [],
   "source": []
  },
  {
   "cell_type": "code",
   "execution_count": 133,
   "metadata": {},
   "outputs": [
    {
     "data": {
      "text/plain": [
       "((3256262, 37), (3256262, 2))"
      ]
     },
     "execution_count": 133,
     "metadata": {},
     "output_type": "execute_result"
    }
   ],
   "source": [
    "# 최종 평가데이터셋에 필요한 feature만 남기기\n",
    "X = test.drop(['application_id', 'user_id', 'product_id'], axis = 1)\n",
    "# 제출할 테이블과 맞추기 위해 템플릿 따로 빼놓기\n",
    "submit_template = test[['application_id','product_id']]\n",
    "X.shape, submit_template.shape"
   ]
  },
  {
   "cell_type": "code",
   "execution_count": 134,
   "metadata": {},
   "outputs": [],
   "source": [
    "# 학습데이터에서 fit한 scaler 이용해서 평가데이터에 transform\n",
    "with open('../preprocessed/scaler_final.pickle','rb') as f:\n",
    "    scaler = pickle.load(f)"
   ]
  },
  {
   "cell_type": "code",
   "execution_count": 135,
   "metadata": {},
   "outputs": [],
   "source": [
    "X_test_scaled = scaler.transform(X)"
   ]
  },
  {
   "cell_type": "code",
   "execution_count": 136,
   "metadata": {},
   "outputs": [],
   "source": [
    "# 모델 불러오기\n",
    "with open('../preprocessed/lgbm.pickle','rb') as f:\n",
    "    lgbm = pickle.load(f)\n",
    "    \n",
    "with open('../preprocessed/random_forest.pickle','rb') as f:\n",
    "    rf = pickle.load(f)\n",
    "\n",
    "with open('../preprocessed/xgb.pickle','rb') as f:\n",
    "    xgb = pickle.load(f)"
   ]
  },
  {
   "cell_type": "code",
   "execution_count": 137,
   "metadata": {},
   "outputs": [],
   "source": [
    "# predict_proba() 통해 세 모델의 확률값 평균\n",
    "y_proba_lgbm=lgbm.predict_proba(X_test_scaled)\n",
    "y_proba_rf=rf.predict_proba(X_test_scaled)\n",
    "y_proba_xgb=xgb.predict_proba(X_test_scaled)"
   ]
  },
  {
   "cell_type": "code",
   "execution_count": 144,
   "metadata": {},
   "outputs": [
    {
     "data": {
      "text/plain": [
       "3256262"
      ]
     },
     "execution_count": 144,
     "metadata": {},
     "output_type": "execute_result"
    }
   ],
   "source": [
    "all_test_proba=y_proba_lgbm[:,1]\n",
    "all_test_proba+=y_proba_rf[:,1]\n",
    "all_test_proba+=y_proba_xgb[:,1]\n",
    "all_test_proba = all_test_proba/3\n",
    "len(all_test_proba)"
   ]
  },
  {
   "cell_type": "code",
   "execution_count": 145,
   "metadata": {},
   "outputs": [],
   "source": [
    "# threshold 조절하여 0 또는 1로 분류\n",
    "@np.vectorize\n",
    "def is_positive(x, thres):\n",
    "    if x>thres:\n",
    "        y = 1\n",
    "    else:\n",
    "        y = 0\n",
    "    return y"
   ]
  },
  {
   "cell_type": "code",
   "execution_count": 146,
   "metadata": {},
   "outputs": [
    {
     "data": {
      "text/plain": [
       "3256262"
      ]
     },
     "execution_count": 146,
     "metadata": {},
     "output_type": "execute_result"
    }
   ],
   "source": [
    "y_pred = is_positive(all_test_proba, 0.48)\n",
    "len(y_pred)"
   ]
  },
  {
   "cell_type": "code",
   "execution_count": 149,
   "metadata": {},
   "outputs": [
    {
     "name": "stdout",
     "output_type": "stream",
     "text": [
      "Counter({0: 2806059, 1: 450203})\n"
     ]
    }
   ],
   "source": [
    "# 예측값의 불균형 여부 확인하기\n",
    "import collections\n",
    "print(collections.Counter(y_pred))"
   ]
  },
  {
   "cell_type": "code",
   "execution_count": null,
   "metadata": {},
   "outputs": [],
   "source": [
    "# 예측치를 하나의 데이터프레임으로 완성\n",
    "submit_template['is_applied']=y_pred\n",
    "submit_template"
   ]
  },
  {
   "cell_type": "code",
   "execution_count": null,
   "metadata": {},
   "outputs": [],
   "source": [
    "# submit기준으로 조인 , 사이즈 확인 만약 사이즈 변했으면 drop duplicate\n",
    "submission = pd.read_csv('../preprocessed/submission.csv')\n",
    "print(submission.shape)\n",
    "display(submission.head())"
   ]
  },
  {
   "cell_type": "code",
   "execution_count": 171,
   "metadata": {},
   "outputs": [],
   "source": [
    "# submit 기준 조인\n",
    "result=pd.merge(submission, submit_template, how='left', on=['application_id','product_id'])"
   ]
  },
  {
   "cell_type": "code",
   "execution_count": 172,
   "metadata": {},
   "outputs": [
    {
     "data": {
      "text/plain": [
       "(3255254, 4)"
      ]
     },
     "execution_count": 172,
     "metadata": {},
     "output_type": "execute_result"
    }
   ],
   "source": [
    "result.shape"
   ]
  },
  {
   "cell_type": "code",
   "execution_count": null,
   "metadata": {},
   "outputs": [],
   "source": [
    "result.drop('is_applied_x',axis=1, inplace=True)\n",
    "result.rename(columns={'is_applied_y':'is_applied'}, inplace=True)\n",
    "result.head()"
   ]
  },
  {
   "cell_type": "code",
   "execution_count": 174,
   "metadata": {},
   "outputs": [],
   "source": [
    "result=result.drop_duplicates()"
   ]
  },
  {
   "cell_type": "code",
   "execution_count": 175,
   "metadata": {},
   "outputs": [
    {
     "data": {
      "text/plain": [
       "(3255194, 3)"
      ]
     },
     "execution_count": 175,
     "metadata": {},
     "output_type": "execute_result"
    }
   ],
   "source": [
    "result=result.reset_index(drop=False)\n",
    "result=result.sort_values(by=['application_id','product_id','is_applied'])\n",
    "result=result.drop_duplicates(subset=['application_id','product_id'], keep='first')\n",
    "result=result.set_index('index').sort_index()\n",
    "result.shape\n"
   ]
  },
  {
   "cell_type": "code",
   "execution_count": null,
   "metadata": {},
   "outputs": [],
   "source": [
    "result.head()"
   ]
  },
  {
   "cell_type": "code",
   "execution_count": 177,
   "metadata": {},
   "outputs": [
    {
     "data": {
      "text/plain": [
       "0    2805772\n",
       "1     449422\n",
       "Name: is_applied, dtype: int64"
      ]
     },
     "execution_count": 177,
     "metadata": {},
     "output_type": "execute_result"
    }
   ],
   "source": [
    "result['is_applied'].value_counts()"
   ]
  },
  {
   "cell_type": "code",
   "execution_count": 178,
   "metadata": {},
   "outputs": [],
   "source": [
    "result.to_csv('../preprocessed/final_submission.csv', index=False)"
   ]
  },
  {
   "cell_type": "code",
   "execution_count": null,
   "metadata": {},
   "outputs": [],
   "source": []
  }
 ],
 "metadata": {
  "kernelspec": {
   "display_name": "Python 3.8.13 ('ryuvenv': conda)",
   "language": "python",
   "name": "python3"
  },
  "language_info": {
   "codemirror_mode": {
    "name": "ipython",
    "version": 3
   },
   "file_extension": ".py",
   "mimetype": "text/x-python",
   "name": "python",
   "nbconvert_exporter": "python",
   "pygments_lexer": "ipython3",
   "version": "3.8.13"
  },
  "orig_nbformat": 4,
  "vscode": {
   "interpreter": {
    "hash": "db4a054fa3485500d815f3fdd1ed0c3e4f2427f3103f3684095f07e4b5b8fabd"
   }
  }
 },
 "nbformat": 4,
 "nbformat_minor": 2
}
