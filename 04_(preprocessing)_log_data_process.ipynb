{
 "cells": [
  {
   "cell_type": "code",
   "execution_count": 1,
   "metadata": {},
   "outputs": [],
   "source": [
    "import os\n",
    "import pandas as pd\n",
    "import numpy as np\n",
    "import matplotlib.pyplot as plt\n",
    "import seaborn as sns\n",
    "from IPython.display import display\n",
    "import pickle\n",
    "import gzip\n",
    "import time\n",
    "from warnings import filterwarnings\n",
    "filterwarnings('ignore')\n",
    "from _utils import utils, transforming, filling\n",
    "\n",
    "data = ['../BigContest_data/' + file for file in os.listdir('../BigContest_data')]"
   ]
  },
  {
   "cell_type": "code",
   "execution_count": 2,
   "metadata": {},
   "outputs": [],
   "source": [
    "concat_log = pd.read_csv('../preprocessed/concat_log.csv')"
   ]
  },
  {
   "attachments": {},
   "cell_type": "markdown",
   "metadata": {},
   "source": [
    "# log_data에 대한 feature\n",
    "## log_data의 행동 횟수(비율)\n",
    "- 여러번의 is_applied 전후의 행동 비중 살피기"
   ]
  },
  {
   "cell_type": "code",
   "execution_count": null,
   "metadata": {},
   "outputs": [],
   "source": [
    "concat_log['event'].unique()"
   ]
  },
  {
   "cell_type": "code",
   "execution_count": 4,
   "metadata": {},
   "outputs": [],
   "source": [
    "valid_actions = ['UseLoanManage','CompleteIDCertification','UsePrepayCalc','UseDSRCalc','GetCreditInfo','is_applied_Y']\n",
    "cond = concat_log['event'].isin(valid_actions)\n",
    "concat_log_cond = concat_log[cond]"
   ]
  },
  {
   "cell_type": "code",
   "execution_count": 21,
   "metadata": {},
   "outputs": [
    {
     "name": "stdout",
     "output_type": "stream",
     "text": [
      "32.642743690808615 분\n"
     ]
    }
   ],
   "source": [
    "# 주의 : 30분(?) 가량 걸림\n",
    "start = time.time()\n",
    "freq_action = concat_log_cond.groupby('user_id').apply(transforming.freq_count)\n",
    "print((time.time() - start)/60,'분')"
   ]
  },
  {
   "attachments": {},
   "cell_type": "markdown",
   "metadata": {},
   "source": [
    "## log_data의 시간 feature"
   ]
  },
  {
   "cell_type": "code",
   "execution_count": null,
   "metadata": {},
   "outputs": [],
   "source": [
    "# 예시\n",
    "temp = concat_log_cond.query('user_id==879693')\n",
    "display(temp)\n",
    "print(transforming.timedelta_static(temp))"
   ]
  },
  {
   "cell_type": "code",
   "execution_count": 14,
   "metadata": {},
   "outputs": [
    {
     "name": "stdout",
     "output_type": "stream",
     "text": [
      "Components(days=7, hours=3, minutes=8, seconds=31, milliseconds=0, microseconds=0, nanoseconds=0)\n"
     ]
    },
    {
     "data": {
      "text/plain": [
       "171.14194444444445"
      ]
     },
     "execution_count": 14,
     "metadata": {},
     "output_type": "execute_result"
    }
   ],
   "source": [
    "print((pd.to_datetime('2022-05-20 16:33:04') - pd.to_datetime('2022-05-13 13:24:33')).components)\n",
    "7*24 +3+ 8/60+31/3600"
   ]
  },
  {
   "cell_type": "code",
   "execution_count": null,
   "metadata": {},
   "outputs": [],
   "source": [
    "temp = concat_log_cond.query('user_id==1')\n",
    "display(temp)\n",
    "print(transforming.timedelta_static(temp))"
   ]
  },
  {
   "cell_type": "code",
   "execution_count": 22,
   "metadata": {},
   "outputs": [
    {
     "name": "stdout",
     "output_type": "stream",
     "text": [
      "9.904152647654216 분\n"
     ]
    }
   ],
   "source": [
    "start = time.time()\n",
    "concat_log_cond['temp'] = concat_log_cond['event'] + '/'+ concat_log_cond['timestamp'] \n",
    "user_time_delta = concat_log_cond.groupby('user_id')['temp'].agg(transforming.timedelta_static_wrapper)\n",
    "processing_seconds = time.time() - start\n",
    "print(processing_seconds/60,'분')"
   ]
  },
  {
   "cell_type": "code",
   "execution_count": 24,
   "metadata": {},
   "outputs": [],
   "source": [
    "user_time_delta_df = user_time_delta.str.split(pat=',',expand=True)\n",
    "categories_conti = pd.Series(['max','min','mean','std','quantile_first','quantile_second','quantile_third'], dtype='str')\n",
    "user_time_delta_df.columns = ('timedelta_'+ categories_conti).tolist()\n",
    "user_time_delta_df = user_time_delta_df.applymap(utils.as_float)"
   ]
  },
  {
   "attachments": {},
   "cell_type": "markdown",
   "metadata": {},
   "source": [
    "## 행동특성과 시간특성 concat"
   ]
  },
  {
   "cell_type": "code",
   "execution_count": 28,
   "metadata": {},
   "outputs": [
    {
     "name": "stdout",
     "output_type": "stream",
     "text": [
      "The Object saved in ../preprocessed/log_clustering.pickle.\n"
     ]
    }
   ],
   "source": [
    "log_clustering = pd.concat([freq_action,user_time_delta_df],axis=1)\n",
    "utils.save_pickle(log_clustering, '../preprocessed/log_clustering.pickle')"
   ]
  },
  {
   "attachments": {},
   "cell_type": "markdown",
   "metadata": {},
   "source": [
    "## log 행동특성 월간 평균 횟수"
   ]
  },
  {
   "cell_type": "code",
   "execution_count": 123,
   "metadata": {},
   "outputs": [
    {
     "name": "stderr",
     "output_type": "stream",
     "text": [
      "/usr/local/lib/python3.6/site-packages/ipykernel_launcher.py:2: SettingWithCopyWarning: \n",
      "A value is trying to be set on a copy of a slice from a DataFrame.\n",
      "Try using .loc[row_indexer,col_indexer] = value instead\n",
      "\n",
      "See the caveats in the documentation: https://pandas.pydata.org/pandas-docs/stable/user_guide/indexing.html#returning-a-view-versus-a-copy\n",
      "  \n"
     ]
    }
   ],
   "source": [
    "concat_log_valid = concat_log[concat_log['event'].isin(['UseLoanManage','CompleteIDCertification','UsePrepayCalc','UseDSRCalc','GetCreditInfo'])]\n",
    "concat_log_valid['month'] = pd.to_datetime(concat_log_valid['timestamp']).dt.month\n",
    "\n",
    "grouped = concat_log_valid.groupby(['user_id','event','month']).count()\n",
    "grouped_stacked = grouped.unstack(level=2).unstack(level=1)\n",
    "first_lev_col = np.array(grouped_stacked.columns.tolist())[:,1]\n",
    "second_lev_col = np.array(grouped_stacked.columns.tolist())[:,2]\n",
    "new_col = ['month_'+x+'_'+y+'_count' for x,y in zip(first_lev_col, second_lev_col)]\n",
    "grouped_stacked.columns = new_col"
   ]
  },
  {
   "cell_type": "code",
   "execution_count": 126,
   "metadata": {},
   "outputs": [],
   "source": [
    "action_counts = pd.DataFrame()\n",
    "grouped_stacked = grouped_stacked.fillna(0)\n",
    "action_counts['CompleteIDCertification_count'] = (grouped_stacked.iloc[:,0] + grouped_stacked.iloc[:,5] + grouped_stacked.iloc[:,10])/3\n",
    "action_counts['GetCreditInfo_count'] = (grouped_stacked.iloc[:,1] + grouped_stacked.iloc[:,6] + grouped_stacked.iloc[:,11])/3\n",
    "action_counts['UseDSRCalc_count'] = (grouped_stacked.iloc[:,2] + grouped_stacked.iloc[:,7] + grouped_stacked.iloc[:,12])/3\n",
    "action_counts['UseLoanManage_count'] = (grouped_stacked.iloc[:,3] + grouped_stacked.iloc[:,8] + grouped_stacked.iloc[:,13])/3\n",
    "action_counts['UsePrepayCalc_count'] = (grouped_stacked.iloc[:,4] + grouped_stacked.iloc[:,9] + grouped_stacked.iloc[:,14])/3\n"
   ]
  },
  {
   "cell_type": "code",
   "execution_count": null,
   "metadata": {},
   "outputs": [],
   "source": [
    "action_counts.head()"
   ]
  },
  {
   "cell_type": "code",
   "execution_count": null,
   "metadata": {},
   "outputs": [],
   "source": [
    "log_action_clustering = pd.concat([log_clustering,action_counts],axis=1)\n",
    "log_action_clustering.head()"
   ]
  },
  {
   "cell_type": "code",
   "execution_count": 135,
   "metadata": {},
   "outputs": [
    {
     "name": "stdout",
     "output_type": "stream",
     "text": [
      "The Object saved in ../preprocessed/log_action_clustering.pickle.\n"
     ]
    }
   ],
   "source": [
    "utils.save_pickle(log_action_clustering, '../preprocessed/log_action_clustering.pickle')"
   ]
  },
  {
   "cell_type": "code",
   "execution_count": null,
   "metadata": {},
   "outputs": [],
   "source": []
  }
 ],
 "metadata": {
  "kernelspec": {
   "display_name": "Python 3",
   "language": "python",
   "name": "python3"
  },
  "language_info": {
   "codemirror_mode": {
    "name": "ipython",
    "version": 3
   },
   "file_extension": ".py",
   "mimetype": "text/x-python",
   "name": "python",
   "nbconvert_exporter": "python",
   "pygments_lexer": "ipython3",
   "version": "3.6.8"
  }
 },
 "nbformat": 4,
 "nbformat_minor": 4
}
