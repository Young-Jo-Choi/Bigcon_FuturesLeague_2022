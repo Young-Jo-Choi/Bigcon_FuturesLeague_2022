{
 "cells": [
  {
   "cell_type": "code",
   "execution_count": 3,
   "metadata": {},
   "outputs": [],
   "source": [
    "import os\n",
    "import pandas as pd\n",
    "import numpy as np\n",
    "import matplotlib.pyplot as plt\n",
    "import seaborn as sns\n",
    "from IPython.display import display\n",
    "import pickle\n",
    "import gzip\n",
    "import time\n",
    "from warnings import filterwarnings\n",
    "filterwarnings('ignore')\n",
    "from _utils import utils, transforming, filling\n",
    "\n",
    "data = ['../BigContest_data/' + file for file in os.listdir('../BigContest_data')]"
   ]
  },
  {
   "cell_type": "code",
   "execution_count": 4,
   "metadata": {},
   "outputs": [],
   "source": [
    "# 기본 제공 데이터\n",
    "user_spec = pd.read_csv(data[0])\n",
    "log_data = pd.read_csv(data[1])\n",
    "loan_result = pd.read_csv(data[2])"
   ]
  },
  {
   "cell_type": "code",
   "execution_count": null,
   "metadata": {},
   "outputs": [],
   "source": [
    "print('user_spec')\n",
    "print(tuple(map(utils.split_comma,user_spec.shape)))\n",
    "display(user_spec.head())\n",
    "print('log_data')\n",
    "print(tuple(map(utils.split_comma,log_data.shape)))\n",
    "display(log_data.head())\n",
    "print('loan_result')\n",
    "print(tuple(map(utils.split_comma,loan_result.shape)))\n",
    "display(loan_result.head())"
   ]
  },
  {
   "attachments": {},
   "cell_type": "markdown",
   "metadata": {},
   "source": [
    "# 누락 데이터 제거\n",
    "모든 결측치를 제거하는 것이 아니라 주최측 QnA에 따라 의미 없는 정보를 제거\n",
    "- loan_result에는 있는데 user_spec에는 없는 application_id는 제외\n",
    "- loan_result의 loan_rate와 loan_limit이 결측치인 경우 제외\n",
    "\n",
    "--> 다음의 누락데이터 제거를 사용하려했으나 2번 Feature Extraction에서 더 많은 변수를 추출하기 위해 원본 loan_result를 사용하기로 한다.(다음의 일부 제거된 데이터를 저장하지 않는다.)"
   ]
  },
  {
   "cell_type": "code",
   "execution_count": 6,
   "metadata": {},
   "outputs": [],
   "source": [
    "# loan_result에는 있는데 user_spec에는 없는 application_id는 제외\n",
    "drop_application = np.setdiff1d(loan_result['application_id'].unique(),user_spec['application_id'].unique())\n",
    "drop_cond = loan_result['application_id'].isin(drop_application)\n",
    "loan_result = loan_result[drop_cond==False]\n",
    "\n",
    "# loan_result의 loan_rate와 loan_limit이 결측치인 경우 제외\n",
    "loan_result = loan_result.dropna(subset=['loan_rate','loan_limit'], how='any')"
   ]
  },
  {
   "cell_type": "code",
   "execution_count": null,
   "metadata": {},
   "outputs": [],
   "source": [
    "# 로그데이터는 유실 가능, loan_result와 user_spec 위주로 살피면 됨\n",
    "# 다음은 그냥 참고용\n",
    "print(f\"\"\"log_data에는 있는데 user_spec 데이터에는 없는 user : {len(np.setdiff1d(log_data['user_id'],user_spec['user_id']))}명,\n",
    "user_spec에는 있는데 log_data 데이터에는 없는 user : {len(np.setdiff1d(user_spec['user_id'],log_data['user_id']))}명\"\"\")"
   ]
  },
  {
   "cell_type": "code",
   "execution_count": 8,
   "metadata": {},
   "outputs": [],
   "source": [
    "# user_id와 application_id는 매칭(dictionary)\n",
    "temp = user_spec.groupby('user_id').agg({'application_id':list})\n",
    "user_application_dict = dict(zip(temp.index, temp['application_id']))\n",
    "application_user_dict = dict(zip(user_spec['application_id'], user_spec['user_id']))"
   ]
  },
  {
   "attachments": {},
   "cell_type": "markdown",
   "metadata": {},
   "source": [
    "# 결측치 보간\n",
    "- 같은 user_id인 application_id에 대해 어떤 application_id는 값이 비워져있는데 어떤 application_id는 값이 채워져있다면 이를 토대로 결측값을 채울 수 있다.<br>\n",
    "    ex) user_id=1, application_id=1, gender=1 인 행이 있고 user_id=1, application_id=2, gender=NaN 인 행이 있다면 이 결측치는 1로 채울 수 있다.\n",
    "    \n",
    "## birth_year, gender\n",
    "- 최빈값을 이용하기로함"
   ]
  },
  {
   "cell_type": "code",
   "execution_count": null,
   "metadata": {},
   "outputs": [],
   "source": [
    "user_spec[['gender','birth_year']].isnull().sum()"
   ]
  },
  {
   "cell_type": "code",
   "execution_count": null,
   "metadata": {},
   "outputs": [],
   "source": [
    "is_gender_col_complete = utils.is_unique(user_spec, 'gender')\n",
    "# nan으로만 구성된 user_id는 포함되지 않는다.\n",
    "is_gender_col_complete[is_gender_col_complete > 1].head()"
   ]
  },
  {
   "cell_type": "code",
   "execution_count": null,
   "metadata": {},
   "outputs": [],
   "source": [
    "# gender=1라는 정보가 실려있으므로 gender의 결측치 채워넣기 가능\n",
    "display(user_spec.query('user_id==52').iloc[:,:5])\n",
    "# gender=2라는 정보가 실려있으므로 gender의 결측치 채워넣기 가능\n",
    "display(user_spec.query('user_id==1318').iloc[:,:5])\n",
    "# 이런것은 채우지 못함\n",
    "display(user_spec.query('user_id==877748').iloc[:,:5])"
   ]
  },
  {
   "cell_type": "code",
   "execution_count": 16,
   "metadata": {},
   "outputs": [],
   "source": [
    "user_spec_filled = filling.fillna(user_spec, 'gender', 'mode')\n",
    "user_spec_filled = filling.fillna(user_spec_filled, 'birth_year', 'mode')"
   ]
  },
  {
   "cell_type": "code",
   "execution_count": null,
   "metadata": {},
   "outputs": [],
   "source": [
    "# 위에서 확인한 52번과 1318번,877748번 고객 정보를 통해 잘 채워진것을 확인할 수 있음\n",
    "display(pd.concat([user_spec_filled.query('user_id==52').iloc[:,:5],\n",
    "                   user_spec_filled.query('user_id==1318').iloc[:,:5],\n",
    "                   user_spec_filled.query('user_id==877748').iloc[:,:5]],axis=0))"
   ]
  },
  {
   "cell_type": "code",
   "execution_count": null,
   "metadata": {},
   "outputs": [],
   "source": [
    "user_spec_filled[['gender','birth_year']].isnull().sum()"
   ]
  },
  {
   "attachments": {},
   "cell_type": "markdown",
   "metadata": {},
   "source": [
    "## credit_score, yearly_income\n",
    "- 시간에 따른 보간을 이용하기로 한다. 단 신용점수의 보간값이 일의 자리가 생기는 것을 막기 위해 반올림한다."
   ]
  },
  {
   "cell_type": "code",
   "execution_count": null,
   "metadata": {},
   "outputs": [],
   "source": [
    "user_spec[['credit_score','yearly_income']].isnull().sum()"
   ]
  },
  {
   "cell_type": "code",
   "execution_count": null,
   "metadata": {},
   "outputs": [],
   "source": [
    "# 예시\n",
    "display(user_spec.loc[user_spec['user_id']==387038,['user_id','gender','insert_time','credit_score','yearly_income']])"
   ]
  },
  {
   "cell_type": "code",
   "execution_count": 21,
   "metadata": {},
   "outputs": [
    {
     "name": "stdout",
     "output_type": "stream",
     "text": [
      "4.202482493718465 분\n"
     ]
    }
   ],
   "source": [
    "start = time.time()\n",
    "user_spec_filled = filling.fillna(user_spec_filled, 'credit_score', 'interpolate')\n",
    "user_spec_filled = filling.fillna(user_spec_filled, 'yearly_income', 'interpolate')\n",
    "print((time.time() - start)/60,'분')"
   ]
  },
  {
   "cell_type": "code",
   "execution_count": null,
   "metadata": {},
   "outputs": [],
   "source": [
    "# 예시 데이터 fill\n",
    "display(user_spec_filled.loc[user_spec_filled['user_id']==387038,['user_id','gender','insert_time','credit_score','yearly_income']])"
   ]
  },
  {
   "cell_type": "code",
   "execution_count": null,
   "metadata": {},
   "outputs": [],
   "source": [
    "user_spec_filled[['credit_score','yearly_income']].isnull().sum()"
   ]
  },
  {
   "attachments": {},
   "cell_type": "markdown",
   "metadata": {},
   "source": [
    "## income_type, employment_type, houseown_type\n",
    "- 명목형 변수는 이전값(주위값)으로 채우기로 한다."
   ]
  },
  {
   "cell_type": "code",
   "execution_count": null,
   "metadata": {},
   "outputs": [],
   "source": [
    "user_spec[['income_type','employment_type','houseown_type']].isnull().sum()"
   ]
  },
  {
   "cell_type": "code",
   "execution_count": null,
   "metadata": {},
   "outputs": [],
   "source": [
    "# 예시\n",
    "display(user_spec.query('user_id==88930')[['application_id','user_id','insert_time','income_type','employment_type','houseown_type']])"
   ]
  },
  {
   "cell_type": "code",
   "execution_count": 39,
   "metadata": {},
   "outputs": [
    {
     "name": "stdout",
     "output_type": "stream",
     "text": [
      "0.02245872418085734 분\n"
     ]
    }
   ],
   "source": [
    "# purpose는 실제로 그때그때 다를 수 있으므로 채워넣지 않는다.\n",
    "# 'income_type','employment_type','houseown_type'는 가까운 시간 사이에는 변하지 않을 가능성이 높기 때문에 채워넣는다.\n",
    "start = time.time()\n",
    "user_spec_filled = filling.fillna(user_spec_filled,'income_type','order' )\n",
    "user_spec_filled = filling.fillna(user_spec_filled,'employment_type','order' )\n",
    "user_spec_filled = filling.fillna(user_spec_filled,'houseown_type','order' )\n",
    "print((time.time() - start)/60,'분')"
   ]
  },
  {
   "cell_type": "code",
   "execution_count": null,
   "metadata": {},
   "outputs": [],
   "source": [
    "# 예시 데이터 fill\n",
    "display(user_spec_filled.query('user_id==88930')[['application_id','user_id','insert_time','income_type','employment_type','houseown_type']])"
   ]
  },
  {
   "cell_type": "code",
   "execution_count": null,
   "metadata": {},
   "outputs": [],
   "source": [
    "user_spec_filled[['income_type','employment_type','houseown_type']].isnull().sum()"
   ]
  },
  {
   "attachments": {},
   "cell_type": "markdown",
   "metadata": {},
   "source": [
    "## company_enter_month\n",
    "- mode를 취하되 입사년도 자체보다는 입사 후 지난 기간을 고려하기 위해 추후 더 처리를 해주도록 한다."
   ]
  },
  {
   "cell_type": "code",
   "execution_count": 42,
   "metadata": {},
   "outputs": [
    {
     "name": "stdout",
     "output_type": "stream",
     "text": [
      "0.5693900307019552 분\n"
     ]
    }
   ],
   "source": [
    "start = time.time()\n",
    "user_spec_filled = filling.fillna(user_spec_filled,'company_enter_month','mode' )\n",
    "print((time.time() - start)/60,'분')"
   ]
  },
  {
   "attachments": {},
   "cell_type": "markdown",
   "metadata": {},
   "source": [
    "## personal_rehabilitation_yn, personal_rehabilitation_complete_yn\n",
    "- rehabilitation==nan\n",
    "    - 다른 application이 있다 → rehabilitation과 complete 모두 이전값으로 채우기\n",
    "    - 다른 application이 없다 → 0\n",
    "- rehabilitation==0 → complete 2(해당없음)\n",
    "- rehabilitation==1 → complete 결측치 x (결측치 처리 필요 없음)"
   ]
  },
  {
   "cell_type": "code",
   "execution_count": 54,
   "metadata": {},
   "outputs": [],
   "source": [
    "df_consider = user_spec[['user_id','insert_time','personal_rehabilitation_yn', 'personal_rehabilitation_complete_yn']]"
   ]
  },
  {
   "cell_type": "code",
   "execution_count": null,
   "metadata": {},
   "outputs": [],
   "source": [
    "(df_consider['personal_rehabilitation_yn'].astype('str') + '_' + df_consider['personal_rehabilitation_complete_yn'].astype('str')).value_counts(dropna=False)"
   ]
  },
  {
   "cell_type": "code",
   "execution_count": 57,
   "metadata": {},
   "outputs": [],
   "source": [
    "def fill_reha_compl_frst(df):\n",
    "    if (df['personal_rehabilitation_yn']==0) & (pd.isna(df['personal_rehabilitation_complete_yn'])):\n",
    "        complete = 2\n",
    "    else:\n",
    "        complete = df['personal_rehabilitation_complete_yn']\n",
    "    return complete\n",
    "df_consider['personal_rehabilitation_complete_yn'] = df_consider.apply(fill_reha_compl_frst,axis=1)"
   ]
  },
  {
   "cell_type": "code",
   "execution_count": null,
   "metadata": {},
   "outputs": [],
   "source": [
    "(df_consider['personal_rehabilitation_yn'].astype('str') + '_' + df_consider['personal_rehabilitation_complete_yn'].astype('str')).value_counts(dropna=False)"
   ]
  },
  {
   "cell_type": "code",
   "execution_count": 64,
   "metadata": {},
   "outputs": [],
   "source": [
    "# 주의 : 결측치가 많아 시간이 오래걸림(30분 가량)\n",
    "df_consider_filled = filling.fillna(df_consider, 'personal_rehabilitation_yn', 'order')\n",
    "df_consider_filled = filling.fillna(df_consider_filled, 'personal_rehabilitation_complete_yn', 'order')"
   ]
  },
  {
   "cell_type": "code",
   "execution_count": null,
   "metadata": {},
   "outputs": [],
   "source": [
    "(df_consider_filled['personal_rehabilitation_yn'].astype('str') + '_' + df_consider_filled['personal_rehabilitation_complete_yn'].astype('str')).value_counts(dropna=False)"
   ]
  },
  {
   "cell_type": "code",
   "execution_count": 68,
   "metadata": {},
   "outputs": [],
   "source": [
    "null_user_id = df_consider_filled.loc[df_consider_filled['personal_rehabilitation_yn'].isnull(),'user_id']"
   ]
  },
  {
   "cell_type": "code",
   "execution_count": null,
   "metadata": {},
   "outputs": [],
   "source": [
    "# 같은 user_id의 다른 application_id에서 참조할 값이 없는 고객들이니 0으로 채운다.\n",
    "df_consider_filled.loc[df_consider_filled['user_id'].isin(null_user_id), 'personal_rehabilitation_yn'].sum()"
   ]
  },
  {
   "cell_type": "code",
   "execution_count": 71,
   "metadata": {},
   "outputs": [],
   "source": [
    "df_consider_filled['personal_rehabilitation_yn'] = df_consider_filled['personal_rehabilitation_yn'].fillna(0)\n",
    "df_consider_filled['personal_rehabilitation_complete_yn'] = df_consider_filled['personal_rehabilitation_complete_yn'].fillna(2)\n"
   ]
  },
  {
   "cell_type": "code",
   "execution_count": null,
   "metadata": {},
   "outputs": [],
   "source": [
    "df_consider_filled.isnull().sum()"
   ]
  },
  {
   "cell_type": "code",
   "execution_count": 75,
   "metadata": {},
   "outputs": [],
   "source": [
    "user_spec_filled.loc[:,['user_id','insert_time','personal_rehabilitation_yn', 'personal_rehabilitation_complete_yn']] = df_consider_filled"
   ]
  },
  {
   "attachments": {},
   "cell_type": "markdown",
   "metadata": {},
   "source": [
    "## desired amount\n",
    "loan_result에 is_applied = 1이 있으면, 그 상품 금액만 모아서  desired_amount 넣으려는 전략을 취하려했으나 desired_amount가 null인 application_id가 loan_result에는 없음"
   ]
  },
  {
   "cell_type": "code",
   "execution_count": 84,
   "metadata": {},
   "outputs": [
    {
     "data": {
      "text/html": [
       "<div>\n",
       "<style scoped>\n",
       "    .dataframe tbody tr th:only-of-type {\n",
       "        vertical-align: middle;\n",
       "    }\n",
       "\n",
       "    .dataframe tbody tr th {\n",
       "        vertical-align: top;\n",
       "    }\n",
       "\n",
       "    .dataframe thead th {\n",
       "        text-align: right;\n",
       "    }\n",
       "</style>\n",
       "<table border=\"1\" class=\"dataframe\">\n",
       "  <thead>\n",
       "    <tr style=\"text-align: right;\">\n",
       "      <th></th>\n",
       "      <th>application_id</th>\n",
       "      <th>loanapply_insert_time</th>\n",
       "      <th>bank_id</th>\n",
       "      <th>product_id</th>\n",
       "      <th>loan_limit</th>\n",
       "      <th>loan_rate</th>\n",
       "      <th>is_applied</th>\n",
       "    </tr>\n",
       "  </thead>\n",
       "  <tbody>\n",
       "  </tbody>\n",
       "</table>\n",
       "</div>"
      ],
      "text/plain": [
       "Empty DataFrame\n",
       "Columns: [application_id, loanapply_insert_time, bank_id, product_id, loan_limit, loan_rate, is_applied]\n",
       "Index: []"
      ]
     },
     "execution_count": 84,
     "metadata": {},
     "output_type": "execute_result"
    }
   ],
   "source": [
    "desired_amount_null_app_id = user_spec_filled.loc[user_spec_filled['desired_amount'].isnull(),'application_id'].values\n",
    "loan_result[loan_result['application_id'].isin(desired_amount_null_app_id)]"
   ]
  },
  {
   "attachments": {},
   "cell_type": "markdown",
   "metadata": {},
   "source": [
    "## exisiting_loan_cnt, existing_loan_amt\n",
    "- 이전값으로 "
   ]
  },
  {
   "cell_type": "code",
   "execution_count": 89,
   "metadata": {},
   "outputs": [],
   "source": [
    "df_consider = user_spec[['application_id','user_id','insert_time','existing_loan_cnt', 'existing_loan_amt']]"
   ]
  },
  {
   "cell_type": "code",
   "execution_count": null,
   "metadata": {},
   "outputs": [],
   "source": [
    "null_cond1 = df_consider['existing_loan_cnt'].isnull()\n",
    "null_cond2 = df_consider['existing_loan_amt'].isnull()\n",
    "\n",
    "df_consider_null = df_consider.loc[null_cond1 | null_cond2,:]\n",
    "display(df_consider_null.head())\n",
    "print(df_consider_null.shape)"
   ]
  },
  {
   "cell_type": "code",
   "execution_count": 114,
   "metadata": {},
   "outputs": [],
   "source": [
    "df_consider_null = df_consider[df_consider['user_id'].isin(df_consider_null['user_id'].values)]"
   ]
  },
  {
   "cell_type": "code",
   "execution_count": 119,
   "metadata": {},
   "outputs": [
    {
     "data": {
      "text/plain": [
       "(313774, 5)"
      ]
     },
     "execution_count": 119,
     "metadata": {},
     "output_type": "execute_result"
    }
   ],
   "source": [
    "# 아마 같은 user_id에서 참조할게 없어보임 -> 보간 함수 적용해도 소용 없을듯\n",
    "\n",
    "df_consider_null.shape"
   ]
  },
  {
   "cell_type": "code",
   "execution_count": 123,
   "metadata": {},
   "outputs": [
    {
     "name": "stdout",
     "output_type": "stream",
     "text": [
      "6.705570793151855 분\n"
     ]
    }
   ],
   "source": [
    "start = time.time()\n",
    "user_spec_filled = filling.fillna(user_spec_filled,'existing_loan_cnt','order')\n",
    "print((time.time()-start)/60,'분')"
   ]
  },
  {
   "cell_type": "code",
   "execution_count": 124,
   "metadata": {},
   "outputs": [
    {
     "data": {
      "text/plain": [
       "198556"
      ]
     },
     "execution_count": 124,
     "metadata": {},
     "output_type": "execute_result"
    }
   ],
   "source": [
    "# 실제로 채워지지 않음, existing_loan_amt 역시 마찬가지\n",
    "user_spec_filled['existing_loan_cnt'].isnull().sum()"
   ]
  },
  {
   "cell_type": "code",
   "execution_count": 127,
   "metadata": {},
   "outputs": [
    {
     "data": {
      "text/html": [
       "<div>\n",
       "<style scoped>\n",
       "    .dataframe tbody tr th:only-of-type {\n",
       "        vertical-align: middle;\n",
       "    }\n",
       "\n",
       "    .dataframe tbody tr th {\n",
       "        vertical-align: top;\n",
       "    }\n",
       "\n",
       "    .dataframe thead th {\n",
       "        text-align: right;\n",
       "    }\n",
       "</style>\n",
       "<table border=\"1\" class=\"dataframe\">\n",
       "  <thead>\n",
       "    <tr style=\"text-align: right;\">\n",
       "      <th></th>\n",
       "      <th>origin</th>\n",
       "      <th>after fill</th>\n",
       "    </tr>\n",
       "  </thead>\n",
       "  <tbody>\n",
       "    <tr>\n",
       "      <th>application_id</th>\n",
       "      <td>0</td>\n",
       "      <td>0</td>\n",
       "    </tr>\n",
       "    <tr>\n",
       "      <th>user_id</th>\n",
       "      <td>0</td>\n",
       "      <td>0</td>\n",
       "    </tr>\n",
       "    <tr>\n",
       "      <th>birth_year</th>\n",
       "      <td>12961</td>\n",
       "      <td>9724</td>\n",
       "    </tr>\n",
       "    <tr>\n",
       "      <th>gender</th>\n",
       "      <td>12961</td>\n",
       "      <td>9724</td>\n",
       "    </tr>\n",
       "    <tr>\n",
       "      <th>insert_time</th>\n",
       "      <td>0</td>\n",
       "      <td>0</td>\n",
       "    </tr>\n",
       "    <tr>\n",
       "      <th>credit_score</th>\n",
       "      <td>105115</td>\n",
       "      <td>87524</td>\n",
       "    </tr>\n",
       "    <tr>\n",
       "      <th>yearly_income</th>\n",
       "      <td>90</td>\n",
       "      <td>19</td>\n",
       "    </tr>\n",
       "    <tr>\n",
       "      <th>income_type</th>\n",
       "      <td>85</td>\n",
       "      <td>18</td>\n",
       "    </tr>\n",
       "    <tr>\n",
       "      <th>company_enter_month</th>\n",
       "      <td>171760</td>\n",
       "      <td>114112</td>\n",
       "    </tr>\n",
       "    <tr>\n",
       "      <th>employment_type</th>\n",
       "      <td>18</td>\n",
       "      <td>18</td>\n",
       "    </tr>\n",
       "    <tr>\n",
       "      <th>houseown_type</th>\n",
       "      <td>85</td>\n",
       "      <td>18</td>\n",
       "    </tr>\n",
       "    <tr>\n",
       "      <th>desired_amount</th>\n",
       "      <td>85</td>\n",
       "      <td>85</td>\n",
       "    </tr>\n",
       "    <tr>\n",
       "      <th>purpose</th>\n",
       "      <td>85</td>\n",
       "      <td>85</td>\n",
       "    </tr>\n",
       "    <tr>\n",
       "      <th>personal_rehabilitation_yn</th>\n",
       "      <td>587461</td>\n",
       "      <td>0</td>\n",
       "    </tr>\n",
       "    <tr>\n",
       "      <th>personal_rehabilitation_complete_yn</th>\n",
       "      <td>1203354</td>\n",
       "      <td>0</td>\n",
       "    </tr>\n",
       "    <tr>\n",
       "      <th>existing_loan_cnt</th>\n",
       "      <td>198556</td>\n",
       "      <td>198556</td>\n",
       "    </tr>\n",
       "    <tr>\n",
       "      <th>existing_loan_amt</th>\n",
       "      <td>313774</td>\n",
       "      <td>313774</td>\n",
       "    </tr>\n",
       "  </tbody>\n",
       "</table>\n",
       "</div>"
      ],
      "text/plain": [
       "                                      origin  after fill\n",
       "application_id                             0           0\n",
       "user_id                                    0           0\n",
       "birth_year                             12961        9724\n",
       "gender                                 12961        9724\n",
       "insert_time                                0           0\n",
       "credit_score                          105115       87524\n",
       "yearly_income                             90          19\n",
       "income_type                               85          18\n",
       "company_enter_month                   171760      114112\n",
       "employment_type                           18          18\n",
       "houseown_type                             85          18\n",
       "desired_amount                            85          85\n",
       "purpose                                   85          85\n",
       "personal_rehabilitation_yn            587461           0\n",
       "personal_rehabilitation_complete_yn  1203354           0\n",
       "existing_loan_cnt                     198556      198556\n",
       "existing_loan_amt                     313774      313774"
      ]
     },
     "metadata": {},
     "output_type": "display_data"
    }
   ],
   "source": [
    "display(pd.concat([user_spec.isnull().sum(), user_spec_filled.isnull().sum()],axis=1).rename(columns={0:'origin',1:'after fill'}))"
   ]
  },
  {
   "attachments": {},
   "cell_type": "markdown",
   "metadata": {},
   "source": [
    "# user_spec의 purpose가 한글, 영어 섞여있으니 통일"
   ]
  },
  {
   "cell_type": "code",
   "execution_count": null,
   "metadata": {},
   "outputs": [],
   "source": [
    "user_spec_filled['purpose'].unique()"
   ]
  },
  {
   "cell_type": "code",
   "execution_count": null,
   "metadata": {},
   "outputs": [],
   "source": [
    "mapping = {'생활비':'LIVING','대환대출':'SWITCHLOAN','기타':'ETC','투자':'INVEST',\n",
    "          '사업자금':'BUSINESS','자동차구입':'BUYCAR','전월세보증금':'HOUSEDEPOSIT','주택구입':'BUYHOUSE'}\n",
    "user_spec_filled['purpose'].replace(mapping).unique()"
   ]
  },
  {
   "cell_type": "code",
   "execution_count": 178,
   "metadata": {},
   "outputs": [],
   "source": [
    "user_spec_filled['purpose'] = user_spec_filled['purpose'].replace(mapping)"
   ]
  },
  {
   "attachments": {},
   "cell_type": "markdown",
   "metadata": {},
   "source": [
    "# user_spec의 employment_type, houseown_type"
   ]
  },
  {
   "cell_type": "code",
   "execution_count": null,
   "metadata": {},
   "outputs": [],
   "source": [
    "# 다음 값은 한글이므로 encoding 문제를 대비해 영어로 바꿔놓기로 한다.\n",
    "user_spec_filled['employment_type'].unique()"
   ]
  },
  {
   "cell_type": "code",
   "execution_count": null,
   "metadata": {},
   "outputs": [],
   "source": [
    "user_spec_filled['houseown_type'].unique()"
   ]
  },
  {
   "cell_type": "code",
   "execution_count": 201,
   "metadata": {},
   "outputs": [],
   "source": [
    "employment_type_dict = {'기타':'etc','정규직':'regular_worker','계약직':'contract_worker','일용직':'daily_worker'}\n",
    "user_spec_filled['employment_type'] = user_spec_filled['employment_type'].replace(employment_type_dict)"
   ]
  },
  {
   "cell_type": "code",
   "execution_count": 206,
   "metadata": {},
   "outputs": [],
   "source": [
    "houseown_type_dict = {'자가':'own','기타가족소유':'family','전월세':'rent','배우자':'spouse'}\n",
    "user_spec_filled['houseown_type'] = user_spec_filled['houseown_type'].replace(houseown_type_dict)"
   ]
  },
  {
   "attachments": {},
   "cell_type": "markdown",
   "metadata": {},
   "source": [
    "# company_enter_month 형식 통일"
   ]
  },
  {
   "cell_type": "code",
   "execution_count": null,
   "metadata": {},
   "outputs": [],
   "source": [
    "# 다음과 같이 맞지 않음\n",
    "user_spec_filled.loc[[0,1394211],'company_enter_month']"
   ]
  },
  {
   "cell_type": "code",
   "execution_count": 194,
   "metadata": {},
   "outputs": [],
   "source": [
    "user_spec_filled['company_enter_month'] = user_spec_filled['company_enter_month'].map(utils.make_date_format)"
   ]
  },
  {
   "cell_type": "code",
   "execution_count": 207,
   "metadata": {},
   "outputs": [],
   "source": [
    "user_spec_filled.to_csv('../preprocessed/user_spec_filled.csv',index=False)"
   ]
  },
  {
   "attachments": {},
   "cell_type": "markdown",
   "metadata": {},
   "source": [
    "# train, test set 나누기"
   ]
  },
  {
   "cell_type": "code",
   "execution_count": 129,
   "metadata": {},
   "outputs": [],
   "source": [
    "# 3,4,5월 / 6월 기준으로 분할\n",
    "# 분석 전 과정은 train set을 이용하되, 같은 유저의 정보를 이용해 채워넣을 수 있는 값을 채워넣는 결측치 보간은 전 user_spec을 이용해 진행하였다.\n",
    "user_spec_train, user_spec_test = utils.split_train_test(user_spec_filled, 'insert_time')\n",
    "loan_result_train, loan_result_test = utils.split_train_test(loan_result, 'loanapply_insert_time')\n",
    "log_data_train, log_data_test = utils.split_train_test(log_data, 'timestamp')"
   ]
  },
  {
   "attachments": {},
   "cell_type": "markdown",
   "metadata": {},
   "source": [
    "# log data에 isApplied 끼워넣기"
   ]
  },
  {
   "cell_type": "code",
   "execution_count": 131,
   "metadata": {},
   "outputs": [],
   "source": [
    "# log_data는 user_id, loan_result는 user_id기준으로 되어있으니 mapping하는 사전을 정의\n",
    "temp = user_spec.groupby('user_id').agg({'application_id':list})\n",
    "user_application_dict = dict(zip(temp.index, temp['application_id']))\n",
    "application_user_dict = dict(zip(user_spec['application_id'], user_spec['user_id']))"
   ]
  },
  {
   "cell_type": "code",
   "execution_count": null,
   "metadata": {},
   "outputs": [],
   "source": [
    "# 분석은 log_data_train으로 한다.\n",
    "# 어파치 6월 데이터인 loan_result_test에는 is_applied가 모두 null이기 때문에 관계 파악 불가\n",
    "loan_result_test['is_applied'].unique()"
   ]
  },
  {
   "cell_type": "code",
   "execution_count": 132,
   "metadata": {},
   "outputs": [],
   "source": [
    "applied_Y = loan_result_train.query('is_applied==1')\n",
    "applied_Y['user_id'] = applied_Y['application_id'].map(application_user_dict)\n",
    "applied_Y = applied_Y[['user_id','loanapply_insert_time','is_applied']]"
   ]
  },
  {
   "cell_type": "code",
   "execution_count": 135,
   "metadata": {},
   "outputs": [],
   "source": [
    "# mp_os, mp_app_version, date_cd는 중요 정보 같지도 않고 같이 끼워넣을 방법이 없어서 버림\n",
    "applied_Y['is_applied']='is_applied_Y'\n",
    "applied_Y = applied_Y.rename(columns={'loanapply_insert_time':'timestamp','is_applied':'event'})\n",
    "concat_log = pd.concat([log_data_train[['user_id','event','timestamp']],applied_Y],axis=0)\n",
    "concat_log = concat_log.sort_values(by=['user_id','timestamp'])"
   ]
  },
  {
   "cell_type": "code",
   "execution_count": null,
   "metadata": {},
   "outputs": [],
   "source": [
    "# 예시 \n",
    "display(log_data_train.query('user_id==65'))\n",
    "display(applied_Y.query('user_id==65'))\n",
    "display(concat_log.query('user_id==65'))"
   ]
  },
  {
   "cell_type": "code",
   "execution_count": 175,
   "metadata": {},
   "outputs": [],
   "source": [
    "# 중간 결과 저장\n",
    "concat_log.to_csv('../preprocessed/concat_log.csv',index=False)\n",
    "\n",
    "## 해당 데이터들은 따로 저장하지 않고 필요하면 정의된 함수로 그때그때 만들어 사용한다.\n",
    "# user_spec_train.to_csv('../preprocessed/user_spec_train.csv',index=False)\n",
    "# user_spec_test.to_csv('../preprocessed/user_spec_test.csv',index=False)\n",
    "# loan_result_train.to_csv('../preprocessed/loan_result_train.csv',index=False)\n",
    "# loan_result_test.to_csv('../preprocessed/loan_result_test.csv',index=False)\n",
    "# log_data_train.to_csv('../preprocessed/log_data_train.csv',index=False)\n",
    "# log_data_test.to_csv('../preprocessed/log_data_test.csv',index=False)\n"
   ]
  }
 ],
 "metadata": {
  "kernelspec": {
   "display_name": "Python 3",
   "language": "python",
   "name": "python3"
  },
  "language_info": {
   "codemirror_mode": {
    "name": "ipython",
    "version": 3
   },
   "file_extension": ".py",
   "mimetype": "text/x-python",
   "name": "python",
   "nbconvert_exporter": "python",
   "pygments_lexer": "ipython3",
   "version": "3.8.5"
  }
 },
 "nbformat": 4,
 "nbformat_minor": 4
}
