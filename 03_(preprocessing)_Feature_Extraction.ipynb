{
 "cells": [
  {
   "cell_type": "code",
   "execution_count": 1,
   "metadata": {},
   "outputs": [],
   "source": [
    "import os\n",
    "import pandas as pd\n",
    "import numpy as np\n",
    "import matplotlib.pyplot as plt\n",
    "import seaborn as sns\n",
    "from IPython.display import display\n",
    "import pickle\n",
    "import gzip\n",
    "import time\n",
    "from warnings import filterwarnings\n",
    "filterwarnings('ignore')\n",
    "from _utils import utils, transforming, filling\n",
    "\n",
    "data = ['../BigContest_data/' + file for file in os.listdir('../BigContest_data')]"
   ]
  },
  {
   "cell_type": "markdown",
   "metadata": {},
   "source": [
    "# 고객 특성에 대한 feature 추출\n",
    "(use : user_spec)\n",
    "\n",
    "A 변수의 범주별 B 변수의 대표값 추출<br>\n",
    "\n",
    "B가 범주형일 때는 각 범주별 차지하는 비율<br>\n",
    "B가 연속형일 때는 max,min,average,std,1분위수,2분위수(median),3분위수을 추출한다.\n",
    "\n",
    "A가 연속형일 때는 구간화하여 범주형으로 만든다.\n",
    "\n",
    "extracted feature name : {B} by {A}={대표값}"
   ]
  },
  {
   "cell_type": "code",
   "execution_count": 2,
   "metadata": {},
   "outputs": [],
   "source": [
    "# 분석 전과정은 train set으로 한다.\n",
    "# 단 구간화와 관련된 부분은 data leakage의 위험이 없으므로 한꺼번에 처리한다.\n",
    "user_spec_tr_te = pd.read_csv('../preprocessed/user_spec_filled.csv')"
   ]
  },
  {
   "cell_type": "code",
   "execution_count": 3,
   "metadata": {},
   "outputs": [],
   "source": [
    "A_cat = ['houseown_type','gender','income_type','employment_type','purpose','personal_rehabilitation_yn','personal_rehabilitation_complete_yn' ]\n",
    "\n",
    "A_conti = ['birth_year','credit_score','yearly_income','company_enter_month']\n",
    "\n",
    "B_cat = ['purpose']\n",
    "B_conti = ['yearly_income','desired_amount','existing_loan_amt']"
   ]
  },
  {
   "cell_type": "markdown",
   "metadata": {},
   "source": [
    "## 연속형 변수의 구간화(위의 A_conti 변수들)\n",
    "- 구간화 변수 만드는 train만 따로 구분짓지 않음 \n",
    "- (구간을 직접 지정하므로 data leakage에 대한 우려 없음)\n",
    "\n",
    "\n",
    "### credit score\n",
    "- 100단위로 구간화\n"
   ]
  },
  {
   "cell_type": "code",
   "execution_count": null,
   "metadata": {},
   "outputs": [],
   "source": [
    "user_spec_tr_te['credit_score'].min(), user_spec_tr_te['credit_score'].max()"
   ]
  },
  {
   "cell_type": "code",
   "execution_count": null,
   "metadata": {},
   "outputs": [],
   "source": [
    "credit_score_cut = pd.cut(user_spec_tr_te['credit_score'], range(0,1100,100), labels=np.arange(0,1000,100)+1)\n",
    "credit_score_cut = credit_score_cut.astype(object)\n",
    "credit_score_cut.value_counts().sort_index()"
   ]
  },
  {
   "cell_type": "markdown",
   "metadata": {},
   "source": [
    "### yearly income\n",
    "- 소득세율 기준에 따른 구간화"
   ]
  },
  {
   "cell_type": "code",
   "execution_count": null,
   "metadata": {},
   "outputs": [],
   "source": [
    "user_spec_tr_te['yearly_income'].min(), utils.split_comma(user_spec_tr_te['yearly_income'].max())"
   ]
  },
  {
   "cell_type": "code",
   "execution_count": null,
   "metadata": {},
   "outputs": [],
   "source": [
    "yearly_income_cut = pd.cut(user_spec_tr_te['yearly_income'], [-1,14000000, 50000000, 88000000, 150000000, 300000000, 500000000, 1000000000, np.inf],\n",
    "                          labels=['grade1','grade2','grade3','grade4','grade5','grade6','grade7','grade8'])\n",
    "\n",
    "yearly_income_cut = yearly_income_cut.astype(object)\n",
    "temp = yearly_income_cut.value_counts().to_frame()\n",
    "temp['order'] = yearly_income_cut.value_counts().index.str[-1].astype(int)\n",
    "temp.sort_values('order').drop('order',axis=1).rename(columns={'yearly_income':'count'})"
   ]
  },
  {
   "cell_type": "markdown",
   "metadata": {},
   "source": [
    "### 입사년차\n",
    "- 년 단위로"
   ]
  },
  {
   "cell_type": "code",
   "execution_count": 8,
   "metadata": {},
   "outputs": [],
   "source": [
    "as_int = lambda x:str(x).replace('.0','') if pd.isna(x)==False else x\n",
    "user_spec_tr_te['company_enter_month'] = user_spec_tr_te['company_enter_month'].map(as_int)"
   ]
  },
  {
   "cell_type": "code",
   "execution_count": null,
   "metadata": {},
   "outputs": [],
   "source": [
    "enter_period_year = pd.to_datetime(user_spec_tr_te['insert_time']).dt.year - pd.to_datetime(user_spec_tr_te['company_enter_month']).dt.year\n",
    "enter_period_year *= 12\n",
    "enter_period_month = pd.to_datetime(user_spec_tr_te['insert_time']).dt.month - pd.to_datetime(user_spec_tr_te['company_enter_month']).dt.month\n",
    "enter_period = enter_period_year+enter_period_month\n",
    "enter_period /= 12\n",
    "\n",
    "print(enter_period.min(), enter_period.max())"
   ]
  },
  {
   "cell_type": "code",
   "execution_count": null,
   "metadata": {},
   "outputs": [],
   "source": [
    "# 명백한 입력 오류가 존재하니 출생보다 입사일시가 빠른 사람은 null 값 처리\n",
    "user_spec_tr_te[enter_period>100].head()"
   ]
  },
  {
   "cell_type": "markdown",
   "metadata": {},
   "source": [
    "company_enter_month가 null인 사람의 경우 단순 누락인지, 주부 혹은 프리랜서인지 경우가 다를 수 있다.<br>\n",
    "다음과 같은 처리를 해주도록 한다.\n",
    "1. 15살 이전 입사 : 누락값 취급\n",
    "    - birth가 없는 사람은 계산 불가이므로 2022년을 채워넣고 입사년수가 모두 0 이하가 나오게 한다.\n",
    "2. 입사년도가 NaN일때\n",
    "    - case1) yearly_income =0 -> 미취업\n",
    "    - case2) case1이 아니면서, employment_type이 기타 -> 비정기소득자\n",
    "    - case3) case1이 아니면서, employment_type이 기타도 아님 -> 안채워넣음\n"
   ]
  },
  {
   "cell_type": "code",
   "execution_count": null,
   "metadata": {},
   "outputs": [],
   "source": [
    "# 1. 15살 이전 입사는 누락값\n",
    "enter_age = pd.to_datetime(user_spec_tr_te['company_enter_month']).dt.year - user_spec_tr_te['birth_year'].fillna(2022) + 1\n",
    "enter_period[enter_age <= 15] = np.nan\n",
    "print(enter_period.min(), enter_period.max())"
   ]
  },
  {
   "cell_type": "code",
   "execution_count": 12,
   "metadata": {},
   "outputs": [],
   "source": [
    "# 구간화\n",
    "enter_period_cut = pd.cut(enter_period, [-np.inf]+list(range(1,54,2)), labels=range(-1,52,2)).replace({-1:0})"
   ]
  },
  {
   "cell_type": "code",
   "execution_count": 13,
   "metadata": {},
   "outputs": [],
   "source": [
    "# 2. 입사년도가 NaN일 때\n",
    "def fill_enter_year(user_spec):\n",
    "    if user_spec['yearly_income'] == 0:\n",
    "        y = 'no_job'\n",
    "    elif user_spec['employment_type']=='etc':\n",
    "        y = 'no_regular_income'\n",
    "    else:\n",
    "        y = np.nan\n",
    "    return y\n",
    "enter_period_cut_null = user_spec_tr_te[user_spec_tr_te['company_enter_month'].isnull()].apply(fill_enter_year, axis=1)"
   ]
  },
  {
   "cell_type": "code",
   "execution_count": 14,
   "metadata": {},
   "outputs": [],
   "source": [
    "enter_period_cut[user_spec_tr_te['company_enter_month'].isnull()] = enter_period_cut_null"
   ]
  },
  {
   "cell_type": "code",
   "execution_count": null,
   "metadata": {},
   "outputs": [],
   "source": [
    "enter_period_cut.isnull().sum()"
   ]
  },
  {
   "cell_type": "markdown",
   "metadata": {},
   "source": [
    "### 나이\n",
    "- 5단위로 끊되 81세 이상은 하나로 합치기로 한다."
   ]
  },
  {
   "cell_type": "code",
   "execution_count": null,
   "metadata": {},
   "outputs": [],
   "source": [
    "age = pd.to_datetime(user_spec_tr_te['insert_time']).dt.year - user_spec_tr_te['birth_year'] + 1\n",
    "\n",
    "age.min(), age.max()"
   ]
  },
  {
   "cell_type": "code",
   "execution_count": null,
   "metadata": {},
   "outputs": [],
   "source": [
    "age_cut = pd.cut(age,range(15,100,5), labels=np.arange(15,95,5)+1)\n",
    "age_cut = age_cut.map(lambda x:81 if x>=80 else x)\n",
    "age_cut.value_counts().sort_index()"
   ]
  },
  {
   "cell_type": "markdown",
   "metadata": {},
   "source": [
    "## user_spec에 새 컬럼 추가 및 수정"
   ]
  },
  {
   "cell_type": "code",
   "execution_count": 19,
   "metadata": {},
   "outputs": [],
   "source": [
    "# age\n",
    "user_spec_tr_te['age'] = age\n",
    "# 입사년차\n",
    "user_spec_tr_te['company_period'] = enter_period\n",
    "\n",
    "user_spec_tr_te['enter_period_cut'] = enter_period_cut\n",
    "user_spec_tr_te['yearly_income_cut'] = yearly_income_cut\n",
    "user_spec_tr_te['credit_score_cut'] = credit_score_cut\n",
    "user_spec_tr_te['age_cut'] = age_cut"
   ]
  },
  {
   "cell_type": "markdown",
   "metadata": {},
   "source": [
    "## 각 속성별 대표값 추출하기\n",
    "- 대표값은 전체를 다 계산해 내는 통계이므로 data leakage를 막기 위해 train set만 사용하기로 한다."
   ]
  },
  {
   "cell_type": "code",
   "execution_count": 20,
   "metadata": {},
   "outputs": [],
   "source": [
    "user_spec_train, user_spec_test = utils.split_train_test(user_spec_tr_te,'insert_time')"
   ]
  },
  {
   "cell_type": "code",
   "execution_count": 21,
   "metadata": {},
   "outputs": [
    {
     "name": "stdout",
     "output_type": "stream",
     "text": [
      "The Object saved in ../preprocessed/user_spec_test_bin.pickle.\n"
     ]
    }
   ],
   "source": [
    "utils.save_pickle(user_spec_test, '../preprocessed/user_spec_test_bin.pickle')"
   ]
  },
  {
   "cell_type": "markdown",
   "metadata": {},
   "source": [
    "### 각 특성별 대표값 사전\n",
    "- test set에 대해서는 이 사전을 이용해 매핑한다."
   ]
  },
  {
   "cell_type": "code",
   "execution_count": 20,
   "metadata": {},
   "outputs": [],
   "source": [
    "A_cat = ['houseown_type','gender','income_type','employment_type','purpose','personal_rehabilitation_yn','personal_rehabilitation_complete_yn' ]\n",
    "A_conti = ['age_cut','credit_score_cut','yearly_income_cut','enter_period_cut']\n",
    "\n",
    "B_conti = ['yearly_income','desired_amount','existing_loan_amt']\n",
    "B_cat = ['purpose']\n"
   ]
  },
  {
   "cell_type": "code",
   "execution_count": 21,
   "metadata": {},
   "outputs": [
    {
     "name": "stdout",
     "output_type": "stream",
     "text": [
      "0.12696184317270914 분\n"
     ]
    }
   ],
   "source": [
    "start = time.time()\n",
    "\n",
    "mapping_dict = transforming.get_mapping_dict(user_spec_train, \n",
    "                                             A_cat+A_conti,\n",
    "                                             B_conti, B_cat)\n",
    "\n",
    "print((time.time()-start)/60,'분')"
   ]
  },
  {
   "cell_type": "markdown",
   "metadata": {},
   "source": [
    "### 변환"
   ]
  },
  {
   "cell_type": "code",
   "execution_count": null,
   "metadata": {},
   "outputs": [],
   "source": [
    "# 예시(연속형)\n",
    "transforming.table_transform_conti(user_spec_train,'houseown_type','desired_amount').head()"
   ]
  },
  {
   "cell_type": "code",
   "execution_count": null,
   "metadata": {},
   "outputs": [],
   "source": [
    "# 비교\n",
    "display(user_spec_train[['houseown_type']].head())\n",
    "print(mapping_dict[('houseown_type','desired_amount')])"
   ]
  },
  {
   "cell_type": "code",
   "execution_count": null,
   "metadata": {},
   "outputs": [],
   "source": [
    "# 예시(범주형)\n",
    "transforming.table_transform_cat(user_spec_train,'houseown_type','purpose').head()"
   ]
  },
  {
   "cell_type": "code",
   "execution_count": null,
   "metadata": {},
   "outputs": [],
   "source": [
    "# 비교\n",
    "display(user_spec_train[['houseown_type']].head())\n",
    "print(mapping_dict[('houseown_type','purpose')])"
   ]
  },
  {
   "cell_type": "code",
   "execution_count": 22,
   "metadata": {},
   "outputs": [],
   "source": [
    "user_spec_cols = pd.read_csv('../preprocessed/user_spec_filled.csv').columns.tolist()\n",
    "# 'birth_year','company_enter_month'는 이미 age와 company_period로 들어갔으니 제거\n",
    "all_info = user_spec_train.loc[:,user_spec_cols + ['age','company_period']].drop(['birth_year','company_enter_month'], axis=1)"
   ]
  },
  {
   "cell_type": "code",
   "execution_count": null,
   "metadata": {},
   "outputs": [],
   "source": [
    "from itertools import product\n",
    "for A,B in product(A_cat+A_conti, B_conti):\n",
    "    if B in A:\n",
    "        continue\n",
    "    try:\n",
    "        all_info = pd.concat([all_info,transforming.table_transform_conti(user_spec_train,A,B)],axis=1)\n",
    "        print(f'{A} and {B} completed')\n",
    "    except:\n",
    "        print(f'check {A} and {B}')"
   ]
  },
  {
   "cell_type": "code",
   "execution_count": null,
   "metadata": {},
   "outputs": [],
   "source": [
    "for A,B in product(A_cat+A_conti, B_cat):\n",
    "    if B in A:\n",
    "        continue\n",
    "    try:\n",
    "        all_info = pd.concat([all_info,transforming.table_transform_cat(user_spec_train,A,B)],axis=1)\n",
    "        print(f'{A} and {B} completed')\n",
    "    except:\n",
    "        print(f'check {A} and {B}')"
   ]
  },
  {
   "cell_type": "code",
   "execution_count": null,
   "metadata": {},
   "outputs": [],
   "source": [
    "all_info.shape"
   ]
  },
  {
   "cell_type": "code",
   "execution_count": 85,
   "metadata": {},
   "outputs": [
    {
     "name": "stdout",
     "output_type": "stream",
     "text": [
      "The Object saved in ../preprocessed/mapping_dict.pickle.\n",
      "The Object saved in ../preprocessed/all_info.pickle.\n"
     ]
    }
   ],
   "source": [
    "utils.save_pickle(mapping_dict, '../preprocessed/mapping_dict.pickle')\n",
    "# 저장되는데 시간이 오래걸림\n",
    "utils.save_pickle(all_info, '../preprocessed/all_info.pickle')"
   ]
  },
  {
   "cell_type": "code",
   "execution_count": 9,
   "metadata": {},
   "outputs": [
    {
     "name": "stdout",
     "output_type": "stream",
     "text": [
      "The Object saved in ../preprocessed/all_info.pickle.\n"
     ]
    }
   ],
   "source": [
    "utils.save_pickle(all_info, '../preprocessed/all_info.pickle')"
   ]
  },
  {
   "cell_type": "markdown",
   "metadata": {},
   "source": [
    "### user_spec과 추출된 변수로부터 의미있는 변수를 선정하기 위한 임시 종속변수"
   ]
  },
  {
   "cell_type": "code",
   "execution_count": null,
   "metadata": {},
   "outputs": [],
   "source": [
    "applied_application_id = loan_result_train.query('is_applied==1')['application_id'].unique()\n",
    "all_info_is_applied = user_spec_train['application_id'].map(lambda x:1 if x in applied_application_id else np.nan)"
   ]
  },
  {
   "cell_type": "code",
   "execution_count": 29,
   "metadata": {},
   "outputs": [
    {
     "name": "stdout",
     "output_type": "stream",
     "text": [
      "The Object saved in ../preprocessed/temp_is_applied.pickle.\n"
     ]
    }
   ],
   "source": [
    "utils.save_pickle(all_info_is_applied, '../preprocessed/temp_is_applied.pickle')"
   ]
  },
  {
   "cell_type": "markdown",
   "metadata": {},
   "source": [
    "# 상품 특성에 대한 feature 추출\n",
    "(use :  loan_result)\n",
    "\n",
    "- application 건별 loan_limit 금액 합\n",
    "- application 건별 loan_rate의 대표값(평균, 중앙값,...) \n",
    "- 은행(bank_id)별 limit, rate의 대표값(평균, 중앙값,...)\n",
    "- 상품(product_id)별 limit, rate의 대표값(평균, 중앙값,...)\n",
    "- 10분위 desired 금액 구간 대비 limit, rate 비율 \n",
    "- desired amount 대비 loan_limit 비율"
   ]
  },
  {
   "cell_type": "code",
   "execution_count": 28,
   "metadata": {},
   "outputs": [],
   "source": [
    "# 결측치가 제거되지 않은 데이터를 이용해 더 많은 feature 정보를 담아내기로 한다.\n",
    "# 제거해야할 결측치는 모델링과정에서 모두 제거된다.\n",
    "loan_result = pd.read_csv(data[2])\n",
    "loan_result_train, loan_result_test = utils.split_train_test(loan_result,'loanapply_insert_time')"
   ]
  },
  {
   "cell_type": "code",
   "execution_count": 13,
   "metadata": {},
   "outputs": [],
   "source": [
    "del loan_result"
   ]
  },
  {
   "cell_type": "code",
   "execution_count": 16,
   "metadata": {},
   "outputs": [],
   "source": [
    "loan_result_train = pd.merge(loan_result_train,user_spec_tr_te[['application_id','desired_amount']], on='application_id', how='left' )"
   ]
  },
  {
   "cell_type": "code",
   "execution_count": null,
   "metadata": {},
   "outputs": [],
   "source": [
    "# qcut을 사용했으므로 train만으로 구간화\n",
    "desired_cut_train = pd.qcut(loan_result_train['desired_amount'],10,labels = [f'grade_{i}' for i in range(1,11)])\n",
    "\n",
    "desired_cut_train = desired_cut_train.astype(str)\n",
    "desired_cut_train.head()"
   ]
  },
  {
   "cell_type": "code",
   "execution_count": 18,
   "metadata": {},
   "outputs": [],
   "source": [
    "loan_result_train['desired_amount_cut'] = desired_cut_train"
   ]
  },
  {
   "cell_type": "code",
   "execution_count": 27,
   "metadata": {},
   "outputs": [],
   "source": [
    "# 0으로 나눠지는 일을 방지 -> nan값으로 처리\n",
    "loan_result_train2 = loan_result_train.copy()\n",
    "loan_result_train2.loc[loan_result_train2['desired_amount'] == 0,'desired_amount'] = np.nan\n",
    "loan_result_train['loan_limit_per_desired_amount'] = loan_result_train['loan_limit']/loan_result_train2['desired_amount']\n",
    "del loan_result_train2"
   ]
  },
  {
   "cell_type": "code",
   "execution_count": null,
   "metadata": {},
   "outputs": [],
   "source": [
    "# 얘를 어떻게 바꿀까?\n",
    "# 주의 : application_id로 grouping하는 마지막 연산은 상당히 오래걸릴 수 있음\n",
    "loan_info = loan_result_train.copy()\n",
    "\n",
    "AB = [('bank_id','loan_limit'),('bank_id','loan_rate'),('product_id','loan_limit'),('product_id','loan_rate'),\n",
    "     ('desired_amount_cut','loan_limit'),('desired_amount_cut','loan_rate'),('application_id','loan_rate')]\n",
    "conti_cat = ['conti','conti','conti','conti','conti','conti','conti']\n",
    "for i,(A,B) in enumerate(AB):\n",
    "    try:\n",
    "        loan_info = pd.concat([loan_info,transforming.table_transform_conti(loan_result_train, A,B)],axis=1)\n",
    "        print(f'{A} and {B} completed')\n",
    "    except:\n",
    "        print(f'check {A} and {B}')\n",
    "        "
   ]
  },
  {
   "cell_type": "code",
   "execution_count": 34,
   "metadata": {},
   "outputs": [
    {
     "name": "stdout",
     "output_type": "stream",
     "text": [
      "The Object saved in ../preprocessed/loan_info.pickle.\n"
     ]
    }
   ],
   "source": [
    "utils.save_pickle(loan_info, '../preprocessed/loan_info.pickle')"
   ]
  },
  {
   "cell_type": "markdown",
   "metadata": {},
   "source": [
    "## 사전 매핑"
   ]
  },
  {
   "cell_type": "code",
   "execution_count": 149,
   "metadata": {},
   "outputs": [],
   "source": [
    "AB = [('bank_id','loan_limit'),('bank_id','loan_rate'),('product_id','loan_limit'),('product_id','loan_rate'),\n",
    "     ('desired_amount_cut','loan_limit'),('desired_amount_cut','loan_rate')]\n",
    "\n",
    "mapping_dict_loan = transforming.get_mapping_dict(loan_result_train,A=list(np.array(AB)[:,0]), B_conti=list(np.array(AB)[:,1]),B_cat=[] )"
   ]
  },
  {
   "cell_type": "code",
   "execution_count": 150,
   "metadata": {},
   "outputs": [
    {
     "name": "stdout",
     "output_type": "stream",
     "text": [
      "The Object saved in ../preprocessed/mapping_dict_loan.pickle.\n"
     ]
    }
   ],
   "source": [
    "utils.save_pickle(mapping_dict_loan, '../preprocessed/mapping_dict_loan.pickle')"
   ]
  },
  {
   "cell_type": "code",
   "execution_count": null,
   "metadata": {},
   "outputs": [],
   "source": []
  },
  {
   "cell_type": "code",
   "execution_count": null,
   "metadata": {},
   "outputs": [],
   "source": []
  }
 ],
 "metadata": {
  "kernelspec": {
   "display_name": "Python 3",
   "language": "python",
   "name": "python3"
  },
  "language_info": {
   "codemirror_mode": {
    "name": "ipython",
    "version": 3
   },
   "file_extension": ".py",
   "mimetype": "text/x-python",
   "name": "python",
   "nbconvert_exporter": "python",
   "pygments_lexer": "ipython3",
   "version": "3.8.5"
  }
 },
 "nbformat": 4,
 "nbformat_minor": 4
}
