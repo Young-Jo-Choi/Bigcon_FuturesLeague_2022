{
 "cells": [
  {
   "cell_type": "code",
   "execution_count": 1,
   "metadata": {},
   "outputs": [],
   "source": [
    "# 필요 모듈 임포트\n",
    "import numpy as np\n",
    "import pandas as pd\n",
    "import gzip\n",
    "import pickle\n",
    "import matplotlib.pyplot as plt\n",
    "from IPython.display import display\n",
    "import seaborn as sns\n",
    "\n",
    "%matplotlib inline"
   ]
  },
  {
   "attachments": {},
   "cell_type": "markdown",
   "metadata": {},
   "source": [
    "### user-related (고객 고유 특성 관련 데이터 추가 전처리)\n",
    "- drop, NaN 등 처리\n",
    "- user_final.pickle 생성"
   ]
  },
  {
   "cell_type": "code",
   "execution_count": null,
   "metadata": {},
   "outputs": [],
   "source": [
    "# all_info.pickle : 고객고유특성 파생변수 포함 데이터 읽어오기\n",
    "with gzip.open('../preprocessed/all_info.pickle','rb') as f:\n",
    "    user = pickle.load(f)"
   ]
  },
  {
   "cell_type": "code",
   "execution_count": 3,
   "metadata": {},
   "outputs": [
    {
     "data": {
      "text/plain": [
       "(1029390, 331)"
      ]
     },
     "execution_count": 3,
     "metadata": {},
     "output_type": "execute_result"
    }
   ],
   "source": [
    "user.shape"
   ]
  },
  {
   "cell_type": "code",
   "execution_count": null,
   "metadata": {},
   "outputs": [],
   "source": [
    "user.columns"
   ]
  },
  {
   "cell_type": "code",
   "execution_count": null,
   "metadata": {},
   "outputs": [],
   "source": [
    "user.head()"
   ]
  },
  {
   "cell_type": "code",
   "execution_count": null,
   "metadata": {},
   "outputs": [],
   "source": [
    "# user related features 전처리\n",
    "# A별 B 파생변수에서 열명칭 마지막에 '-1' 있는 열 삭제 (A가 결측치여서 의미 찾을 수 없는 열)\n",
    "drop_cols = []\n",
    "for s in user.columns:\n",
    "    if s[-2:]=='-1':\n",
    "        drop_cols.append(s)\n",
    "drop_cols"
   ]
  },
  {
   "cell_type": "code",
   "execution_count": 7,
   "metadata": {},
   "outputs": [
    {
     "data": {
      "text/plain": [
       "(1029390, 321)"
      ]
     },
     "execution_count": 7,
     "metadata": {},
     "output_type": "execute_result"
    }
   ],
   "source": [
    "# # 임의판단하에 포함시키려면 다음 변수를 수정하시오\n",
    "user_all = user.drop(drop_cols,axis=1)\n",
    "user_all.shape"
   ]
  },
  {
   "cell_type": "code",
   "execution_count": 8,
   "metadata": {},
   "outputs": [
    {
     "data": {
      "text/plain": [
       "153        NaN\n",
       "154        NaN\n",
       "155        NaN\n",
       "156        1.0\n",
       "157        1.0\n",
       "          ... \n",
       "1394211    1.0\n",
       "1394212    NaN\n",
       "1394213    NaN\n",
       "1394214    NaN\n",
       "1394215    1.0\n",
       "Name: application_id, Length: 1029390, dtype: float64"
      ]
     },
     "execution_count": 8,
     "metadata": {},
     "output_type": "execute_result"
    }
   ],
   "source": [
    "#데이터 읽어오기 (temp_is_applied: is_applied만 따로 있는 데이터)\n",
    "with gzip.open('../preprocessed/temp_is_applied.pickle','rb') as f:\n",
    "    temp_applied = pickle.load(f)\n",
    "\n",
    "temp_applied"
   ]
  },
  {
   "cell_type": "code",
   "execution_count": 9,
   "metadata": {},
   "outputs": [
    {
     "data": {
      "text/plain": [
       "153        NaN\n",
       "154        NaN\n",
       "155        NaN\n",
       "156        1.0\n",
       "157        1.0\n",
       "          ... \n",
       "1394211    1.0\n",
       "1394212    NaN\n",
       "1394213    NaN\n",
       "1394214    NaN\n",
       "1394215    1.0\n",
       "Name: is_applied, Length: 1029390, dtype: float64"
      ]
     },
     "execution_count": 9,
     "metadata": {},
     "output_type": "execute_result"
    }
   ],
   "source": [
    "temp_applied.name = 'is_applied'\n",
    "temp_applied"
   ]
  },
  {
   "cell_type": "code",
   "execution_count": null,
   "metadata": {},
   "outputs": [],
   "source": [
    "# 고객고유특성 테이블과 is_applied 정보 연결하기\n",
    "user_applied = pd.concat([user_all, temp_applied], axis=1)\n",
    "user_applied"
   ]
  },
  {
   "cell_type": "code",
   "execution_count": 11,
   "metadata": {},
   "outputs": [
    {
     "data": {
      "text/plain": [
       "153        0.0\n",
       "154        0.0\n",
       "155        0.0\n",
       "156        1.0\n",
       "157        1.0\n",
       "          ... \n",
       "1394211    1.0\n",
       "1394212    0.0\n",
       "1394213    0.0\n",
       "1394214    0.0\n",
       "1394215    1.0\n",
       "Name: is_applied, Length: 1029390, dtype: float64"
      ]
     },
     "execution_count": 11,
     "metadata": {},
     "output_type": "execute_result"
    }
   ],
   "source": [
    "# is_applied: NaN 값의 경우 0을 뜻하기 때문에 fillna(0)으로 NaN 대체\n",
    "user_applied['is_applied'] = user_applied['is_applied'].fillna(0)\n",
    "user_applied['is_applied']"
   ]
  },
  {
   "cell_type": "code",
   "execution_count": 12,
   "metadata": {},
   "outputs": [
    {
     "data": {
      "text/plain": [
       "0.0    651834\n",
       "1.0    377556\n",
       "Name: is_applied, dtype: int64"
      ]
     },
     "execution_count": 12,
     "metadata": {},
     "output_type": "execute_result"
    }
   ],
   "source": [
    "user_applied['is_applied'].value_counts()"
   ]
  },
  {
   "cell_type": "code",
   "execution_count": null,
   "metadata": {},
   "outputs": [],
   "source": [
    "# 결측치 확인\n",
    "user_applied.isna().sum()"
   ]
  },
  {
   "cell_type": "code",
   "execution_count": 14,
   "metadata": {},
   "outputs": [
    {
     "data": {
      "text/plain": [
       "(723526, 322)"
      ]
     },
     "execution_count": 14,
     "metadata": {},
     "output_type": "execute_result"
    }
   ],
   "source": [
    "# 단 하나의 null 값이라도 포함된 행은 모두 제거\n",
    "user_applied = user_applied.dropna(how='any',axis=0)\n",
    "user_applied.shape"
   ]
  },
  {
   "cell_type": "code",
   "execution_count": 15,
   "metadata": {},
   "outputs": [
    {
     "data": {
      "text/plain": [
       "Index(['application_id', 'user_id', 'gender', 'insert_time', 'credit_score',\n",
       "       'yearly_income', 'income_type', 'employment_type', 'houseown_type',\n",
       "       'desired_amount',\n",
       "       ...\n",
       "       'purpose_by_yearly_income_cut_SWITCHLOAN',\n",
       "       'purpose_by_enter_period_cut_BUSINESS',\n",
       "       'purpose_by_enter_period_cut_BUYCAR',\n",
       "       'purpose_by_enter_period_cut_BUYHOUSE',\n",
       "       'purpose_by_enter_period_cut_ETC',\n",
       "       'purpose_by_enter_period_cut_HOUSEDEPOSIT',\n",
       "       'purpose_by_enter_period_cut_INVEST',\n",
       "       'purpose_by_enter_period_cut_LIVING',\n",
       "       'purpose_by_enter_period_cut_SWITCHLOAN', 'is_applied'],\n",
       "      dtype='object', length=322)"
      ]
     },
     "execution_count": 15,
     "metadata": {},
     "output_type": "execute_result"
    }
   ],
   "source": [
    "user_applied.columns"
   ]
  },
  {
   "cell_type": "code",
   "execution_count": 16,
   "metadata": {},
   "outputs": [
    {
     "name": "stdout",
     "output_type": "stream",
     "text": [
      "Categorical Columns: \n",
      "['income_type', 'employment_type', 'houseown_type', 'purpose']\n",
      "\n"
     ]
    },
    {
     "name": "stderr",
     "output_type": "stream",
     "text": [
      "/tmp/ipykernel_48821/3213798206.py:2: SettingWithCopyWarning: \n",
      "A value is trying to be set on a copy of a slice from a DataFrame.\n",
      "Try using .loc[row_indexer,col_indexer] = value instead\n",
      "\n",
      "See the caveats in the documentation: https://pandas.pydata.org/pandas-docs/stable/user_guide/indexing.html#returning-a-view-versus-a-copy\n",
      "  user_applied['insert_time']=pd.to_datetime(user_applied['insert_time'])\n"
     ]
    }
   ],
   "source": [
    "# 연속형/범주형 변수 뽑기\n",
    "user_applied['insert_time']=pd.to_datetime(user_applied['insert_time'])\n",
    "cat_columns = [c for c, t in zip(user_applied.dtypes.index, user_applied.dtypes) if t == 'O']\n",
    "num_columns = [c for c    in user_applied.columns if c not in cat_columns]\n",
    "\n",
    "print('Categorical Columns: \\n{}\\n'.format(cat_columns))\n",
    "# print('Numeric Columns: \\n{}'.format(num_columns))"
   ]
  },
  {
   "cell_type": "code",
   "execution_count": null,
   "metadata": {},
   "outputs": [],
   "source": [
    "# 범주형 변수 Ordinal 인코딩\n",
    "from sklearn.preprocessing import OrdinalEncoder\n",
    "ordinal_encoder = OrdinalEncoder()\n",
    "user_applied[cat_columns] = ordinal_encoder.fit_transform(user_applied[cat_columns])\n",
    "user_applied[cat_columns].head()"
   ]
  },
  {
   "cell_type": "code",
   "execution_count": 18,
   "metadata": {},
   "outputs": [],
   "source": [
    "# 각 income_type 인코딩 내용을 pickle 파일로 저장\n",
    "with open('../preprocessed/ordinal_encoder.pickle','wb') as f:\n",
    "    pickle.dump(ordinal_encoder, f, pickle.HIGHEST_PROTOCOL)"
   ]
  },
  {
   "cell_type": "code",
   "execution_count": null,
   "metadata": {},
   "outputs": [],
   "source": [
    "# insert_time 열 대신 월일시분초 열 새롭게 추가\n",
    "user_applied['insert_time']=pd.to_datetime(user_applied['insert_time'])\n",
    "\n",
    "user_applied['insert_month']=user_applied['insert_time'].dt.month\n",
    "user_applied['insert_day']=user_applied['insert_time'].dt.day\n",
    "user_applied['insert_hour']=user_applied['insert_time'].dt.hour\n",
    "user_applied['insert_minute']=user_applied['insert_time'].dt.minute\n",
    "user_applied['insert_second']=user_applied['insert_time'].dt.second\n",
    "\n",
    "user_applied = user_applied.drop('insert_time', axis=1)\n",
    "user_applied.head()"
   ]
  },
  {
   "cell_type": "code",
   "execution_count": 47,
   "metadata": {},
   "outputs": [],
   "source": [
    "# 고객고유특성 처리한 내용 추후 활용 위해 저장\n",
    "with gzip.open('../preprocessed/user_final.pickle','wb') as f:\n",
    "    pickle.dump(user_applied, f, pickle.HIGHEST_PROTOCOL)"
   ]
  },
  {
   "attachments": {},
   "cell_type": "markdown",
   "metadata": {},
   "source": [
    "### loan-product-related (loan 관련 데이터 추가 전처리)\n",
    "- drop, NaN 등 처리\n",
    "- loan_final.pickle 생성"
   ]
  },
  {
   "cell_type": "code",
   "execution_count": null,
   "metadata": {},
   "outputs": [],
   "source": [
    "# loan_info: loan_result와 관련된 파생변수 포함한 데이터, 읽어오기\n",
    "with gzip.open('../preprocessed/loan_info.pickle','rb') as f:\n",
    "    loan = pickle.load(f)\n",
    "\n",
    "loan.head()"
   ]
  },
  {
   "cell_type": "code",
   "execution_count": null,
   "metadata": {},
   "outputs": [],
   "source": [
    "loan.info()"
   ]
  },
  {
   "cell_type": "code",
   "execution_count": null,
   "metadata": {},
   "outputs": [],
   "source": [
    "loan.head()"
   ]
  },
  {
   "cell_type": "code",
   "execution_count": null,
   "metadata": {},
   "outputs": [],
   "source": [
    "loan['is_applied'].value_counts()"
   ]
  },
  {
   "cell_type": "code",
   "execution_count": 58,
   "metadata": {},
   "outputs": [],
   "source": [
    "# 활용하지 않을 열 drop\n",
    "loan = loan.drop(['loanapply_insert_time', 'bank_id', 'product_id'], axis=1)"
   ]
  },
  {
   "cell_type": "code",
   "execution_count": null,
   "metadata": {},
   "outputs": [],
   "source": [
    "loan.shape"
   ]
  },
  {
   "cell_type": "code",
   "execution_count": null,
   "metadata": {},
   "outputs": [],
   "source": [
    "# 단 하나의 null 값이라도 포함된 행은 모두 제거\n",
    "loan = loan.dropna(how='any',axis=0)\n",
    "loan.shape"
   ]
  },
  {
   "cell_type": "code",
   "execution_count": null,
   "metadata": {},
   "outputs": [],
   "source": [
    "# 범주형 변수 Ordinal 인코딩\n",
    "from sklearn.preprocessing import OrdinalEncoder\n",
    "ordinal_encoder = OrdinalEncoder()\n",
    "loan[['desired_amount_cut']] = ordinal_encoder.fit_transform(loan[['desired_amount_cut']])\n",
    "loan[['desired_amount_cut']]"
   ]
  },
  {
   "cell_type": "code",
   "execution_count": null,
   "metadata": {},
   "outputs": [],
   "source": [
    "# 범주형으로 바뀐 내용 확인\n",
    "loan.head()"
   ]
  },
  {
   "cell_type": "code",
   "execution_count": null,
   "metadata": {},
   "outputs": [],
   "source": [
    "loan['is_applied'].value_counts()"
   ]
  },
  {
   "cell_type": "code",
   "execution_count": 66,
   "metadata": {},
   "outputs": [],
   "source": [
    "# 처리한 loan 관련 데이터 추후 활용 위해 저장\n",
    "with gzip.open('../preprocessed/loan_final.pickle','wb') as f:\n",
    "    pickle.dump(loan, f, pickle.HIGHEST_PROTOCOL)"
   ]
  },
  {
   "attachments": {},
   "cell_type": "markdown",
   "metadata": {},
   "source": [
    "### log related (log 관련 데이터 추가 전처리)\n",
    "- drop, NaN 등 처리\n",
    "- log_final.pickle 생성"
   ]
  },
  {
   "cell_type": "code",
   "execution_count": null,
   "metadata": {},
   "outputs": [],
   "source": [
    "# log_action_clustering: 군집화 위해 필요한 log 관련 파생변수 포함한 데이터, 읽어오기\n",
    "with gzip.open('../preprocessed/log_action_clustering.pickle','rb') as f:\n",
    "    log = pickle.load(f)\n",
    "\n",
    "log.head()"
   ]
  },
  {
   "cell_type": "code",
   "execution_count": null,
   "metadata": {},
   "outputs": [],
   "source": [
    "log.shape"
   ]
  },
  {
   "cell_type": "code",
   "execution_count": null,
   "metadata": {},
   "outputs": [],
   "source": [
    "log.columns"
   ]
  },
  {
   "cell_type": "code",
   "execution_count": null,
   "metadata": {},
   "outputs": [],
   "source": [
    "log.isna().sum()"
   ]
  },
  {
   "cell_type": "code",
   "execution_count": 72,
   "metadata": {},
   "outputs": [],
   "source": [
    "# timedelta열 결측치는 -999로 대체\n",
    "timedelta_col = [col for col in log.columns if 'timedelta' in col]\n",
    "log[timedelta_col]=log[timedelta_col].fillna(-999)"
   ]
  },
  {
   "cell_type": "code",
   "execution_count": 73,
   "metadata": {},
   "outputs": [],
   "source": [
    "# 행동 5가지 tf-idf 결측치는 -1로 대체 \n",
    "actions_col = log.columns[-5:]\n",
    "log[actions_col]=log[actions_col].fillna(-1)"
   ]
  },
  {
   "cell_type": "code",
   "execution_count": null,
   "metadata": {},
   "outputs": [],
   "source": [
    "# 결측치 잘 처리되었는지 확인\n",
    "log.isna().sum()"
   ]
  },
  {
   "cell_type": "code",
   "execution_count": 75,
   "metadata": {},
   "outputs": [],
   "source": [
    "# 추후 활용 위해 저장\n",
    "with gzip.open('../preprocessed/log_final.pickle','wb') as f:\n",
    "    pickle.dump(log, f, pickle.HIGHEST_PROTOCOL)"
   ]
  }
 ],
 "metadata": {
  "kernelspec": {
   "display_name": "Python 3.8.13 ('ryuvenv': conda)",
   "language": "python",
   "name": "python3"
  },
  "language_info": {
   "codemirror_mode": {
    "name": "ipython",
    "version": 3
   },
   "file_extension": ".py",
   "mimetype": "text/x-python",
   "name": "python",
   "nbconvert_exporter": "python",
   "pygments_lexer": "ipython3",
   "version": "3.8.13"
  },
  "orig_nbformat": 4,
  "vscode": {
   "interpreter": {
    "hash": "db4a054fa3485500d815f3fdd1ed0c3e4f2427f3103f3684095f07e4b5b8fabd"
   }
  }
 },
 "nbformat": 4,
 "nbformat_minor": 2
}
