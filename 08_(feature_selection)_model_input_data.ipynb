{
 "cells": [
  {
   "cell_type": "code",
   "execution_count": 1,
   "metadata": {},
   "outputs": [],
   "source": [
    "import numpy as np\n",
    "import pandas as pd\n",
    "import gzip\n",
    "import pickle\n",
    "import matplotlib.pyplot as plt\n",
    "from IPython.display import display\n",
    "import seaborn as sns\n",
    "\n",
    "%matplotlib inline"
   ]
  },
  {
   "attachments": {},
   "cell_type": "markdown",
   "metadata": {},
   "source": [
    "### user"
   ]
  },
  {
   "cell_type": "code",
   "execution_count": null,
   "metadata": {},
   "outputs": [],
   "source": [
    "#데이터 읽어오기\n",
    "with gzip.open('../preprocessed/user_final.pickle','rb') as f:\n",
    "    user = pickle.load(f)\n",
    "\n",
    "user.head()"
   ]
  },
  {
   "cell_type": "code",
   "execution_count": 3,
   "metadata": {},
   "outputs": [
    {
     "data": {
      "text/plain": [
       "326"
      ]
     },
     "execution_count": 3,
     "metadata": {},
     "output_type": "execute_result"
    }
   ],
   "source": [
    "len(user.columns.unique())"
   ]
  },
  {
   "cell_type": "code",
   "execution_count": 4,
   "metadata": {},
   "outputs": [
    {
     "data": {
      "text/plain": [
       "326"
      ]
     },
     "execution_count": 4,
     "metadata": {},
     "output_type": "execute_result"
    }
   ],
   "source": [
    "len(user.columns)"
   ]
  },
  {
   "cell_type": "code",
   "execution_count": 5,
   "metadata": {},
   "outputs": [
    {
     "data": {
      "text/plain": [
       "20"
      ]
     },
     "execution_count": 5,
     "metadata": {},
     "output_type": "execute_result"
    }
   ],
   "source": [
    "# final features for user data (shap+KBest)\n",
    "final_user_shap = ['income_type', 'employment_type', 'purpose',\n",
    "            'credit_score', 'desired_amount', 'purpose_by_income_type_SWITCHLOAN', \n",
    "            'insert_hour', 'existing_loan_amt', 'existing_loan_amt_by_credit_score_cut_quantile_first', \n",
    "            'existing_loan_cnt', 'income_type', 'desired_amount_by_income_type_std', \n",
    "            'existing_loan_amt_by_purpose_max', 'insert_day', 'gender', 'age', 'insert_month', \n",
    "            'yearly_income_by_houseown_type_mean', 'purpose_by_income_type_BUYCAR', 'employment_type']\n",
    "\n",
    "len(final_user_shap)"
   ]
  },
  {
   "cell_type": "code",
   "execution_count": 6,
   "metadata": {},
   "outputs": [
    {
     "data": {
      "text/plain": [
       "22"
      ]
     },
     "execution_count": 6,
     "metadata": {},
     "output_type": "execute_result"
    }
   ],
   "source": [
    "# 최종적으로 사용할 변수만 데이터프레임에 연결\n",
    "user = user[['user_id', 'application_id'] + final_user_shap]\n",
    "len(user.columns)"
   ]
  },
  {
   "cell_type": "code",
   "execution_count": null,
   "metadata": {},
   "outputs": [],
   "source": [
    "user.head()"
   ]
  },
  {
   "cell_type": "code",
   "execution_count": 8,
   "metadata": {},
   "outputs": [
    {
     "data": {
      "text/plain": [
       "(723526, 22)"
      ]
     },
     "execution_count": 8,
     "metadata": {},
     "output_type": "execute_result"
    }
   ],
   "source": [
    "user.shape"
   ]
  },
  {
   "attachments": {},
   "cell_type": "markdown",
   "metadata": {},
   "source": [
    "### loan"
   ]
  },
  {
   "cell_type": "code",
   "execution_count": null,
   "metadata": {},
   "outputs": [],
   "source": [
    "#데이터 읽어오기\n",
    "with gzip.open('../preprocessed/loan_info_final.pickle','rb') as f:\n",
    "    loan = pickle.load(f)\n",
    "\n",
    "loan.head()"
   ]
  },
  {
   "cell_type": "code",
   "execution_count": null,
   "metadata": {},
   "outputs": [],
   "source": [
    "loan.dropna(how='any', axis=0, inplace=True)\n",
    "loan.shape"
   ]
  },
  {
   "cell_type": "code",
   "execution_count": null,
   "metadata": {},
   "outputs": [],
   "source": [
    "loan.isna().sum()"
   ]
  },
  {
   "cell_type": "code",
   "execution_count": 12,
   "metadata": {},
   "outputs": [
    {
     "data": {
      "text/plain": [
       "20"
      ]
     },
     "execution_count": 12,
     "metadata": {},
     "output_type": "execute_result"
    }
   ],
   "source": [
    "final_loan_shap = ['loan_limit_by_application_id_sum', 'loan_rate', 'loan_limit_per_desired_amount',\n",
    "            'loan_rate_by_application_id_min', 'loan_limit', 'loan_rate_by_application_id_quantile_first',\n",
    "            'loan_rate_by_product_id_quantile_first', 'loan_rate_by_application_id_std', 'loan_rate_by_product_id_min',\n",
    "            'loan_rate_by_application_id_quantile_second', 'loan_rate_by_application_id_mean',\n",
    "            'loan_rate_by_application_id_max', 'desired_amount', 'loan_rate_by_bank_id_max', 'loan_rate_by_product_id_std',\n",
    "            'loan_rate_by_product_id_quantile_second', 'loan_rate_by_product_id_mean', 'loan_rate_by_product_id_quantile_third',\n",
    "            'loan_rate_by_bank_id_mean', 'loan_rate_by_application_id_quantile_third']\n",
    "            \n",
    "len(final_loan_shap)"
   ]
  },
  {
   "cell_type": "code",
   "execution_count": 13,
   "metadata": {},
   "outputs": [
    {
     "data": {
      "text/plain": [
       "22"
      ]
     },
     "execution_count": 13,
     "metadata": {},
     "output_type": "execute_result"
    }
   ],
   "source": [
    "# 최종적으로 선택된 변수만 붙이기\n",
    "loan = loan[['application_id'] + final_loan_shap + ['is_applied']]\n",
    "len(loan.columns)"
   ]
  },
  {
   "cell_type": "code",
   "execution_count": null,
   "metadata": {},
   "outputs": [],
   "source": [
    "loan.shape"
   ]
  },
  {
   "cell_type": "code",
   "execution_count": 15,
   "metadata": {},
   "outputs": [
    {
     "data": {
      "text/html": [
       "<div>\n",
       "<style scoped>\n",
       "    .dataframe tbody tr th:only-of-type {\n",
       "        vertical-align: middle;\n",
       "    }\n",
       "\n",
       "    .dataframe tbody tr th {\n",
       "        vertical-align: top;\n",
       "    }\n",
       "\n",
       "    .dataframe thead th {\n",
       "        text-align: right;\n",
       "    }\n",
       "</style>\n",
       "<table border=\"1\" class=\"dataframe\">\n",
       "  <thead>\n",
       "    <tr style=\"text-align: right;\">\n",
       "      <th></th>\n",
       "      <th>application_id</th>\n",
       "      <th>loan_limit_by_application_id_sum</th>\n",
       "      <th>loan_rate</th>\n",
       "      <th>loan_limit_per_desired_amount</th>\n",
       "      <th>loan_rate_by_application_id_min</th>\n",
       "      <th>loan_limit</th>\n",
       "      <th>loan_rate_by_application_id_quantile_first</th>\n",
       "      <th>loan_rate_by_product_id_quantile_first</th>\n",
       "      <th>loan_rate_by_application_id_std</th>\n",
       "      <th>loan_rate_by_product_id_min</th>\n",
       "      <th>...</th>\n",
       "      <th>loan_rate_by_application_id_max</th>\n",
       "      <th>desired_amount</th>\n",
       "      <th>loan_rate_by_bank_id_max</th>\n",
       "      <th>loan_rate_by_product_id_std</th>\n",
       "      <th>loan_rate_by_product_id_quantile_second</th>\n",
       "      <th>loan_rate_by_product_id_mean</th>\n",
       "      <th>loan_rate_by_product_id_quantile_third</th>\n",
       "      <th>loan_rate_by_bank_id_mean</th>\n",
       "      <th>loan_rate_by_application_id_quantile_third</th>\n",
       "      <th>is_applied</th>\n",
       "    </tr>\n",
       "  </thead>\n",
       "  <tbody>\n",
       "    <tr>\n",
       "      <th>1</th>\n",
       "      <td>576643</td>\n",
       "      <td>14000000.0</td>\n",
       "      <td>16.5</td>\n",
       "      <td>0.550</td>\n",
       "      <td>16.5</td>\n",
       "      <td>11000000.0</td>\n",
       "      <td>17.375</td>\n",
       "      <td>13.5</td>\n",
       "      <td>2.474874</td>\n",
       "      <td>8.5</td>\n",
       "      <td>...</td>\n",
       "      <td>20.0</td>\n",
       "      <td>20000000.0</td>\n",
       "      <td>18.5</td>\n",
       "      <td>2.317516</td>\n",
       "      <td>15.5</td>\n",
       "      <td>14.794090</td>\n",
       "      <td>16.5</td>\n",
       "      <td>13.297850</td>\n",
       "      <td>19.125</td>\n",
       "      <td>0.0</td>\n",
       "    </tr>\n",
       "    <tr>\n",
       "      <th>2</th>\n",
       "      <td>576643</td>\n",
       "      <td>14000000.0</td>\n",
       "      <td>20.0</td>\n",
       "      <td>0.150</td>\n",
       "      <td>16.5</td>\n",
       "      <td>3000000.0</td>\n",
       "      <td>17.375</td>\n",
       "      <td>16.4</td>\n",
       "      <td>2.474874</td>\n",
       "      <td>16.4</td>\n",
       "      <td>...</td>\n",
       "      <td>20.0</td>\n",
       "      <td>20000000.0</td>\n",
       "      <td>20.0</td>\n",
       "      <td>1.030253</td>\n",
       "      <td>17.1</td>\n",
       "      <td>17.273883</td>\n",
       "      <td>17.5</td>\n",
       "      <td>15.518372</td>\n",
       "      <td>19.125</td>\n",
       "      <td>0.0</td>\n",
       "    </tr>\n",
       "    <tr>\n",
       "      <th>3</th>\n",
       "      <td>2136706</td>\n",
       "      <td>927000000.0</td>\n",
       "      <td>13.5</td>\n",
       "      <td>0.125</td>\n",
       "      <td>6.2</td>\n",
       "      <td>10000000.0</td>\n",
       "      <td>11.800</td>\n",
       "      <td>10.9</td>\n",
       "      <td>2.970944</td>\n",
       "      <td>8.4</td>\n",
       "      <td>...</td>\n",
       "      <td>19.9</td>\n",
       "      <td>80000000.0</td>\n",
       "      <td>18.0</td>\n",
       "      <td>2.083258</td>\n",
       "      <td>13.1</td>\n",
       "      <td>12.737339</td>\n",
       "      <td>13.9</td>\n",
       "      <td>12.333438</td>\n",
       "      <td>16.000</td>\n",
       "      <td>0.0</td>\n",
       "    </tr>\n",
       "    <tr>\n",
       "      <th>4</th>\n",
       "      <td>2136706</td>\n",
       "      <td>927000000.0</td>\n",
       "      <td>15.9</td>\n",
       "      <td>0.275</td>\n",
       "      <td>6.2</td>\n",
       "      <td>22000000.0</td>\n",
       "      <td>11.800</td>\n",
       "      <td>16.9</td>\n",
       "      <td>2.970944</td>\n",
       "      <td>14.9</td>\n",
       "      <td>...</td>\n",
       "      <td>19.9</td>\n",
       "      <td>80000000.0</td>\n",
       "      <td>19.9</td>\n",
       "      <td>1.456557</td>\n",
       "      <td>17.9</td>\n",
       "      <td>18.112520</td>\n",
       "      <td>18.9</td>\n",
       "      <td>15.613676</td>\n",
       "      <td>16.000</td>\n",
       "      <td>0.0</td>\n",
       "    </tr>\n",
       "    <tr>\n",
       "      <th>5</th>\n",
       "      <td>2136706</td>\n",
       "      <td>927000000.0</td>\n",
       "      <td>18.4</td>\n",
       "      <td>0.125</td>\n",
       "      <td>6.2</td>\n",
       "      <td>10000000.0</td>\n",
       "      <td>11.800</td>\n",
       "      <td>15.5</td>\n",
       "      <td>2.970944</td>\n",
       "      <td>13.7</td>\n",
       "      <td>...</td>\n",
       "      <td>19.9</td>\n",
       "      <td>80000000.0</td>\n",
       "      <td>19.4</td>\n",
       "      <td>1.334597</td>\n",
       "      <td>16.5</td>\n",
       "      <td>16.642952</td>\n",
       "      <td>17.5</td>\n",
       "      <td>14.122311</td>\n",
       "      <td>16.000</td>\n",
       "      <td>0.0</td>\n",
       "    </tr>\n",
       "  </tbody>\n",
       "</table>\n",
       "<p>5 rows × 22 columns</p>\n",
       "</div>"
      ],
      "text/plain": [
       "   application_id  loan_limit_by_application_id_sum  loan_rate  \\\n",
       "1          576643                        14000000.0       16.5   \n",
       "2          576643                        14000000.0       20.0   \n",
       "3         2136706                       927000000.0       13.5   \n",
       "4         2136706                       927000000.0       15.9   \n",
       "5         2136706                       927000000.0       18.4   \n",
       "\n",
       "   loan_limit_per_desired_amount  loan_rate_by_application_id_min  loan_limit  \\\n",
       "1                          0.550                             16.5  11000000.0   \n",
       "2                          0.150                             16.5   3000000.0   \n",
       "3                          0.125                              6.2  10000000.0   \n",
       "4                          0.275                              6.2  22000000.0   \n",
       "5                          0.125                              6.2  10000000.0   \n",
       "\n",
       "   loan_rate_by_application_id_quantile_first  \\\n",
       "1                                      17.375   \n",
       "2                                      17.375   \n",
       "3                                      11.800   \n",
       "4                                      11.800   \n",
       "5                                      11.800   \n",
       "\n",
       "   loan_rate_by_product_id_quantile_first  loan_rate_by_application_id_std  \\\n",
       "1                                    13.5                         2.474874   \n",
       "2                                    16.4                         2.474874   \n",
       "3                                    10.9                         2.970944   \n",
       "4                                    16.9                         2.970944   \n",
       "5                                    15.5                         2.970944   \n",
       "\n",
       "   loan_rate_by_product_id_min  ...  loan_rate_by_application_id_max  \\\n",
       "1                          8.5  ...                             20.0   \n",
       "2                         16.4  ...                             20.0   \n",
       "3                          8.4  ...                             19.9   \n",
       "4                         14.9  ...                             19.9   \n",
       "5                         13.7  ...                             19.9   \n",
       "\n",
       "   desired_amount  loan_rate_by_bank_id_max  loan_rate_by_product_id_std  \\\n",
       "1      20000000.0                      18.5                     2.317516   \n",
       "2      20000000.0                      20.0                     1.030253   \n",
       "3      80000000.0                      18.0                     2.083258   \n",
       "4      80000000.0                      19.9                     1.456557   \n",
       "5      80000000.0                      19.4                     1.334597   \n",
       "\n",
       "   loan_rate_by_product_id_quantile_second  loan_rate_by_product_id_mean  \\\n",
       "1                                     15.5                     14.794090   \n",
       "2                                     17.1                     17.273883   \n",
       "3                                     13.1                     12.737339   \n",
       "4                                     17.9                     18.112520   \n",
       "5                                     16.5                     16.642952   \n",
       "\n",
       "   loan_rate_by_product_id_quantile_third  loan_rate_by_bank_id_mean  \\\n",
       "1                                    16.5                  13.297850   \n",
       "2                                    17.5                  15.518372   \n",
       "3                                    13.9                  12.333438   \n",
       "4                                    18.9                  15.613676   \n",
       "5                                    17.5                  14.122311   \n",
       "\n",
       "   loan_rate_by_application_id_quantile_third  is_applied  \n",
       "1                                      19.125         0.0  \n",
       "2                                      19.125         0.0  \n",
       "3                                      16.000         0.0  \n",
       "4                                      16.000         0.0  \n",
       "5                                      16.000         0.0  \n",
       "\n",
       "[5 rows x 22 columns]"
      ]
     },
     "execution_count": 15,
     "metadata": {},
     "output_type": "execute_result"
    }
   ],
   "source": [
    "loan.head()"
   ]
  },
  {
   "attachments": {},
   "cell_type": "markdown",
   "metadata": {},
   "source": [
    "### user + loan (merge the two DataFrames)"
   ]
  },
  {
   "cell_type": "code",
   "execution_count": 16,
   "metadata": {},
   "outputs": [],
   "source": [
    "# index 통일\n",
    "user.set_index(['application_id'], inplace=True)\n",
    "loan.set_index(['application_id'], inplace=True)"
   ]
  },
  {
   "cell_type": "code",
   "execution_count": 17,
   "metadata": {},
   "outputs": [
    {
     "data": {
      "text/plain": [
       "(10132997, 42)"
      ]
     },
     "execution_count": 17,
     "metadata": {},
     "output_type": "execute_result"
    }
   ],
   "source": [
    "final_data = pd.merge(left=user, right=loan, left_index=True, right_index=True, how=\"right\")\n",
    "final_data.shape # (10132997,)랑 같아야"
   ]
  },
  {
   "cell_type": "code",
   "execution_count": null,
   "metadata": {},
   "outputs": [],
   "source": [
    "final_data.isna().sum()"
   ]
  },
  {
   "cell_type": "code",
   "execution_count": 27,
   "metadata": {},
   "outputs": [
    {
     "data": {
      "text/plain": [
       "Int64Index([      2,       3,       6,      14,      17,      19,      20,\n",
       "                 22,      34,      36,\n",
       "            ...\n",
       "            2167798, 2167803, 2167805, 2167806, 2167809, 2167811, 2167816,\n",
       "            2167817, 2167819, 2167826],\n",
       "           dtype='int64', name='application_id', length=723526)"
      ]
     },
     "execution_count": 27,
     "metadata": {},
     "output_type": "execute_result"
    }
   ],
   "source": [
    "user.index.unique().sort_values()"
   ]
  },
  {
   "cell_type": "code",
   "execution_count": null,
   "metadata": {},
   "outputs": [],
   "source": [
    "final_data['is_applied'].value_counts()"
   ]
  },
  {
   "cell_type": "code",
   "execution_count": null,
   "metadata": {},
   "outputs": [],
   "source": [
    "# 단 하나의 null 값이라도 포함된 행은 모두 제거\n",
    "final_data = final_data.dropna(how='any',axis=0)\n",
    "final_data.shape"
   ]
  },
  {
   "cell_type": "code",
   "execution_count": null,
   "metadata": {},
   "outputs": [],
   "source": [
    "# 행 제거한 이후 count\n",
    "final_data['is_applied'].value_counts()"
   ]
  },
  {
   "cell_type": "code",
   "execution_count": 31,
   "metadata": {},
   "outputs": [],
   "source": [
    "# 최종 데이터 저장\n",
    "with gzip.open('../preprocessed/final_data.pickle','wb') as f:\n",
    "    pickle.dump(final_data, f, pickle.HIGHEST_PROTOCOL)"
   ]
  }
 ],
 "metadata": {
  "kernelspec": {
   "display_name": "Python 3.8.13 ('ryuvenv': conda)",
   "language": "python",
   "name": "python3"
  },
  "language_info": {
   "codemirror_mode": {
    "name": "ipython",
    "version": 3
   },
   "file_extension": ".py",
   "mimetype": "text/x-python",
   "name": "python",
   "nbconvert_exporter": "python",
   "pygments_lexer": "ipython3",
   "version": "3.8.13"
  },
  "orig_nbformat": 4,
  "vscode": {
   "interpreter": {
    "hash": "db4a054fa3485500d815f3fdd1ed0c3e4f2427f3103f3684095f07e4b5b8fabd"
   }
  }
 },
 "nbformat": 4,
 "nbformat_minor": 2
}
